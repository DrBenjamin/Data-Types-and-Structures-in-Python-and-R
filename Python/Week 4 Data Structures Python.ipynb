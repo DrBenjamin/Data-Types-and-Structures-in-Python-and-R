{
 "cells": [
  {
   "cell_type": "markdown",
   "id": "50650361",
   "metadata": {},
   "source": [
    "# Essential Data Structures in Python\n",
    "## Week 4 "
   ]
  },
  {
   "cell_type": "markdown",
   "id": "47fae6f0",
   "metadata": {},
   "source": [
    "This notebook has 4 sections, corresponding to the topics covered this week: \n",
    "1. List\n",
    "    - 1.1 List comprehension \n",
    "    - 1.2 Working with lists \n",
    "2. Array\n",
    "    - 2.1 Creating arrays \n",
    "    - 2.2 Reshaping arrays \n",
    "    - 2.3 Array Truthy and Falsy\n",
    "3. Dictionary\n",
    "    - 3.1 Dictionary comprehension \n",
    "4. Data frame\n",
    "    - 4.2 the Index \n",
    "    - 4.2 Working with data frames\n",
    "    - 4.3 Missing values in data frames "
   ]
  },
  {
   "cell_type": "code",
   "execution_count": 1,
   "id": "c4d52c79",
   "metadata": {},
   "outputs": [],
   "source": [
    "# start by loading required packages and modules \n",
    "import pandas as pd \n",
    "import numpy as np"
   ]
  },
  {
   "cell_type": "markdown",
   "id": "26d13970",
   "metadata": {},
   "source": [
    "## 1. List \n",
    "\n",
    "We can create lists in Python using square brackets `[]`. Lists are heterogenous data structures, so they can include data elements of various data types, including lists themselves!"
   ]
  },
  {
   "cell_type": "code",
   "execution_count": 2,
   "id": "a055e123",
   "metadata": {},
   "outputs": [
    {
     "name": "stdout",
     "output_type": "stream",
     "text": [
      "['cat', 'dog', 45.3, 'horse', 'fish', 68]\n"
     ]
    }
   ],
   "source": [
    "list_a = [\"cat\", \"dog\", 45.3, \"horse\", \"fish\", 68]\n",
    "\n",
    "print(list_a)"
   ]
  },
  {
   "cell_type": "code",
   "execution_count": 3,
   "id": "9af4741d",
   "metadata": {},
   "outputs": [
    {
     "name": "stdout",
     "output_type": "stream",
     "text": [
      "cat\n"
     ]
    }
   ],
   "source": [
    "print(list_a[0])"
   ]
  },
  {
   "cell_type": "code",
   "execution_count": 4,
   "id": "548427ff",
   "metadata": {
    "scrolled": false
   },
   "outputs": [
    {
     "name": "stdout",
     "output_type": "stream",
     "text": [
      "fish\n"
     ]
    }
   ],
   "source": [
    "print(list_a[-2])"
   ]
  },
  {
   "cell_type": "markdown",
   "id": "f99b71c5",
   "metadata": {},
   "source": [
    "As a built-in data structure, there are a lot of useful functions when working with lists. To see these type the name of the list object followed by a dot and hit the [TAB] key."
   ]
  },
  {
   "cell_type": "code",
   "execution_count": null,
   "id": "d68a6edd",
   "metadata": {},
   "outputs": [],
   "source": [
    "## try it here - put your cursor after the . and hit [TAB]\n",
    "list_a."
   ]
  },
  {
   "cell_type": "markdown",
   "id": "23e81ca7",
   "metadata": {},
   "source": [
    "We can also request information about lists, such as the length using `len()`:"
   ]
  },
  {
   "cell_type": "code",
   "execution_count": 5,
   "id": "0012cd9b",
   "metadata": {},
   "outputs": [
    {
     "data": {
      "text/plain": [
       "6"
      ]
     },
     "execution_count": 5,
     "metadata": {},
     "output_type": "execute_result"
    }
   ],
   "source": [
    "len(list_a)"
   ]
  },
  {
   "cell_type": "markdown",
   "id": "6cdf3f72",
   "metadata": {},
   "source": [
    "### 1.1 **List comprehension** \n",
    "is an elegant way of creating lists, often with a single line of code. Compare the following two cells, both of which produce the same output - namely, a new list containing only fruits with the letter `\"a\"` in the name. \n",
    "\n",
    "List comprehension offers a streamlined syntax as follows: \n",
    "* `newlist = [expression for item in iterable if condition == True]`"
   ]
  },
  {
   "cell_type": "code",
   "execution_count": 6,
   "id": "765eade2",
   "metadata": {},
   "outputs": [
    {
     "name": "stdout",
     "output_type": "stream",
     "text": [
      "['apple', 'banana', 'mango']\n"
     ]
    }
   ],
   "source": [
    "fruits = [\"apple\", \"banana\", \"cherry\", \"kiwi\", \"mango\"]\n",
    "# create an empty list \n",
    "newlist = []\n",
    "\n",
    "# use a function to fill the empty list \n",
    "for x in fruits:\n",
    "    if \"a\" in x:\n",
    "        newlist.append(x)\n",
    "\n",
    "print(newlist)"
   ]
  },
  {
   "cell_type": "code",
   "execution_count": 7,
   "id": "ac4c8fe0",
   "metadata": {
    "scrolled": true
   },
   "outputs": [
    {
     "name": "stdout",
     "output_type": "stream",
     "text": [
      "['apple', 'banana', 'mango']\n"
     ]
    }
   ],
   "source": [
    "## list comprehension solution \n",
    "newlist_comp = [x for x in fruits if \"a\" in x]\n",
    "\n",
    "print(newlist_comp)"
   ]
  },
  {
   "cell_type": "markdown",
   "id": "8d6f8dd8",
   "metadata": {},
   "source": [
    "### 1.2 Working with lists \n",
    "\n",
    "To add an item to the end of a list, for example, we can use `listobject.append()`. "
   ]
  },
  {
   "cell_type": "code",
   "execution_count": 8,
   "id": "50402263",
   "metadata": {},
   "outputs": [
    {
     "name": "stdout",
     "output_type": "stream",
     "text": [
      "['cat', 'dog', 45.3, 'horse', 'fish', 68, 'antelope']\n"
     ]
    }
   ],
   "source": [
    "list_a.append(\"antelope\")\n",
    "\n",
    "print(list_a) \n",
    "\n",
    "## run this code cell a few times and see what happens"
   ]
  },
  {
   "cell_type": "markdown",
   "id": "9df1fe92",
   "metadata": {},
   "source": [
    "To remove a specific item from a list we can use `listobject.remove()`"
   ]
  },
  {
   "cell_type": "code",
   "execution_count": 9,
   "id": "156a8679",
   "metadata": {},
   "outputs": [
    {
     "name": "stdout",
     "output_type": "stream",
     "text": [
      "['cat', 'dog', 'horse', 'fish', 68, 'antelope']\n"
     ]
    }
   ],
   "source": [
    "list_a.remove(45.3)\n",
    "\n",
    "print(list_a)"
   ]
  },
  {
   "cell_type": "markdown",
   "id": "2f2ba70b",
   "metadata": {},
   "source": [
    "We can join two lists together in Python by simply using the `+` sign "
   ]
  },
  {
   "cell_type": "code",
   "execution_count": 10,
   "id": "26307e0c",
   "metadata": {
    "scrolled": false
   },
   "outputs": [
    {
     "data": {
      "text/plain": [
       "['cat',\n",
       " 'dog',\n",
       " 'horse',\n",
       " 'fish',\n",
       " 68,\n",
       " 'antelope',\n",
       " 'apple',\n",
       " 'banana',\n",
       " 'cherry',\n",
       " 'kiwi',\n",
       " 'mango']"
      ]
     },
     "execution_count": 10,
     "metadata": {},
     "output_type": "execute_result"
    }
   ],
   "source": [
    "list_a + fruits"
   ]
  },
  {
   "cell_type": "markdown",
   "id": "671c159b",
   "metadata": {},
   "source": [
    "You can sequentially iterate over a list using a for loop. In Python, we use a \"for in\" loop construction which is similiar to \"for each\" loops you find in C++ and Java. For Loop Syntax is as follows: \n",
    "\n",
    "` for iterator in sequence: \n",
    "     statements(s)`\n",
    "\n",
    "Note that white space indendtation, as mentioned in Week 1, is important here! If you go to a new line after the colon `:` (by pressing ENTER, Jupyter will automatically do this indentation for you. "
   ]
  },
  {
   "cell_type": "code",
   "execution_count": 11,
   "id": "6281ed3e",
   "metadata": {
    "scrolled": false
   },
   "outputs": [
    {
     "name": "stdout",
     "output_type": "stream",
     "text": [
      "cat\n",
      "dog\n",
      "horse\n",
      "fish\n",
      "68\n",
      "antelope\n"
     ]
    }
   ],
   "source": [
    "# using a for loop to iterate over a list and print each element \n",
    "## using range(len(list)) to obtain the index of each element \n",
    "for i in range(len(list_a)):\n",
    "    print( list_a[i] )"
   ]
  },
  {
   "cell_type": "markdown",
   "id": "29eb65e4",
   "metadata": {},
   "source": [
    "As mentioned above lists can be comprised of more lists, this results in a list of lists being comprised of 2 dimensions. We can index such a list with `list[dim1][dim2]`. Let's see how this works."
   ]
  },
  {
   "cell_type": "code",
   "execution_count": 12,
   "id": "56bd187f",
   "metadata": {},
   "outputs": [
    {
     "name": "stdout",
     "output_type": "stream",
     "text": [
      "[[3, 4, 5, 6, 7], [30, 40, 50, 60, 70]]\n",
      "[3, 4, 5, 6, 7]\n",
      "3\n"
     ]
    }
   ],
   "source": [
    "# let's create a two-dimensional list:\n",
    "list_of_lists = [[3,4,5,6,7], [30,40,50,60,70]] \n",
    "\n",
    "# print the big list\n",
    "print(list_of_lists) \n",
    "\n",
    "# print first sub-list\n",
    "print(list_of_lists[0]) \n",
    "\n",
    "# print first number in first sub-list\n",
    "print(list_of_lists[0][0])"
   ]
  },
  {
   "cell_type": "code",
   "execution_count": 13,
   "id": "46c2240d",
   "metadata": {
    "scrolled": true
   },
   "outputs": [
    {
     "name": "stdout",
     "output_type": "stream",
     "text": [
      "60\n",
      "7\n"
     ]
    }
   ],
   "source": [
    "# remember indexes count from 0. So first element has index 0, second index 1, third index 2, etc\n",
    "# to go into the second list, then to its fourth element (which should have value 60), you would use\n",
    "print(list_of_lists[1][3])\n",
    "\n",
    "# negative numbers count from the end\n",
    "# to get from the first list its last element (which should be 7), you would use\n",
    "print(list_of_lists[0][-1])"
   ]
  },
  {
   "cell_type": "markdown",
   "id": "ebdd22eb",
   "metadata": {},
   "source": [
    "In most instances, your data will have many dimensions. As a recap: \n",
    "    \n",
    "- a variable has **zero dimensions** - you do not need any more index/address to know what's in it\n",
    "- a list/array has **one dimension** - index is the way to address individual items in a list\n",
    "- a list of lists has **two dimensions** - index of the top list, and then an index of the inner list  "
   ]
  },
  {
   "cell_type": "markdown",
   "id": "6c92ff30",
   "metadata": {},
   "source": [
    "## 2. Array \n",
    "\n",
    "Array is is basically like a List, but has a number of new very powerful methods and syntax that make data operations easier and faster. Theoretically you could do everything that we do with Arrays by just using good old Lists, but it would take more time and be less compatible with other libraries.\n",
    "\n",
    "To create an Array, you can cast a list into `np.array(your_list)`. Notice the `np.array` at the begining - it means that you are using the `array class` from the ```np``` library. `np` is a short name for `numpy` (which we gave it in `import numpy as np` at the top of this notebook)\n",
    "\n",
    "To work with array data structures, we need to `NumPy` package. In fact, `NumPy` was designed specifically to perform numerical operations with n-dimensional arrays. Arrays store values of the same data type. The NumPy vectorization of arrays significantly enhances performance and accelerates the speed of computing operations."
   ]
  },
  {
   "cell_type": "code",
   "execution_count": 14,
   "id": "b93699d6",
   "metadata": {},
   "outputs": [
    {
     "name": "stdout",
     "output_type": "stream",
     "text": [
      "[3, 7, 5, 5]\n"
     ]
    }
   ],
   "source": [
    "my_list = [3, 7, 5, 5]\n",
    "print(my_list)"
   ]
  },
  {
   "cell_type": "code",
   "execution_count": 15,
   "id": "6ad8cabc",
   "metadata": {},
   "outputs": [
    {
     "name": "stdout",
     "output_type": "stream",
     "text": [
      "[3 7 5 5]\n",
      "[3 0 5 0]\n"
     ]
    }
   ],
   "source": [
    "# you can create an array by feeding in a List directly or as a data object:\n",
    "my_array = np.array(my_list)\n",
    "print(my_array)\n",
    "\n",
    "my_array2 = np.array([3, 0, 5, 0])\n",
    "print(my_array2)\n",
    "\n",
    "# notice it is printed a bit differently than a list! \n",
    "# the commas are not present compared to the list print out in the cell above"
   ]
  },
  {
   "cell_type": "markdown",
   "id": "a95fbb52",
   "metadata": {},
   "source": [
    "Arrays are often used in situations where there are many dimensions. So a grid of \n",
    "\n",
    "`\n",
    "1,  2,  3,  4\n",
    "11, 12, 13, 14\n",
    "21, 22, 23, 24\n",
    "`\n",
    "\n",
    "Can be represented as:"
   ]
  },
  {
   "cell_type": "code",
   "execution_count": 16,
   "id": "82854d71",
   "metadata": {},
   "outputs": [
    {
     "name": "stdout",
     "output_type": "stream",
     "text": [
      "[[ 1  2  3  4]\n",
      " [11 12 13 14]\n",
      " [21 22 23 24]]\n",
      "<class 'numpy.ndarray'>\n"
     ]
    }
   ],
   "source": [
    "scores = np.array([ [1, 2, 3, 4],\n",
    "                    [11, 12, 13, 14],\n",
    "                    [21, 22, 23, 24]\n",
    "                   ])\n",
    "# do you see it? A list with 3 lists, each with 4 items inside!\n",
    "\n",
    "print(scores)\n",
    "\n",
    "# let's print what type of a thing it is:\n",
    "print(type(scores))"
   ]
  },
  {
   "cell_type": "markdown",
   "id": "913aecde",
   "metadata": {},
   "source": [
    "`Numpy` arrays bring with them a new addressing style. We can use `array[first_dimension, second_dimension, third_dimension, ....]`, meaning you can pass an index of each next dimension separated by commas. You can use the same style (pure Python way) as with lists we looked at above ```my_list[first_dimention][second_dimention]```, but using a single square brackets with commas for dimensions is more common. Let's see how this works with some multidimensional arrays"
   ]
  },
  {
   "cell_type": "code",
   "execution_count": 17,
   "id": "8ea02b32",
   "metadata": {},
   "outputs": [
    {
     "name": "stdout",
     "output_type": "stream",
     "text": [
      "1\n",
      "2\n",
      "13\n",
      "14\n",
      "24\n"
     ]
    }
   ],
   "source": [
    "## above we created a multidimensional array called scores \n",
    "print(scores[0, 0])\n",
    "print(scores[0, 1])\n",
    "print(scores[1, 2])\n",
    "print(scores[1, -1])\n",
    "print(scores[-1, -1])\n",
    "\n",
    "# look at the printed output and see if you understand why these numbers are printed"
   ]
  },
  {
   "cell_type": "markdown",
   "id": "22fe92cd",
   "metadata": {},
   "source": [
    "We can use the index to not only get a value, but also change it. "
   ]
  },
  {
   "cell_type": "code",
   "execution_count": 18,
   "id": "e5f88598",
   "metadata": {
    "scrolled": true
   },
   "outputs": [
    {
     "name": "stdout",
     "output_type": "stream",
     "text": [
      "[[10 20  3  4]\n",
      " [11 12 13 44]\n",
      " [21 22 23 64]]\n"
     ]
    }
   ],
   "source": [
    "# let's change some items\n",
    "\n",
    "# reassign values \n",
    "scores[0,0] = 10\n",
    "scores[0,1] = 20\n",
    "\n",
    "# change values mathamatically \n",
    "scores[1,3] += 30\n",
    "scores[-1,-1] += 40\n",
    "\n",
    "print(scores)"
   ]
  },
  {
   "cell_type": "markdown",
   "id": "118e7a99",
   "metadata": {},
   "source": [
    "You can also ommit one of the dimensions, and replace everything in a row or column. Use colon `:` to indicate 'everything'"
   ]
  },
  {
   "cell_type": "code",
   "execution_count": 19,
   "id": "22aa69c0",
   "metadata": {},
   "outputs": [
    {
     "name": "stdout",
     "output_type": "stream",
     "text": [
      "[[10 10 10 10]\n",
      " [11 12 13 14]\n",
      " [21 22 23 24]]\n"
     ]
    }
   ],
   "source": [
    "scores = np.array([ [1,  2,   3,  4],\n",
    "                    [11, 12, 13, 14],\n",
    "                    [21, 22, 23, 24]\n",
    "                   ])\n",
    " \n",
    "scores[0,:] = 10 \n",
    "print(scores)\n",
    "# first dimention: value 0, second dimention: all values\n",
    "# note you could also use simpler version scores[0] = 10"
   ]
  },
  {
   "cell_type": "code",
   "execution_count": 20,
   "id": "ef790159",
   "metadata": {
    "scrolled": false
   },
   "outputs": [
    {
     "name": "stdout",
     "output_type": "stream",
     "text": [
      "[[ 1  2 30  4]\n",
      " [11 12 30 14]\n",
      " [21 22 30 24]]\n"
     ]
    }
   ],
   "source": [
    "scores = np.array([ [1,  2,   3,  4],\n",
    "                    [11, 12, 13, 14],\n",
    "                    [21, 22, 23, 24]\n",
    "                   ])\n",
    " \n",
    "scores[:,2] = 30  \n",
    "print(scores)\n",
    "# first dimention: all values, second dimention: value 2\n",
    "# note but here you cannot simplify it to scores[,2] = 30"
   ]
  },
  {
   "cell_type": "markdown",
   "id": "90ef67c3",
   "metadata": {},
   "source": [
    "To slice arrays there is a new syntax, which can be used in lists and data frames as well! ` my_array[start_index : stop_index : step/jump]`"
   ]
  },
  {
   "cell_type": "code",
   "execution_count": 21,
   "id": "1346f39e",
   "metadata": {},
   "outputs": [
    {
     "name": "stdout",
     "output_type": "stream",
     "text": [
      "[10 11 12 13 14 15 16 17 18 19]\n",
      "[12 14 16]\n"
     ]
    }
   ],
   "source": [
    "digits = np.arange(10,20)\n",
    "print(digits)\n",
    "print(digits[2:7:2]) # from index 2, till index 7, jumping every 2"
   ]
  },
  {
   "cell_type": "code",
   "execution_count": 22,
   "id": "1ee06c3a",
   "metadata": {},
   "outputs": [
    {
     "name": "stdout",
     "output_type": "stream",
     "text": [
      "[10 12 14 16]\n"
     ]
    }
   ],
   "source": [
    "print(digits[:7:2]) # from beginning, till index 7, jumping every 2"
   ]
  },
  {
   "cell_type": "code",
   "execution_count": 23,
   "id": "8ebfd668",
   "metadata": {},
   "outputs": [
    {
     "name": "stdout",
     "output_type": "stream",
     "text": [
      "[12 14 16 18]\n"
     ]
    }
   ],
   "source": [
    "print(digits[2::2]) # from index 2, till end, jumping every 2"
   ]
  },
  {
   "cell_type": "code",
   "execution_count": 24,
   "id": "850385dd",
   "metadata": {},
   "outputs": [
    {
     "name": "stdout",
     "output_type": "stream",
     "text": [
      "[10 12 14 16 18]\n"
     ]
    }
   ],
   "source": [
    "print(digits[::2]) # all, jumping every 2"
   ]
  },
  {
   "cell_type": "code",
   "execution_count": 25,
   "id": "65b9746a",
   "metadata": {
    "scrolled": true
   },
   "outputs": [
    {
     "name": "stdout",
     "output_type": "stream",
     "text": [
      "[19 18 17 16 15 14 13 12 11 10]\n",
      "[19 16 13 10]\n"
     ]
    }
   ],
   "source": [
    "# with negative step/jump the array gets reversed\n",
    "print(digits[::-1]) # all, but index counting down\n",
    "print(digits[::-3]) # all, but index counting down every 3"
   ]
  },
  {
   "cell_type": "markdown",
   "id": "2b4c9d0a",
   "metadata": {},
   "source": [
    "There is a variety of information you can request about arrays with methods including: \n",
    "* dimension with `.ndim`\n",
    "* shape with `.shape`\n",
    "* size with `.size`\n",
    "* data type with `.dtype`"
   ]
  },
  {
   "cell_type": "code",
   "execution_count": 26,
   "id": "0bd0ffab",
   "metadata": {
    "scrolled": false
   },
   "outputs": [
    {
     "name": "stdout",
     "output_type": "stream",
     "text": [
      "dimensions: 2\n",
      "shape: (3, 4)\n",
      "size: 12\n",
      "data type: int64\n"
     ]
    }
   ],
   "source": [
    "# you can request some info about a multi-dimensional Arrays:\n",
    "scores = np.array([ [1, 2, 3, 4],\n",
    "                    [11, 12, 13, 14],\n",
    "                    [21, 22, 23, 24]\n",
    "                   ])\n",
    "\n",
    "print(\"dimensions:\", scores.ndim)\n",
    "print(\"shape:\", scores.shape)\n",
    "print(\"size:\", scores.size)\n",
    "print(\"data type:\", scores.dtype)"
   ]
  },
  {
   "cell_type": "markdown",
   "id": "5edc91fa",
   "metadata": {},
   "source": [
    "### Creating arrays \n",
    "\n",
    "You can specify the default value and type of your new empty array:\n",
    "\n",
    "- full of zeros with `np.zeros()`\n",
    "- full of ones with `np.ones()`\n",
    "- full of some other value with `np.full(some_value)`\n",
    "- full of random values"
   ]
  },
  {
   "cell_type": "code",
   "execution_count": null,
   "id": "d9bc8d66",
   "metadata": {},
   "outputs": [],
   "source": [
    "np.zeros(4)"
   ]
  },
  {
   "cell_type": "markdown",
   "id": "1700a747",
   "metadata": {},
   "source": [
    "As you can see, by default the values created are floats. But you can specify the data type with the `dtype` argument. It is good practice when creating arrays with specified values to be explicitly cast with the desired data type. "
   ]
  },
  {
   "cell_type": "code",
   "execution_count": 27,
   "id": "fb5cc8fd",
   "metadata": {},
   "outputs": [
    {
     "data": {
      "text/plain": [
       "array([0, 0, 0, 0, 0])"
      ]
     },
     "execution_count": 27,
     "metadata": {},
     "output_type": "execute_result"
    }
   ],
   "source": [
    "np.zeros(5, dtype = 'int')"
   ]
  },
  {
   "cell_type": "code",
   "execution_count": 28,
   "id": "18ccbbd5",
   "metadata": {},
   "outputs": [
    {
     "data": {
      "text/plain": [
       "array([False, False, False, False, False])"
      ]
     },
     "execution_count": 28,
     "metadata": {},
     "output_type": "execute_result"
    }
   ],
   "source": [
    "np.zeros(5, dtype = 'bool')"
   ]
  },
  {
   "cell_type": "markdown",
   "id": "68eb11d5",
   "metadata": {},
   "source": [
    "You can also create multi-dimentional arrays with sizes of all dimentions in a tuple (which we will learn more about next week - essentially it is a immuntable list made with `()`):\n",
    "\n",
    "- `(10)` - array of 10 elements\n",
    "- `(5,10)` - 5 sets of 10 elements\n",
    "- `(3,5,10)` - 3 sets of 5 sets of 10 elements"
   ]
  },
  {
   "cell_type": "code",
   "execution_count": 29,
   "id": "aad0913d",
   "metadata": {},
   "outputs": [
    {
     "data": {
      "text/plain": [
       "array([0., 0., 0., 0., 0., 0., 0., 0., 0., 0.])"
      ]
     },
     "execution_count": 29,
     "metadata": {},
     "output_type": "execute_result"
    }
   ],
   "source": [
    "np.zeros((10), dtype = float)"
   ]
  },
  {
   "cell_type": "code",
   "execution_count": 30,
   "id": "a32ea588",
   "metadata": {},
   "outputs": [
    {
     "data": {
      "text/plain": [
       "array([[0, 0, 0, 0, 0, 0, 0, 0, 0, 0],\n",
       "       [0, 0, 0, 0, 0, 0, 0, 0, 0, 0],\n",
       "       [0, 0, 0, 0, 0, 0, 0, 0, 0, 0],\n",
       "       [0, 0, 0, 0, 0, 0, 0, 0, 0, 0],\n",
       "       [0, 0, 0, 0, 0, 0, 0, 0, 0, 0]])"
      ]
     },
     "execution_count": 30,
     "metadata": {},
     "output_type": "execute_result"
    }
   ],
   "source": [
    "np.zeros((5,10), dtype = int)"
   ]
  },
  {
   "cell_type": "code",
   "execution_count": 31,
   "id": "8c8092cf",
   "metadata": {
    "scrolled": true
   },
   "outputs": [
    {
     "data": {
      "text/plain": [
       "array([[[0, 0, 0, 0, 0, 0, 0, 0, 0, 0],\n",
       "        [0, 0, 0, 0, 0, 0, 0, 0, 0, 0],\n",
       "        [0, 0, 0, 0, 0, 0, 0, 0, 0, 0],\n",
       "        [0, 0, 0, 0, 0, 0, 0, 0, 0, 0],\n",
       "        [0, 0, 0, 0, 0, 0, 0, 0, 0, 0]],\n",
       "\n",
       "       [[0, 0, 0, 0, 0, 0, 0, 0, 0, 0],\n",
       "        [0, 0, 0, 0, 0, 0, 0, 0, 0, 0],\n",
       "        [0, 0, 0, 0, 0, 0, 0, 0, 0, 0],\n",
       "        [0, 0, 0, 0, 0, 0, 0, 0, 0, 0],\n",
       "        [0, 0, 0, 0, 0, 0, 0, 0, 0, 0]],\n",
       "\n",
       "       [[0, 0, 0, 0, 0, 0, 0, 0, 0, 0],\n",
       "        [0, 0, 0, 0, 0, 0, 0, 0, 0, 0],\n",
       "        [0, 0, 0, 0, 0, 0, 0, 0, 0, 0],\n",
       "        [0, 0, 0, 0, 0, 0, 0, 0, 0, 0],\n",
       "        [0, 0, 0, 0, 0, 0, 0, 0, 0, 0]]])"
      ]
     },
     "execution_count": 31,
     "metadata": {},
     "output_type": "execute_result"
    }
   ],
   "source": [
    "np.zeros((3, 5,10), dtype = int)"
   ]
  },
  {
   "cell_type": "markdown",
   "id": "496d6094",
   "metadata": {},
   "source": [
    "You can also specify values other than zero with `np.ones( dimensions )` or with `np.full(dimensions, value)`"
   ]
  },
  {
   "cell_type": "code",
   "execution_count": 32,
   "id": "1bbeb548",
   "metadata": {},
   "outputs": [
    {
     "data": {
      "text/plain": [
       "array([[1, 1, 1, 1, 1],\n",
       "       [1, 1, 1, 1, 1]])"
      ]
     },
     "execution_count": 32,
     "metadata": {},
     "output_type": "execute_result"
    }
   ],
   "source": [
    "np.ones((2,5), dtype = int)"
   ]
  },
  {
   "cell_type": "code",
   "execution_count": 33,
   "id": "bb22456b",
   "metadata": {
    "scrolled": true
   },
   "outputs": [
    {
     "data": {
      "text/plain": [
       "array([[3.14, 3.14, 3.14, 3.14, 3.14],\n",
       "       [3.14, 3.14, 3.14, 3.14, 3.14]])"
      ]
     },
     "execution_count": 33,
     "metadata": {},
     "output_type": "execute_result"
    }
   ],
   "source": [
    "np.full((2,5), 3.14)"
   ]
  },
  {
   "cell_type": "code",
   "execution_count": 34,
   "id": "e1b785aa",
   "metadata": {
    "scrolled": true
   },
   "outputs": [
    {
     "name": "stdout",
     "output_type": "stream",
     "text": [
      "[[1 1 1 1 1]\n",
      " [1 1 1 1 1]]\n",
      "[[1 1 1 1 1]\n",
      " [1 1 1 1 1]]\n"
     ]
    }
   ],
   "source": [
    "# so as you can these two do the same thing:\n",
    "print(np.ones((2,5), dtype = int))\n",
    "print(np.full((2,5), 1))\n",
    "\n",
    "# in programming there are often multiple ways of doing the same thing! "
   ]
  },
  {
   "cell_type": "markdown",
   "id": "09b35cbf",
   "metadata": {},
   "source": [
    "You can also create values\n",
    "\n",
    "- from a range with `np.arange(start, top, jump)`\n",
    "- with even split between two values `np.linspace(start, end, slices)`\n",
    "- indentity matrix with `eye(size)`\n",
    "- to repeat a pattern with `np.tile()`\n",
    "- full of random data with `np.random.randint(max_value, size = (size_tuple))`"
   ]
  },
  {
   "cell_type": "code",
   "execution_count": 35,
   "id": "ffe7e5be",
   "metadata": {},
   "outputs": [
    {
     "data": {
      "text/plain": [
       "array([0, 1, 2, 3, 4, 5, 6, 7, 8, 9])"
      ]
     },
     "execution_count": 35,
     "metadata": {},
     "output_type": "execute_result"
    }
   ],
   "source": [
    "np.arange(10)"
   ]
  },
  {
   "cell_type": "code",
   "execution_count": 36,
   "id": "523fd3c3",
   "metadata": {},
   "outputs": [
    {
     "data": {
      "text/plain": [
       "array([ 5,  6,  7,  8,  9, 10, 11, 12, 13, 14])"
      ]
     },
     "execution_count": 36,
     "metadata": {},
     "output_type": "execute_result"
    }
   ],
   "source": [
    "np.arange(5,15)"
   ]
  },
  {
   "cell_type": "code",
   "execution_count": 37,
   "id": "e337de80",
   "metadata": {},
   "outputs": [
    {
     "data": {
      "text/plain": [
       "array([ 5, 15, 25, 35, 45])"
      ]
     },
     "execution_count": 37,
     "metadata": {},
     "output_type": "execute_result"
    }
   ],
   "source": [
    "np.arange(5, 50, 10) # range has start, end, jump"
   ]
  },
  {
   "cell_type": "code",
   "execution_count": 38,
   "id": "9a361b46",
   "metadata": {},
   "outputs": [
    {
     "data": {
      "text/plain": [
       "array([0.  , 0.25, 0.5 , 0.75, 1.  ])"
      ]
     },
     "execution_count": 38,
     "metadata": {},
     "output_type": "execute_result"
    }
   ],
   "source": [
    "np.linspace(0, 1, 5) # from_value, to_value, how_many_slices"
   ]
  },
  {
   "cell_type": "code",
   "execution_count": 39,
   "id": "134c5f85",
   "metadata": {},
   "outputs": [
    {
     "data": {
      "text/plain": [
       "array([  0,  50, 100])"
      ]
     },
     "execution_count": 39,
     "metadata": {},
     "output_type": "execute_result"
    }
   ],
   "source": [
    "np.linspace(0, 100, 3, dtype = int) # from_value, to_value, how_many_slices"
   ]
  },
  {
   "cell_type": "code",
   "execution_count": 40,
   "id": "223f74ef",
   "metadata": {},
   "outputs": [
    {
     "data": {
      "text/plain": [
       "array([[1., 0., 0., 0.],\n",
       "       [0., 1., 0., 0.],\n",
       "       [0., 0., 1., 0.],\n",
       "       [0., 0., 0., 1.]])"
      ]
     },
     "execution_count": 40,
     "metadata": {},
     "output_type": "execute_result"
    }
   ],
   "source": [
    "np.eye(4)"
   ]
  },
  {
   "cell_type": "code",
   "execution_count": 41,
   "id": "df2ad6f0",
   "metadata": {},
   "outputs": [
    {
     "data": {
      "text/plain": [
       "array([0, 1, 2, 0, 1, 2])"
      ]
     },
     "execution_count": 41,
     "metadata": {},
     "output_type": "execute_result"
    }
   ],
   "source": [
    "pattern = np.array([0, 1, 2])\n",
    "\n",
    "np.tile(pattern, 2) # the number (or tuple) given in tile describes size/times of output matrix # repeat 2 times"
   ]
  },
  {
   "cell_type": "code",
   "execution_count": 42,
   "id": "8826db63",
   "metadata": {},
   "outputs": [
    {
     "data": {
      "text/plain": [
       "array([[0, 1, 2, 0, 1, 2],\n",
       "       [0, 1, 2, 0, 1, 2],\n",
       "       [0, 1, 2, 0, 1, 2]])"
      ]
     },
     "execution_count": 42,
     "metadata": {},
     "output_type": "execute_result"
    }
   ],
   "source": [
    "np.tile(pattern, (3,2))\n",
    "# repeat 2 times in one dimension, and 3 times in another dimension "
   ]
  },
  {
   "cell_type": "code",
   "execution_count": 47,
   "id": "cca1777d",
   "metadata": {},
   "outputs": [
    {
     "name": "stdout",
     "output_type": "stream",
     "text": [
      "[8 1 5 9 8 9]\n"
     ]
    }
   ],
   "source": [
    "# random numbers\n",
    "print(np.random.randint(10, size = 6))\n",
    "\n",
    "# every time you run this cell, your random numbers will be differnt. \n",
    "## Try it!"
   ]
  },
  {
   "cell_type": "code",
   "execution_count": 46,
   "id": "346ab287",
   "metadata": {},
   "outputs": [
    {
     "name": "stdout",
     "output_type": "stream",
     "text": [
      "[5 0 3 3 7 9]\n",
      "[3 5 2 4 7 6]\n",
      "[8 8 1 6 7 7]\n"
     ]
    }
   ],
   "source": [
    "# but if you specify a seed, your random numbers will be the same every time you run this cell! \n",
    "# this can be very helpful when debugging or in some statitical analyses using random numbers or sampling \n",
    "\n",
    "np.random.seed(0) # plant the seed 0 - this could be any number\n",
    "print(np.random.randint(10, size=6))\n",
    "print(np.random.randint(10, size=6))\n",
    "print(np.random.randint(10, size=6))\n",
    "\n",
    "## run this cell a few times to see that the numbers do not change"
   ]
  },
  {
   "cell_type": "markdown",
   "id": "5a0953d3",
   "metadata": {},
   "source": [
    "Let's now create some arrays full of random values. "
   ]
  },
  {
   "cell_type": "code",
   "execution_count": 48,
   "id": "0b687e77",
   "metadata": {},
   "outputs": [
    {
     "name": "stdout",
     "output_type": "stream",
     "text": [
      "[20 80 69 79 47 64]\n",
      "20\n"
     ]
    }
   ],
   "source": [
    "# ONE DIMENTION - with size 6\n",
    "array1 = np.random.randint(100, size = 6)\n",
    "print(array1)\n",
    "print(array1[0])"
   ]
  },
  {
   "cell_type": "code",
   "execution_count": 49,
   "id": "ebf15a71",
   "metadata": {},
   "outputs": [
    {
     "name": "stdout",
     "output_type": "stream",
     "text": [
      "[[82 99 88 49 29]\n",
      " [19 19 14 39 32]\n",
      " [65  9 57 32 31]\n",
      " [74 23 35 75 55]]\n",
      "\n",
      "[74 23 35 75 55]\n",
      "\n",
      "55\n"
     ]
    }
   ],
   "source": [
    "# TWO DIMENTIONS - with size 4 for first and 5 for the second\n",
    "# these could be scores for four courses, each with 5 students\n",
    "\n",
    "array2 = np.random.randint(100, size = (4, 5))\n",
    "print(array2)\n",
    "print() # empty print statement to organise output a bit easier \n",
    "\n",
    "print(array2[3])\n",
    "print()\n",
    "print(array2[3, 4])"
   ]
  },
  {
   "cell_type": "code",
   "execution_count": 50,
   "id": "484164f9",
   "metadata": {
    "scrolled": true
   },
   "outputs": [
    {
     "name": "stdout",
     "output_type": "stream",
     "text": [
      "[[[28 34  0  0 36]\n",
      "  [53  5 38 17 79]\n",
      "  [ 4 42 58 31  1]\n",
      "  [65 41 57 35 11]]\n",
      "\n",
      " [[46 82 91  0 14]\n",
      "  [99 53 12 42 84]\n",
      "  [75 68  6 68 47]\n",
      "  [ 3 76 52 78 15]]\n",
      "\n",
      " [[20 99 58 23 79]\n",
      "  [13 85 48 49 69]\n",
      "  [41 35 64 95 69]\n",
      "  [94  0 50 36 34]]]\n"
     ]
    }
   ],
   "source": [
    "# THREE DIMENTIONS - with size 3 for first and 4 for the second and 5 for third\n",
    "array3 = np.random.randint(100, size = (3, 4, 5))\n",
    "\n",
    "print(array3)\n",
    "\n",
    "# change the numbers in size to ensure you are understanding what they are doing "
   ]
  },
  {
   "cell_type": "markdown",
   "id": "21e402ac",
   "metadata": {},
   "source": [
    "### 2.2 Reshaping arrays \n",
    "\n",
    "We can change the dimensions of an array with `.reshape()` We can concatinate or flatten arrays(and lists!) using `np.concatenate()` which will remove 1 dimension. We can also split one array into many arrays unsing predefined indexes with the `np.split()` function. "
   ]
  },
  {
   "cell_type": "code",
   "execution_count": 51,
   "id": "db37247b",
   "metadata": {
    "scrolled": true
   },
   "outputs": [
    {
     "name": "stdout",
     "output_type": "stream",
     "text": [
      "[ 0  1  2  3  4  5  6  7  8  9 10 11]\n"
     ]
    }
   ],
   "source": [
    "# lets start out with a one dimensional array \n",
    "print(np.arange(12)) "
   ]
  },
  {
   "cell_type": "code",
   "execution_count": 52,
   "id": "8ce4f501",
   "metadata": {},
   "outputs": [
    {
     "name": "stdout",
     "output_type": "stream",
     "text": [
      "[[ 0  1  2  3  4  5]\n",
      " [ 6  7  8  9 10 11]]\n"
     ]
    }
   ],
   "source": [
    "print(np.arange(12).reshape((2, 6)))"
   ]
  },
  {
   "cell_type": "code",
   "execution_count": 53,
   "id": "76592f2f",
   "metadata": {},
   "outputs": [
    {
     "name": "stdout",
     "output_type": "stream",
     "text": [
      "[[ 0  1  2]\n",
      " [ 3  4  5]\n",
      " [ 6  7  8]\n",
      " [ 9 10 11]]\n"
     ]
    }
   ],
   "source": [
    "print(np.arange(12).reshape((4, 3)))"
   ]
  },
  {
   "cell_type": "code",
   "execution_count": 54,
   "id": "1b9984e1",
   "metadata": {},
   "outputs": [
    {
     "name": "stdout",
     "output_type": "stream",
     "text": [
      "[[[ 0  1]\n",
      "  [ 2  3]]\n",
      "\n",
      " [[ 4  5]\n",
      "  [ 6  7]]\n",
      "\n",
      " [[ 8  9]\n",
      "  [10 11]]]\n"
     ]
    }
   ],
   "source": [
    "print(np.arange(12).reshape((3, 2, 2)))"
   ]
  },
  {
   "cell_type": "code",
   "execution_count": 55,
   "id": "3b80d43f",
   "metadata": {
    "scrolled": false
   },
   "outputs": [
    {
     "ename": "ValueError",
     "evalue": "cannot reshape array of size 12 into shape (4,5)",
     "output_type": "error",
     "traceback": [
      "\u001b[0;31m---------------------------------------------------------------------------\u001b[0m",
      "\u001b[0;31mValueError\u001b[0m                                Traceback (most recent call last)",
      "Cell \u001b[0;32mIn[55], line 2\u001b[0m\n\u001b[1;32m      1\u001b[0m \u001b[38;5;66;03m# This causes an erorr - you can't split 12 numbers into 4 sets of 5 numbers!\u001b[39;00m\n\u001b[0;32m----> 2\u001b[0m \u001b[38;5;28mprint\u001b[39m(\u001b[43mnp\u001b[49m\u001b[38;5;241;43m.\u001b[39;49m\u001b[43marange\u001b[49m\u001b[43m(\u001b[49m\u001b[38;5;241;43m12\u001b[39;49m\u001b[43m)\u001b[49m\u001b[38;5;241;43m.\u001b[39;49m\u001b[43mreshape\u001b[49m\u001b[43m(\u001b[49m\u001b[43m(\u001b[49m\u001b[38;5;241;43m4\u001b[39;49m\u001b[43m,\u001b[49m\u001b[43m \u001b[49m\u001b[38;5;241;43m5\u001b[39;49m\u001b[43m)\u001b[49m\u001b[43m)\u001b[49m)\n",
      "\u001b[0;31mValueError\u001b[0m: cannot reshape array of size 12 into shape (4,5)"
     ]
    }
   ],
   "source": [
    "# This causes an erorr - you can't split 12 numbers into 4 sets of 5 numbers!\n",
    "print(np.arange(12).reshape((4, 5)))"
   ]
  },
  {
   "cell_type": "code",
   "execution_count": 56,
   "id": "49784fc3",
   "metadata": {},
   "outputs": [
    {
     "name": "stdout",
     "output_type": "stream",
     "text": [
      "[array([10, 20, 30]), array([40, 50, 60])]\n"
     ]
    }
   ],
   "source": [
    "arraya = np.array([10,20,30])\n",
    "arrayb = np.array([40,50,60])\n",
    "parent_array = [arraya, arrayb]\n",
    "\n",
    "print(parent_array)"
   ]
  },
  {
   "cell_type": "code",
   "execution_count": 57,
   "id": "db3798a9",
   "metadata": {},
   "outputs": [
    {
     "name": "stdout",
     "output_type": "stream",
     "text": [
      "[10 20 30 40 50 60]\n"
     ]
    }
   ],
   "source": [
    "print( np.concatenate(parent_array) )"
   ]
  },
  {
   "cell_type": "code",
   "execution_count": 58,
   "id": "416687ad",
   "metadata": {},
   "outputs": [
    {
     "name": "stdout",
     "output_type": "stream",
     "text": [
      "[70 80 90  1  2  3]\n"
     ]
    }
   ],
   "source": [
    "## works the same for 2-D lists \n",
    "lista = [70, 80,90]\n",
    "listb = [1, 2, 3]\n",
    "\n",
    "print( np.concatenate([lista, listb]) )"
   ]
  },
  {
   "cell_type": "code",
   "execution_count": 59,
   "id": "df33b9b5",
   "metadata": {},
   "outputs": [
    {
     "name": "stdout",
     "output_type": "stream",
     "text": [
      "[10 20 30 40 50 60 70 80 90]\n"
     ]
    }
   ],
   "source": [
    "# you can even concatenate lists and arrays together. They really are very simmilar\n",
    "arraya = np.array([10,20,30])\n",
    "arrayb = np.array([40,50,60])\n",
    "lista = [70, 80,90]\n",
    "\n",
    "print( np.concatenate([arraya, arrayb, lista]) )"
   ]
  },
  {
   "cell_type": "code",
   "execution_count": 60,
   "id": "5dfa90ce",
   "metadata": {},
   "outputs": [
    {
     "name": "stdout",
     "output_type": "stream",
     "text": [
      "[[1 2 3]\n",
      " [4 5 6]]\n",
      "\n",
      "[[10 20 30]\n",
      " [40 50 60]]\n"
     ]
    }
   ],
   "source": [
    "# concatenation respects dimensions, it will flatten only the top dimension\n",
    "two_dimension_array1 = np.array([ [1,2,3],    [4,5,6] ])\n",
    "two_dimension_array2 = np.array([ [10,20,30], [40,50,60] ])\n",
    "\n",
    "print(two_dimension_array1)\n",
    "print()\n",
    "print(two_dimension_array2)"
   ]
  },
  {
   "cell_type": "code",
   "execution_count": 65,
   "id": "0c8c44e1",
   "metadata": {},
   "outputs": [
    {
     "name": "stdout",
     "output_type": "stream",
     "text": [
      "[[ 1  2  3]\n",
      " [ 4  5  6]\n",
      " [10 20 30]\n",
      " [40 50 60]]\n",
      "[ 1  2  3  4  5  6 10 20 30 40 50 60]\n"
     ]
    }
   ],
   "source": [
    "array_con = np.concatenate([two_dimension_array1,two_dimension_array2])\n",
    "print(array_con)\n",
    "print(np.concatenate([array_con[0], array_con[1], array_con[2], array_con[3]]))"
   ]
  },
  {
   "cell_type": "markdown",
   "id": "6766b377",
   "metadata": {},
   "source": [
    "Concatenate has an extra argument called `axis`: ```np.concatenate([arr1, arr2], axis = 0)``` which by default is 0\n",
    "\n",
    "- `axis = 0` (the default) - flatten horizontally - remove one dimension from all items in list\n",
    "- `axis = 1` - flatter vertically - combine all first items, then all second items, all third... etc"
   ]
  },
  {
   "cell_type": "code",
   "execution_count": 66,
   "id": "08d659d9",
   "metadata": {},
   "outputs": [
    {
     "name": "stdout",
     "output_type": "stream",
     "text": [
      "[[ 1  2  3]\n",
      " [ 4  5  6]\n",
      " [10 20 30]\n",
      " [40 50 60]]\n"
     ]
    }
   ],
   "source": [
    "two_dimension_array1 = np.array([ [1,2,3], [4,5,6] ])\n",
    "two_dimension_array2 = np.array([ [10,20,30], [40,50,60] ])\n",
    "\n",
    "print( np.concatenate([two_dimension_array1,two_dimension_array2], axis = 0) )"
   ]
  },
  {
   "cell_type": "code",
   "execution_count": 67,
   "id": "13ece294",
   "metadata": {
    "scrolled": false
   },
   "outputs": [
    {
     "name": "stdout",
     "output_type": "stream",
     "text": [
      "[[ 1  2  3 10 20 30]\n",
      " [ 4  5  6 40 50 60]]\n"
     ]
    }
   ],
   "source": [
    "print( np.concatenate([two_dimension_array1, two_dimension_array2], axis = 1) )"
   ]
  },
  {
   "cell_type": "code",
   "execution_count": 68,
   "id": "7af5ea1a",
   "metadata": {},
   "outputs": [
    {
     "name": "stdout",
     "output_type": "stream",
     "text": [
      "[1 2 3 4 5 6 7 8 9]\n",
      "[array([1, 2, 3]), array([4, 5, 6]), array([7, 8, 9])]\n"
     ]
    }
   ],
   "source": [
    "digits = np.arange(1, 10)\n",
    "print(digits)\n",
    "\n",
    "three_sub_arrays = np.split(digits, [3, 6])\n",
    "print(three_sub_arrays)"
   ]
  },
  {
   "cell_type": "code",
   "execution_count": 70,
   "id": "f6c7dac6",
   "metadata": {},
   "outputs": [
    {
     "name": "stdout",
     "output_type": "stream",
     "text": [
      "10\n",
      "10 20 30\n"
     ]
    }
   ],
   "source": [
    "# We have not seen this syntax yet, it's typical used in more advanced uses of Python. \n",
    "# You can specify many variables in one line, but assigning a List to them - see how useful data structures can be! \n",
    "\n",
    "a, b, c = [10,20,30]\n",
    "print(a)\n",
    "print(a, b, c)"
   ]
  },
  {
   "cell_type": "code",
   "execution_count": 71,
   "id": "9b67f4e6",
   "metadata": {},
   "outputs": [
    {
     "name": "stdout",
     "output_type": "stream",
     "text": [
      "[1 2 3] [4 5 6] [7 8 9]\n"
     ]
    }
   ],
   "source": [
    "# so split can be used as follows: \n",
    "\n",
    "start, middle, end = np.split(digits, [3, 6])\n",
    "print(start, middle, end)"
   ]
  },
  {
   "cell_type": "code",
   "execution_count": 72,
   "id": "db68347c",
   "metadata": {},
   "outputs": [
    {
     "name": "stdout",
     "output_type": "stream",
     "text": [
      "[1 2 3] [4 5 6] [7 8 9]\n"
     ]
    }
   ],
   "source": [
    "# Note: you could achieve the same effect with many lines of code with range()\n",
    "# but that requires much more thinking and opportunities for mistakes \n",
    "\n",
    "first = np.arange(1, 4)\n",
    "second = np.arange(4, 7)\n",
    "third = np.arange(7, 10)\n",
    "print(first, second, third)\n",
    "\n",
    "# but why do something the hard way if there is a proper syntax for it?"
   ]
  },
  {
   "cell_type": "markdown",
   "id": "9b543475",
   "metadata": {},
   "source": [
    "### 2.3 Array Truthy and Falsy\n",
    "Like numbers which we learned about in week 2 and 3, arrays evaluate as truthy and falsy depending on how they compare to 0. "
   ]
  },
  {
   "cell_type": "code",
   "execution_count": 74,
   "id": "b46d0cc5",
   "metadata": {},
   "outputs": [
    {
     "name": "stdout",
     "output_type": "stream",
     "text": [
      "0\n"
     ]
    },
    {
     "ename": "TypeError",
     "evalue": "len() of unsized object",
     "output_type": "error",
     "traceback": [
      "\u001b[0;31m---------------------------------------------------------------------------\u001b[0m",
      "\u001b[0;31mTypeError\u001b[0m                                 Traceback (most recent call last)",
      "Cell \u001b[0;32mIn[74], line 5\u001b[0m\n\u001b[1;32m      1\u001b[0m a1 \u001b[38;5;241m=\u001b[39m np\u001b[38;5;241m.\u001b[39marray(\u001b[38;5;241m0\u001b[39m)\n\u001b[1;32m      3\u001b[0m \u001b[38;5;28mprint\u001b[39m(a1)\n\u001b[0;32m----> 5\u001b[0m \u001b[38;5;28mprint\u001b[39m(\u001b[38;5;28;43mlen\u001b[39;49m\u001b[43m(\u001b[49m\u001b[43ma1\u001b[49m\u001b[43m)\u001b[49m)\n\u001b[1;32m      7\u001b[0m \u001b[38;5;28mprint\u001b[39m(\u001b[38;5;28mbool\u001b[39m(a1))\n",
      "\u001b[0;31mTypeError\u001b[0m: len() of unsized object"
     ]
    }
   ],
   "source": [
    "a1 = np.array([0])\n",
    "\n",
    "print(a1)\n",
    "\n",
    "print(len(a1))\n",
    "\n",
    "print(bool(a1))"
   ]
  },
  {
   "cell_type": "markdown",
   "id": "ebd5ee85",
   "metadata": {},
   "source": [
    "Even though `a1` has a length of 1, it is still falsy because its value is 0. When arrays have more than one element, some elements might be falsy and some might be truthy. In those cases, NumPy will raise a `ValueError`"
   ]
  },
  {
   "cell_type": "code",
   "execution_count": 75,
   "id": "0c101349",
   "metadata": {},
   "outputs": [
    {
     "ename": "ValueError",
     "evalue": "The truth value of an array with more than one element is ambiguous. Use a.any() or a.all()",
     "output_type": "error",
     "traceback": [
      "\u001b[0;31m---------------------------------------------------------------------------\u001b[0m",
      "\u001b[0;31mValueError\u001b[0m                                Traceback (most recent call last)",
      "Cell \u001b[0;32mIn[75], line 3\u001b[0m\n\u001b[1;32m      1\u001b[0m a2 \u001b[38;5;241m=\u001b[39m np\u001b[38;5;241m.\u001b[39marray([\u001b[38;5;241m0\u001b[39m, \u001b[38;5;241m1\u001b[39m])\n\u001b[0;32m----> 3\u001b[0m \u001b[38;5;28;43mbool\u001b[39;49m\u001b[43m(\u001b[49m\u001b[43ma2\u001b[49m\u001b[43m)\u001b[49m \u001b[38;5;66;03m#produces a value error\u001b[39;00m\n",
      "\u001b[0;31mValueError\u001b[0m: The truth value of an array with more than one element is ambiguous. Use a.any() or a.all()"
     ]
    }
   ],
   "source": [
    "a2 = np.array([0, 1])\n",
    "\n",
    "bool(a2) #produces a value error"
   ]
  },
  {
   "cell_type": "code",
   "execution_count": 76,
   "id": "0595db4a",
   "metadata": {},
   "outputs": [
    {
     "name": "stdout",
     "output_type": "stream",
     "text": [
      "True\n",
      "False\n"
     ]
    }
   ],
   "source": [
    "## are any values truthy\n",
    "print(a2.any())\n",
    "\n",
    "## are all values truthy\n",
    "print(a2.all())"
   ]
  },
  {
   "cell_type": "markdown",
   "id": "da70ffc2",
   "metadata": {},
   "source": [
    "## 3. Dictionary \n",
    "\n",
    "As a reminder, we create dict data structures in Python using curly brackets `{}` and specifying the `key:value` pair."
   ]
  },
  {
   "cell_type": "code",
   "execution_count": 77,
   "id": "d611bbf8",
   "metadata": {},
   "outputs": [
    {
     "name": "stdout",
     "output_type": "stream",
     "text": [
      "{'city': 'Edinburgh', 'univeristy': 'UoE', 'year': 1583}\n"
     ]
    }
   ],
   "source": [
    "dict = {\"city\" : \"Edinburgh\",\n",
    "       \"univeristy\" : \"UoE\",\n",
    "       \"year\" : 1583}\n",
    "\n",
    "print(dict)"
   ]
  },
  {
   "cell_type": "markdown",
   "id": "481fc62f",
   "metadata": {},
   "source": [
    "As a built-in data structure, list lists, there are a lot of useful functions when working with dictionaries. To see these type the name of the dictionary object followed by a dot and hit the [TAB] key."
   ]
  },
  {
   "cell_type": "code",
   "execution_count": null,
   "id": "54efe3d9",
   "metadata": {
    "scrolled": false
   },
   "outputs": [],
   "source": [
    "## try this here - put your cursor after the . and hit [TAB]\n",
    "dict."
   ]
  },
  {
   "cell_type": "code",
   "execution_count": 78,
   "id": "effcec15",
   "metadata": {
    "scrolled": true
   },
   "outputs": [
    {
     "name": "stdout",
     "output_type": "stream",
     "text": [
      "dict_keys(['city', 'univeristy', 'year'])\n",
      "dict_values(['Edinburgh', 'UoE', 1583])\n"
     ]
    }
   ],
   "source": [
    "# to see the list of keys \n",
    "print(dict.keys())\n",
    "\n",
    "#to see the list of values \n",
    "print(dict.values())"
   ]
  },
  {
   "cell_type": "markdown",
   "id": "9af54b90",
   "metadata": {},
   "source": [
    "You can also access each key-value pair within a dictionary using the `.items()` method"
   ]
  },
  {
   "cell_type": "code",
   "execution_count": 79,
   "id": "cb01e856",
   "metadata": {},
   "outputs": [
    {
     "name": "stdout",
     "output_type": "stream",
     "text": [
      "dict_items([('city', 'Edinburgh'), ('univeristy', 'UoE'), ('year', 1583)])\n"
     ]
    }
   ],
   "source": [
    "print(dict.items())"
   ]
  },
  {
   "cell_type": "markdown",
   "id": "88cec7d5",
   "metadata": {},
   "source": [
    "Since we cannot have duplicate keys, you can change the `key:value` mapping by setting the key to a new value."
   ]
  },
  {
   "cell_type": "code",
   "execution_count": 80,
   "id": "87352dd7",
   "metadata": {},
   "outputs": [
    {
     "name": "stdout",
     "output_type": "stream",
     "text": [
      "{'city': 'Glasgow', 'univeristy': 'UoE', 'year': 1583}\n"
     ]
    }
   ],
   "source": [
    "dict[\"city\"] = \"Glasgow\"\n",
    "\n",
    "print(dict)"
   ]
  },
  {
   "cell_type": "markdown",
   "id": "3a6d6c43",
   "metadata": {},
   "source": [
    "Using the same syntax though with a unique key, you can add a new item to a dict data structure. "
   ]
  },
  {
   "cell_type": "code",
   "execution_count": 81,
   "id": "c93acf72",
   "metadata": {},
   "outputs": [
    {
     "name": "stdout",
     "output_type": "stream",
     "text": [
      "{'city': 'Glasgow', 'univeristy': 'UoE', 'year': 1583, 'campus': 'George square'}\n"
     ]
    }
   ],
   "source": [
    "dict[\"campus\"] = \"George square\"\n",
    "\n",
    "print(dict)"
   ]
  },
  {
   "cell_type": "markdown",
   "id": "cd34204b",
   "metadata": {},
   "source": [
    "### 3.1 Dictionary comprehension \n",
    "\n",
    "Dictionary comprehension has been available since Python 2.7 and like list comprehension, is an efficient way of creating new dictionaries. Dictionary comprehensions takes the form: `{key: value for (key, value) in iterable}`"
   ]
  },
  {
   "cell_type": "code",
   "execution_count": 82,
   "id": "69a307fd",
   "metadata": {},
   "outputs": [
    {
     "name": "stdout",
     "output_type": "stream",
     "text": [
      "{1: 1, 2: 4, 3: 9, 4: 16, 5: 25}\n"
     ]
    }
   ],
   "source": [
    "dict_comp = {x: x**2 for x in [1,2,3,4,5]} \n",
    "\n",
    "print(dict_comp)"
   ]
  },
  {
   "cell_type": "markdown",
   "id": "32a4a761",
   "metadata": {},
   "source": [
    "Let's say that now we want to double each value in our dictionary that we created called `dict_comp`"
   ]
  },
  {
   "cell_type": "code",
   "execution_count": 83,
   "id": "db7efe21",
   "metadata": {},
   "outputs": [
    {
     "name": "stdout",
     "output_type": "stream",
     "text": [
      "{1: 2, 2: 8, 3: 18, 4: 32, 5: 50}\n"
     ]
    }
   ],
   "source": [
    "dict_double = {k:v*2 for (k,v) in dict_comp.items()}\n",
    "\n",
    "print(dict_double)"
   ]
  },
  {
   "cell_type": "markdown",
   "id": "306bf2a3",
   "metadata": {},
   "source": [
    "You can also use dictionary comprehension to make changes to the key values. Let's make the same dictionary as `dict_double` but also change the names of the key "
   ]
  },
  {
   "cell_type": "code",
   "execution_count": 84,
   "id": "cbd23c16",
   "metadata": {},
   "outputs": [
    {
     "name": "stdout",
     "output_type": "stream",
     "text": [
      "{10: 2, 20: 8, 30: 18, 40: 32, 50: 50}\n"
     ]
    }
   ],
   "source": [
    "dict_keys = {k*10:v for (k,v) in dict_double.items()}\n",
    "\n",
    "print(dict_keys)"
   ]
  },
  {
   "cell_type": "markdown",
   "id": "7fb99527",
   "metadata": {},
   "source": [
    "A useful function of Python dictionaries is to convert them to data frames. When a dictionary is converted to dataframe, the key become the column name and the value becomes the elements of the series (in other words the rows of a column). The function we use for this is `pd.DataFrame.from_dict()`. Use `orient='index'` to create the DataFrame using dictionary keys as rows"
   ]
  },
  {
   "cell_type": "code",
   "execution_count": 87,
   "id": "8296dfde",
   "metadata": {},
   "outputs": [
    {
     "data": {
      "text/html": [
       "<div>\n",
       "<style scoped>\n",
       "    .dataframe tbody tr th:only-of-type {\n",
       "        vertical-align: middle;\n",
       "    }\n",
       "\n",
       "    .dataframe tbody tr th {\n",
       "        vertical-align: top;\n",
       "    }\n",
       "\n",
       "    .dataframe thead th {\n",
       "        text-align: right;\n",
       "    }\n",
       "</style>\n",
       "<table border=\"1\" class=\"dataframe\">\n",
       "  <thead>\n",
       "    <tr style=\"text-align: right;\">\n",
       "      <th></th>\n",
       "      <th>0</th>\n",
       "    </tr>\n",
       "  </thead>\n",
       "  <tbody>\n",
       "    <tr>\n",
       "      <th>city</th>\n",
       "      <td>Glasgow</td>\n",
       "    </tr>\n",
       "    <tr>\n",
       "      <th>univeristy</th>\n",
       "      <td>UoE</td>\n",
       "    </tr>\n",
       "    <tr>\n",
       "      <th>year</th>\n",
       "      <td>1583</td>\n",
       "    </tr>\n",
       "    <tr>\n",
       "      <th>campus</th>\n",
       "      <td>George square</td>\n",
       "    </tr>\n",
       "  </tbody>\n",
       "</table>\n",
       "</div>"
      ],
      "text/plain": [
       "                        0\n",
       "city              Glasgow\n",
       "univeristy            UoE\n",
       "year                 1583\n",
       "campus      George square"
      ]
     },
     "execution_count": 87,
     "metadata": {},
     "output_type": "execute_result"
    }
   ],
   "source": [
    "pd.DataFrame.from_dict(dict, orient = \"index\")"
   ]
  },
  {
   "cell_type": "markdown",
   "id": "2da153fa",
   "metadata": {},
   "source": [
    "## 4. Data frames\n",
    "\n",
    "A data frame is a 2 dimensional structure (rows and columns) which can contain hetereogenous data typed elements. Data frames are not a built-in Python data struture, thus we need to `pandas` package in order to access and work with this data structure.\n",
    "\n",
    "We will be using the gapminder data set, which is available in R in the `gapminder` package. We saw this dataset briefly in the Week 1 tutorial. Lets read in the data."
   ]
  },
  {
   "cell_type": "code",
   "execution_count": 89,
   "id": "a13466de",
   "metadata": {},
   "outputs": [],
   "source": [
    "gap_data = pd.read_csv(\"../data/gapminder_data_unfiltered.csv\")"
   ]
  },
  {
   "cell_type": "code",
   "execution_count": 90,
   "id": "d4e55696",
   "metadata": {},
   "outputs": [
    {
     "name": "stdout",
     "output_type": "stream",
     "text": [
      "<class 'pandas.core.frame.DataFrame'>\n",
      "RangeIndex: 3313 entries, 0 to 3312\n",
      "Data columns (total 6 columns):\n",
      " #   Column     Non-Null Count  Dtype  \n",
      "---  ------     --------------  -----  \n",
      " 0   country    3313 non-null   object \n",
      " 1   continent  3313 non-null   object \n",
      " 2   year       3313 non-null   int64  \n",
      " 3   lifeExp    3313 non-null   float64\n",
      " 4   pop        3313 non-null   int64  \n",
      " 5   gdpPercap  3313 non-null   float64\n",
      "dtypes: float64(2), int64(2), object(2)\n",
      "memory usage: 155.4+ KB\n",
      "None\n"
     ]
    }
   ],
   "source": [
    "## check data descriptions \n",
    "print(gap_data.info())"
   ]
  },
  {
   "cell_type": "code",
   "execution_count": 91,
   "id": "e5f7e850",
   "metadata": {},
   "outputs": [
    {
     "data": {
      "text/html": [
       "<div>\n",
       "<style scoped>\n",
       "    .dataframe tbody tr th:only-of-type {\n",
       "        vertical-align: middle;\n",
       "    }\n",
       "\n",
       "    .dataframe tbody tr th {\n",
       "        vertical-align: top;\n",
       "    }\n",
       "\n",
       "    .dataframe thead th {\n",
       "        text-align: right;\n",
       "    }\n",
       "</style>\n",
       "<table border=\"1\" class=\"dataframe\">\n",
       "  <thead>\n",
       "    <tr style=\"text-align: right;\">\n",
       "      <th></th>\n",
       "      <th>year</th>\n",
       "      <th>lifeExp</th>\n",
       "      <th>pop</th>\n",
       "      <th>gdpPercap</th>\n",
       "    </tr>\n",
       "  </thead>\n",
       "  <tbody>\n",
       "    <tr>\n",
       "      <th>count</th>\n",
       "      <td>3313.000000</td>\n",
       "      <td>3313.000000</td>\n",
       "      <td>3.313000e+03</td>\n",
       "      <td>3313.000000</td>\n",
       "    </tr>\n",
       "    <tr>\n",
       "      <th>mean</th>\n",
       "      <td>1980.293088</td>\n",
       "      <td>65.240457</td>\n",
       "      <td>3.177325e+07</td>\n",
       "      <td>11313.820704</td>\n",
       "    </tr>\n",
       "    <tr>\n",
       "      <th>std</th>\n",
       "      <td>16.931879</td>\n",
       "      <td>11.772424</td>\n",
       "      <td>1.045019e+08</td>\n",
       "      <td>11369.008362</td>\n",
       "    </tr>\n",
       "    <tr>\n",
       "      <th>min</th>\n",
       "      <td>1950.000000</td>\n",
       "      <td>23.599000</td>\n",
       "      <td>5.941200e+04</td>\n",
       "      <td>241.165876</td>\n",
       "    </tr>\n",
       "    <tr>\n",
       "      <th>25%</th>\n",
       "      <td>1967.000000</td>\n",
       "      <td>58.333000</td>\n",
       "      <td>2.680018e+06</td>\n",
       "      <td>2505.291423</td>\n",
       "    </tr>\n",
       "    <tr>\n",
       "      <th>50%</th>\n",
       "      <td>1982.000000</td>\n",
       "      <td>69.610000</td>\n",
       "      <td>7.559776e+06</td>\n",
       "      <td>7825.823398</td>\n",
       "    </tr>\n",
       "    <tr>\n",
       "      <th>75%</th>\n",
       "      <td>1996.000000</td>\n",
       "      <td>73.657000</td>\n",
       "      <td>1.961054e+07</td>\n",
       "      <td>17355.747100</td>\n",
       "    </tr>\n",
       "    <tr>\n",
       "      <th>max</th>\n",
       "      <td>2007.000000</td>\n",
       "      <td>82.670000</td>\n",
       "      <td>1.318683e+09</td>\n",
       "      <td>113523.132900</td>\n",
       "    </tr>\n",
       "  </tbody>\n",
       "</table>\n",
       "</div>"
      ],
      "text/plain": [
       "              year      lifeExp           pop      gdpPercap\n",
       "count  3313.000000  3313.000000  3.313000e+03    3313.000000\n",
       "mean   1980.293088    65.240457  3.177325e+07   11313.820704\n",
       "std      16.931879    11.772424  1.045019e+08   11369.008362\n",
       "min    1950.000000    23.599000  5.941200e+04     241.165876\n",
       "25%    1967.000000    58.333000  2.680018e+06    2505.291423\n",
       "50%    1982.000000    69.610000  7.559776e+06    7825.823398\n",
       "75%    1996.000000    73.657000  1.961054e+07   17355.747100\n",
       "max    2007.000000    82.670000  1.318683e+09  113523.132900"
      ]
     },
     "execution_count": 91,
     "metadata": {},
     "output_type": "execute_result"
    }
   ],
   "source": [
    "gap_data.describe()"
   ]
  },
  {
   "cell_type": "code",
   "execution_count": 92,
   "id": "7824e61d",
   "metadata": {},
   "outputs": [
    {
     "name": "stdout",
     "output_type": "stream",
     "text": [
      "       country continent         year      lifeExp           pop  \\\n",
      "count     3313      3313  3313.000000  3313.000000  3.313000e+03   \n",
      "unique     187         6          NaN          NaN           NaN   \n",
      "top      Spain    Europe          NaN          NaN           NaN   \n",
      "freq        58      1302          NaN          NaN           NaN   \n",
      "mean       NaN       NaN  1980.293088    65.240457  3.177325e+07   \n",
      "std        NaN       NaN    16.931879    11.772424  1.045019e+08   \n",
      "min        NaN       NaN  1950.000000    23.599000  5.941200e+04   \n",
      "25%        NaN       NaN  1967.000000    58.333000  2.680018e+06   \n",
      "50%        NaN       NaN  1982.000000    69.610000  7.559776e+06   \n",
      "75%        NaN       NaN  1996.000000    73.657000  1.961054e+07   \n",
      "max        NaN       NaN  2007.000000    82.670000  1.318683e+09   \n",
      "\n",
      "            gdpPercap  \n",
      "count     3313.000000  \n",
      "unique            NaN  \n",
      "top               NaN  \n",
      "freq              NaN  \n",
      "mean     11313.820704  \n",
      "std      11369.008362  \n",
      "min        241.165876  \n",
      "25%       2505.291423  \n",
      "50%       7825.823398  \n",
      "75%      17355.747100  \n",
      "max     113523.132900  \n"
     ]
    }
   ],
   "source": [
    "# include all columns not just numeric data - by default the describe method includes only numeric data  \n",
    "print(gap_data.describe(include = \"all\"))"
   ]
  },
  {
   "cell_type": "code",
   "execution_count": 93,
   "id": "a5df8b74",
   "metadata": {},
   "outputs": [
    {
     "data": {
      "text/plain": [
       "country       object\n",
       "continent     object\n",
       "year           int64\n",
       "lifeExp      float64\n",
       "pop            int64\n",
       "gdpPercap    float64\n",
       "dtype: object"
      ]
     },
     "execution_count": 93,
     "metadata": {},
     "output_type": "execute_result"
    }
   ],
   "source": [
    "## check df dtype of data frame columns\n",
    "gap_data.dtypes"
   ]
  },
  {
   "cell_type": "markdown",
   "id": "3b2bf440",
   "metadata": {},
   "source": [
    "To slice or subset rows, we can use the same notation as with arrays `dataframe[start: stop: step]`"
   ]
  },
  {
   "cell_type": "code",
   "execution_count": 94,
   "id": "91d19464",
   "metadata": {},
   "outputs": [
    {
     "name": "stdout",
     "output_type": "stream",
     "text": [
      "       country continent  year  lifeExp       pop  gdpPercap\n",
      "1  Afghanistan      Asia  1957   30.332   9240934  820.85303\n",
      "2  Afghanistan      Asia  1962   31.997  10267083  853.10071\n"
     ]
    }
   ],
   "source": [
    "print(gap_data[1:3])"
   ]
  },
  {
   "cell_type": "markdown",
   "id": "5d5fa4aa",
   "metadata": {},
   "source": [
    "To access columns, we can use `[]` with the column name or a dot."
   ]
  },
  {
   "cell_type": "code",
   "execution_count": 95,
   "id": "df6cae7d",
   "metadata": {},
   "outputs": [
    {
     "name": "stdout",
     "output_type": "stream",
     "text": [
      "0       1952\n",
      "1       1957\n",
      "2       1962\n",
      "3       1967\n",
      "4       1972\n",
      "        ... \n",
      "3308    1987\n",
      "3309    1992\n",
      "3310    1997\n",
      "3311    2002\n",
      "3312    2007\n",
      "Name: year, Length: 3313, dtype: int64\n"
     ]
    }
   ],
   "source": [
    "# get a column with [] \n",
    "# Notice meta information about names and data types at the bottom!\n",
    "print(gap_data['year'])"
   ]
  },
  {
   "cell_type": "code",
   "execution_count": 96,
   "id": "9a0037f7",
   "metadata": {
    "scrolled": true
   },
   "outputs": [
    {
     "name": "stdout",
     "output_type": "stream",
     "text": [
      "0       1952\n",
      "1       1957\n",
      "2       1962\n",
      "3       1967\n",
      "4       1972\n",
      "        ... \n",
      "3308    1987\n",
      "3309    1992\n",
      "3310    1997\n",
      "3311    2002\n",
      "3312    2007\n",
      "Name: year, Length: 3313, dtype: int64\n"
     ]
    }
   ],
   "source": [
    "# but quite frequently you would use a . dot notation, like this:\n",
    "print(gap_data.year)"
   ]
  },
  {
   "cell_type": "code",
   "execution_count": 97,
   "id": "d942832d",
   "metadata": {
    "scrolled": false
   },
   "outputs": [
    {
     "name": "stdout",
     "output_type": "stream",
     "text": [
      "1952\n",
      "1952\n"
     ]
    }
   ],
   "source": [
    "# to get individual items\n",
    "print(gap_data.year[0])\n",
    "\n",
    "# same as - just a different style of syntax \n",
    "print(gap_data['year'][0])"
   ]
  },
  {
   "cell_type": "code",
   "execution_count": 98,
   "id": "0586a738",
   "metadata": {},
   "outputs": [
    {
     "name": "stdout",
     "output_type": "stream",
     "text": [
      "0    1952\n",
      "1    1957\n",
      "2    1962\n",
      "3    1967\n",
      "4    1972\n",
      "Name: year, dtype: int64\n"
     ]
    }
   ],
   "source": [
    "# or a few individual items\n",
    "print(gap_data.year[0:5])"
   ]
  },
  {
   "cell_type": "markdown",
   "id": "809d146f",
   "metadata": {},
   "source": [
    "### 4.1 the Index \n",
    "\n",
    "The index is the most important part of your data. It should be unique, but does not have to be. \n",
    "\n",
    "If you do not specify the index in your data, Python will just use continuous numbers starting from 0 (like 0,1,2,3,4,...). It's sort of like a row name in Excel.\n",
    "\n",
    "```.set_index(a_column_name)``` will set a column with name `a_column_name` to be the index\n",
    "\n",
    "```drop=False``` will make the old column stay (it will sort-of get duplicated and you'd have two identical columns: the original one, and the new index column)\n",
    "\n",
    "You could also have many columns act as  indexes, but we will not go into that. If you wanted to do that, just pass a List of column names to `set_index` rather than one column name."
   ]
  },
  {
   "cell_type": "code",
   "execution_count": 99,
   "id": "c1e04e91",
   "metadata": {
    "scrolled": true
   },
   "outputs": [
    {
     "data": {
      "text/html": [
       "<div>\n",
       "<style scoped>\n",
       "    .dataframe tbody tr th:only-of-type {\n",
       "        vertical-align: middle;\n",
       "    }\n",
       "\n",
       "    .dataframe tbody tr th {\n",
       "        vertical-align: top;\n",
       "    }\n",
       "\n",
       "    .dataframe thead th {\n",
       "        text-align: right;\n",
       "    }\n",
       "</style>\n",
       "<table border=\"1\" class=\"dataframe\">\n",
       "  <thead>\n",
       "    <tr style=\"text-align: right;\">\n",
       "      <th></th>\n",
       "      <th>country</th>\n",
       "      <th>continent</th>\n",
       "      <th>year</th>\n",
       "      <th>lifeExp</th>\n",
       "      <th>pop</th>\n",
       "      <th>gdpPercap</th>\n",
       "    </tr>\n",
       "  </thead>\n",
       "  <tbody>\n",
       "    <tr>\n",
       "      <th>0</th>\n",
       "      <td>Afghanistan</td>\n",
       "      <td>Asia</td>\n",
       "      <td>1952</td>\n",
       "      <td>28.801</td>\n",
       "      <td>8425333</td>\n",
       "      <td>779.445314</td>\n",
       "    </tr>\n",
       "    <tr>\n",
       "      <th>1</th>\n",
       "      <td>Afghanistan</td>\n",
       "      <td>Asia</td>\n",
       "      <td>1957</td>\n",
       "      <td>30.332</td>\n",
       "      <td>9240934</td>\n",
       "      <td>820.853030</td>\n",
       "    </tr>\n",
       "    <tr>\n",
       "      <th>2</th>\n",
       "      <td>Afghanistan</td>\n",
       "      <td>Asia</td>\n",
       "      <td>1962</td>\n",
       "      <td>31.997</td>\n",
       "      <td>10267083</td>\n",
       "      <td>853.100710</td>\n",
       "    </tr>\n",
       "    <tr>\n",
       "      <th>3</th>\n",
       "      <td>Afghanistan</td>\n",
       "      <td>Asia</td>\n",
       "      <td>1967</td>\n",
       "      <td>34.020</td>\n",
       "      <td>11537966</td>\n",
       "      <td>836.197138</td>\n",
       "    </tr>\n",
       "    <tr>\n",
       "      <th>4</th>\n",
       "      <td>Afghanistan</td>\n",
       "      <td>Asia</td>\n",
       "      <td>1972</td>\n",
       "      <td>36.088</td>\n",
       "      <td>13079460</td>\n",
       "      <td>739.981106</td>\n",
       "    </tr>\n",
       "    <tr>\n",
       "      <th>...</th>\n",
       "      <td>...</td>\n",
       "      <td>...</td>\n",
       "      <td>...</td>\n",
       "      <td>...</td>\n",
       "      <td>...</td>\n",
       "      <td>...</td>\n",
       "    </tr>\n",
       "    <tr>\n",
       "      <th>3308</th>\n",
       "      <td>Zimbabwe</td>\n",
       "      <td>Africa</td>\n",
       "      <td>1987</td>\n",
       "      <td>62.351</td>\n",
       "      <td>9216418</td>\n",
       "      <td>706.157306</td>\n",
       "    </tr>\n",
       "    <tr>\n",
       "      <th>3309</th>\n",
       "      <td>Zimbabwe</td>\n",
       "      <td>Africa</td>\n",
       "      <td>1992</td>\n",
       "      <td>60.377</td>\n",
       "      <td>10704340</td>\n",
       "      <td>693.420786</td>\n",
       "    </tr>\n",
       "    <tr>\n",
       "      <th>3310</th>\n",
       "      <td>Zimbabwe</td>\n",
       "      <td>Africa</td>\n",
       "      <td>1997</td>\n",
       "      <td>46.809</td>\n",
       "      <td>11404948</td>\n",
       "      <td>792.449960</td>\n",
       "    </tr>\n",
       "    <tr>\n",
       "      <th>3311</th>\n",
       "      <td>Zimbabwe</td>\n",
       "      <td>Africa</td>\n",
       "      <td>2002</td>\n",
       "      <td>39.989</td>\n",
       "      <td>11926563</td>\n",
       "      <td>672.038623</td>\n",
       "    </tr>\n",
       "    <tr>\n",
       "      <th>3312</th>\n",
       "      <td>Zimbabwe</td>\n",
       "      <td>Africa</td>\n",
       "      <td>2007</td>\n",
       "      <td>43.487</td>\n",
       "      <td>12311143</td>\n",
       "      <td>469.709298</td>\n",
       "    </tr>\n",
       "  </tbody>\n",
       "</table>\n",
       "<p>3313 rows × 6 columns</p>\n",
       "</div>"
      ],
      "text/plain": [
       "          country continent  year  lifeExp       pop   gdpPercap\n",
       "0     Afghanistan      Asia  1952   28.801   8425333  779.445314\n",
       "1     Afghanistan      Asia  1957   30.332   9240934  820.853030\n",
       "2     Afghanistan      Asia  1962   31.997  10267083  853.100710\n",
       "3     Afghanistan      Asia  1967   34.020  11537966  836.197138\n",
       "4     Afghanistan      Asia  1972   36.088  13079460  739.981106\n",
       "...           ...       ...   ...      ...       ...         ...\n",
       "3308     Zimbabwe    Africa  1987   62.351   9216418  706.157306\n",
       "3309     Zimbabwe    Africa  1992   60.377  10704340  693.420786\n",
       "3310     Zimbabwe    Africa  1997   46.809  11404948  792.449960\n",
       "3311     Zimbabwe    Africa  2002   39.989  11926563  672.038623\n",
       "3312     Zimbabwe    Africa  2007   43.487  12311143  469.709298\n",
       "\n",
       "[3313 rows x 6 columns]"
      ]
     },
     "execution_count": 99,
     "metadata": {},
     "output_type": "execute_result"
    }
   ],
   "source": [
    "# the index is the numbers on the left (0-3308)\n",
    "# notice it does not have a column/variable name \n",
    "gap_data"
   ]
  },
  {
   "cell_type": "code",
   "execution_count": 100,
   "id": "27639c57",
   "metadata": {
    "scrolled": true
   },
   "outputs": [
    {
     "data": {
      "text/html": [
       "<div>\n",
       "<style scoped>\n",
       "    .dataframe tbody tr th:only-of-type {\n",
       "        vertical-align: middle;\n",
       "    }\n",
       "\n",
       "    .dataframe tbody tr th {\n",
       "        vertical-align: top;\n",
       "    }\n",
       "\n",
       "    .dataframe thead th {\n",
       "        text-align: right;\n",
       "    }\n",
       "</style>\n",
       "<table border=\"1\" class=\"dataframe\">\n",
       "  <thead>\n",
       "    <tr style=\"text-align: right;\">\n",
       "      <th></th>\n",
       "      <th>country</th>\n",
       "      <th>continent</th>\n",
       "      <th>lifeExp</th>\n",
       "      <th>pop</th>\n",
       "      <th>gdpPercap</th>\n",
       "    </tr>\n",
       "    <tr>\n",
       "      <th>year</th>\n",
       "      <th></th>\n",
       "      <th></th>\n",
       "      <th></th>\n",
       "      <th></th>\n",
       "      <th></th>\n",
       "    </tr>\n",
       "  </thead>\n",
       "  <tbody>\n",
       "    <tr>\n",
       "      <th>1952</th>\n",
       "      <td>Afghanistan</td>\n",
       "      <td>Asia</td>\n",
       "      <td>28.801</td>\n",
       "      <td>8425333</td>\n",
       "      <td>779.445314</td>\n",
       "    </tr>\n",
       "    <tr>\n",
       "      <th>1957</th>\n",
       "      <td>Afghanistan</td>\n",
       "      <td>Asia</td>\n",
       "      <td>30.332</td>\n",
       "      <td>9240934</td>\n",
       "      <td>820.853030</td>\n",
       "    </tr>\n",
       "    <tr>\n",
       "      <th>1962</th>\n",
       "      <td>Afghanistan</td>\n",
       "      <td>Asia</td>\n",
       "      <td>31.997</td>\n",
       "      <td>10267083</td>\n",
       "      <td>853.100710</td>\n",
       "    </tr>\n",
       "    <tr>\n",
       "      <th>1967</th>\n",
       "      <td>Afghanistan</td>\n",
       "      <td>Asia</td>\n",
       "      <td>34.020</td>\n",
       "      <td>11537966</td>\n",
       "      <td>836.197138</td>\n",
       "    </tr>\n",
       "    <tr>\n",
       "      <th>1972</th>\n",
       "      <td>Afghanistan</td>\n",
       "      <td>Asia</td>\n",
       "      <td>36.088</td>\n",
       "      <td>13079460</td>\n",
       "      <td>739.981106</td>\n",
       "    </tr>\n",
       "    <tr>\n",
       "      <th>...</th>\n",
       "      <td>...</td>\n",
       "      <td>...</td>\n",
       "      <td>...</td>\n",
       "      <td>...</td>\n",
       "      <td>...</td>\n",
       "    </tr>\n",
       "    <tr>\n",
       "      <th>1987</th>\n",
       "      <td>Zimbabwe</td>\n",
       "      <td>Africa</td>\n",
       "      <td>62.351</td>\n",
       "      <td>9216418</td>\n",
       "      <td>706.157306</td>\n",
       "    </tr>\n",
       "    <tr>\n",
       "      <th>1992</th>\n",
       "      <td>Zimbabwe</td>\n",
       "      <td>Africa</td>\n",
       "      <td>60.377</td>\n",
       "      <td>10704340</td>\n",
       "      <td>693.420786</td>\n",
       "    </tr>\n",
       "    <tr>\n",
       "      <th>1997</th>\n",
       "      <td>Zimbabwe</td>\n",
       "      <td>Africa</td>\n",
       "      <td>46.809</td>\n",
       "      <td>11404948</td>\n",
       "      <td>792.449960</td>\n",
       "    </tr>\n",
       "    <tr>\n",
       "      <th>2002</th>\n",
       "      <td>Zimbabwe</td>\n",
       "      <td>Africa</td>\n",
       "      <td>39.989</td>\n",
       "      <td>11926563</td>\n",
       "      <td>672.038623</td>\n",
       "    </tr>\n",
       "    <tr>\n",
       "      <th>2007</th>\n",
       "      <td>Zimbabwe</td>\n",
       "      <td>Africa</td>\n",
       "      <td>43.487</td>\n",
       "      <td>12311143</td>\n",
       "      <td>469.709298</td>\n",
       "    </tr>\n",
       "  </tbody>\n",
       "</table>\n",
       "<p>3313 rows × 5 columns</p>\n",
       "</div>"
      ],
      "text/plain": [
       "          country continent  lifeExp       pop   gdpPercap\n",
       "year                                                      \n",
       "1952  Afghanistan      Asia   28.801   8425333  779.445314\n",
       "1957  Afghanistan      Asia   30.332   9240934  820.853030\n",
       "1962  Afghanistan      Asia   31.997  10267083  853.100710\n",
       "1967  Afghanistan      Asia   34.020  11537966  836.197138\n",
       "1972  Afghanistan      Asia   36.088  13079460  739.981106\n",
       "...           ...       ...      ...       ...         ...\n",
       "1987     Zimbabwe    Africa   62.351   9216418  706.157306\n",
       "1992     Zimbabwe    Africa   60.377  10704340  693.420786\n",
       "1997     Zimbabwe    Africa   46.809  11404948  792.449960\n",
       "2002     Zimbabwe    Africa   39.989  11926563  672.038623\n",
       "2007     Zimbabwe    Africa   43.487  12311143  469.709298\n",
       "\n",
       "[3313 rows x 5 columns]"
      ]
     },
     "execution_count": 100,
     "metadata": {},
     "output_type": "execute_result"
    }
   ],
   "source": [
    "# we can turn 1 of the columns into the index \n",
    "# notice the spacing difference between the column names and the index name \n",
    "gap_data.set_index(\"year\")"
   ]
  },
  {
   "cell_type": "code",
   "execution_count": 101,
   "id": "4b17a46a",
   "metadata": {
    "scrolled": false
   },
   "outputs": [
    {
     "data": {
      "text/html": [
       "<div>\n",
       "<style scoped>\n",
       "    .dataframe tbody tr th:only-of-type {\n",
       "        vertical-align: middle;\n",
       "    }\n",
       "\n",
       "    .dataframe tbody tr th {\n",
       "        vertical-align: top;\n",
       "    }\n",
       "\n",
       "    .dataframe thead th {\n",
       "        text-align: right;\n",
       "    }\n",
       "</style>\n",
       "<table border=\"1\" class=\"dataframe\">\n",
       "  <thead>\n",
       "    <tr style=\"text-align: right;\">\n",
       "      <th></th>\n",
       "      <th>country</th>\n",
       "      <th>continent</th>\n",
       "      <th>year</th>\n",
       "      <th>lifeExp</th>\n",
       "      <th>pop</th>\n",
       "      <th>gdpPercap</th>\n",
       "    </tr>\n",
       "    <tr>\n",
       "      <th>year</th>\n",
       "      <th></th>\n",
       "      <th></th>\n",
       "      <th></th>\n",
       "      <th></th>\n",
       "      <th></th>\n",
       "      <th></th>\n",
       "    </tr>\n",
       "  </thead>\n",
       "  <tbody>\n",
       "    <tr>\n",
       "      <th>1952</th>\n",
       "      <td>Afghanistan</td>\n",
       "      <td>Asia</td>\n",
       "      <td>1952</td>\n",
       "      <td>28.801</td>\n",
       "      <td>8425333</td>\n",
       "      <td>779.445314</td>\n",
       "    </tr>\n",
       "    <tr>\n",
       "      <th>1957</th>\n",
       "      <td>Afghanistan</td>\n",
       "      <td>Asia</td>\n",
       "      <td>1957</td>\n",
       "      <td>30.332</td>\n",
       "      <td>9240934</td>\n",
       "      <td>820.853030</td>\n",
       "    </tr>\n",
       "    <tr>\n",
       "      <th>1962</th>\n",
       "      <td>Afghanistan</td>\n",
       "      <td>Asia</td>\n",
       "      <td>1962</td>\n",
       "      <td>31.997</td>\n",
       "      <td>10267083</td>\n",
       "      <td>853.100710</td>\n",
       "    </tr>\n",
       "    <tr>\n",
       "      <th>1967</th>\n",
       "      <td>Afghanistan</td>\n",
       "      <td>Asia</td>\n",
       "      <td>1967</td>\n",
       "      <td>34.020</td>\n",
       "      <td>11537966</td>\n",
       "      <td>836.197138</td>\n",
       "    </tr>\n",
       "    <tr>\n",
       "      <th>1972</th>\n",
       "      <td>Afghanistan</td>\n",
       "      <td>Asia</td>\n",
       "      <td>1972</td>\n",
       "      <td>36.088</td>\n",
       "      <td>13079460</td>\n",
       "      <td>739.981106</td>\n",
       "    </tr>\n",
       "    <tr>\n",
       "      <th>...</th>\n",
       "      <td>...</td>\n",
       "      <td>...</td>\n",
       "      <td>...</td>\n",
       "      <td>...</td>\n",
       "      <td>...</td>\n",
       "      <td>...</td>\n",
       "    </tr>\n",
       "    <tr>\n",
       "      <th>1987</th>\n",
       "      <td>Zimbabwe</td>\n",
       "      <td>Africa</td>\n",
       "      <td>1987</td>\n",
       "      <td>62.351</td>\n",
       "      <td>9216418</td>\n",
       "      <td>706.157306</td>\n",
       "    </tr>\n",
       "    <tr>\n",
       "      <th>1992</th>\n",
       "      <td>Zimbabwe</td>\n",
       "      <td>Africa</td>\n",
       "      <td>1992</td>\n",
       "      <td>60.377</td>\n",
       "      <td>10704340</td>\n",
       "      <td>693.420786</td>\n",
       "    </tr>\n",
       "    <tr>\n",
       "      <th>1997</th>\n",
       "      <td>Zimbabwe</td>\n",
       "      <td>Africa</td>\n",
       "      <td>1997</td>\n",
       "      <td>46.809</td>\n",
       "      <td>11404948</td>\n",
       "      <td>792.449960</td>\n",
       "    </tr>\n",
       "    <tr>\n",
       "      <th>2002</th>\n",
       "      <td>Zimbabwe</td>\n",
       "      <td>Africa</td>\n",
       "      <td>2002</td>\n",
       "      <td>39.989</td>\n",
       "      <td>11926563</td>\n",
       "      <td>672.038623</td>\n",
       "    </tr>\n",
       "    <tr>\n",
       "      <th>2007</th>\n",
       "      <td>Zimbabwe</td>\n",
       "      <td>Africa</td>\n",
       "      <td>2007</td>\n",
       "      <td>43.487</td>\n",
       "      <td>12311143</td>\n",
       "      <td>469.709298</td>\n",
       "    </tr>\n",
       "  </tbody>\n",
       "</table>\n",
       "<p>3313 rows × 6 columns</p>\n",
       "</div>"
      ],
      "text/plain": [
       "          country continent  year  lifeExp       pop   gdpPercap\n",
       "year                                                            \n",
       "1952  Afghanistan      Asia  1952   28.801   8425333  779.445314\n",
       "1957  Afghanistan      Asia  1957   30.332   9240934  820.853030\n",
       "1962  Afghanistan      Asia  1962   31.997  10267083  853.100710\n",
       "1967  Afghanistan      Asia  1967   34.020  11537966  836.197138\n",
       "1972  Afghanistan      Asia  1972   36.088  13079460  739.981106\n",
       "...           ...       ...   ...      ...       ...         ...\n",
       "1987     Zimbabwe    Africa  1987   62.351   9216418  706.157306\n",
       "1992     Zimbabwe    Africa  1992   60.377  10704340  693.420786\n",
       "1997     Zimbabwe    Africa  1997   46.809  11404948  792.449960\n",
       "2002     Zimbabwe    Africa  2002   39.989  11926563  672.038623\n",
       "2007     Zimbabwe    Africa  2007   43.487  12311143  469.709298\n",
       "\n",
       "[3313 rows x 6 columns]"
      ]
     },
     "execution_count": 101,
     "metadata": {},
     "output_type": "execute_result"
    }
   ],
   "source": [
    "# but notice above year is now gone. to keep that column as it was, add drop = False\n",
    "gap_data_yindex = gap_data.set_index(\"year\", drop = False)\n",
    "gap_data_yindex"
   ]
  },
  {
   "cell_type": "code",
   "execution_count": 105,
   "id": "c809d80d",
   "metadata": {},
   "outputs": [
    {
     "data": {
      "text/html": [
       "<div>\n",
       "<style scoped>\n",
       "    .dataframe tbody tr th:only-of-type {\n",
       "        vertical-align: middle;\n",
       "    }\n",
       "\n",
       "    .dataframe tbody tr th {\n",
       "        vertical-align: top;\n",
       "    }\n",
       "\n",
       "    .dataframe thead th {\n",
       "        text-align: right;\n",
       "    }\n",
       "</style>\n",
       "<table border=\"1\" class=\"dataframe\">\n",
       "  <thead>\n",
       "    <tr style=\"text-align: right;\">\n",
       "      <th></th>\n",
       "      <th>country</th>\n",
       "      <th>continent</th>\n",
       "      <th>year</th>\n",
       "      <th>lifeExp</th>\n",
       "      <th>pop</th>\n",
       "      <th>gdpPercap</th>\n",
       "    </tr>\n",
       "    <tr>\n",
       "      <th>year</th>\n",
       "      <th></th>\n",
       "      <th></th>\n",
       "      <th></th>\n",
       "      <th></th>\n",
       "      <th></th>\n",
       "      <th></th>\n",
       "    </tr>\n",
       "  </thead>\n",
       "  <tbody>\n",
       "    <tr>\n",
       "      <th>1987</th>\n",
       "      <td>Afghanistan</td>\n",
       "      <td>Asia</td>\n",
       "      <td>1987</td>\n",
       "      <td>40.822</td>\n",
       "      <td>13867957</td>\n",
       "      <td>852.395945</td>\n",
       "    </tr>\n",
       "    <tr>\n",
       "      <th>1987</th>\n",
       "      <td>Albania</td>\n",
       "      <td>Europe</td>\n",
       "      <td>1987</td>\n",
       "      <td>72.000</td>\n",
       "      <td>3075321</td>\n",
       "      <td>3738.932735</td>\n",
       "    </tr>\n",
       "    <tr>\n",
       "      <th>1987</th>\n",
       "      <td>Algeria</td>\n",
       "      <td>Africa</td>\n",
       "      <td>1987</td>\n",
       "      <td>65.799</td>\n",
       "      <td>23254956</td>\n",
       "      <td>5681.358539</td>\n",
       "    </tr>\n",
       "    <tr>\n",
       "      <th>1987</th>\n",
       "      <td>Angola</td>\n",
       "      <td>Africa</td>\n",
       "      <td>1987</td>\n",
       "      <td>39.906</td>\n",
       "      <td>7874230</td>\n",
       "      <td>2430.208311</td>\n",
       "    </tr>\n",
       "    <tr>\n",
       "      <th>1987</th>\n",
       "      <td>Argentina</td>\n",
       "      <td>Americas</td>\n",
       "      <td>1987</td>\n",
       "      <td>70.774</td>\n",
       "      <td>31620918</td>\n",
       "      <td>9139.671389</td>\n",
       "    </tr>\n",
       "    <tr>\n",
       "      <th>...</th>\n",
       "      <td>...</td>\n",
       "      <td>...</td>\n",
       "      <td>...</td>\n",
       "      <td>...</td>\n",
       "      <td>...</td>\n",
       "      <td>...</td>\n",
       "    </tr>\n",
       "    <tr>\n",
       "      <th>1987</th>\n",
       "      <td>Vietnam</td>\n",
       "      <td>Asia</td>\n",
       "      <td>1987</td>\n",
       "      <td>62.820</td>\n",
       "      <td>62826491</td>\n",
       "      <td>820.799445</td>\n",
       "    </tr>\n",
       "    <tr>\n",
       "      <th>1987</th>\n",
       "      <td>West Bank and Gaza</td>\n",
       "      <td>Asia</td>\n",
       "      <td>1987</td>\n",
       "      <td>67.046</td>\n",
       "      <td>1691210</td>\n",
       "      <td>5107.197384</td>\n",
       "    </tr>\n",
       "    <tr>\n",
       "      <th>1987</th>\n",
       "      <td>Yemen, Rep.</td>\n",
       "      <td>Asia</td>\n",
       "      <td>1987</td>\n",
       "      <td>52.922</td>\n",
       "      <td>11219340</td>\n",
       "      <td>1971.741538</td>\n",
       "    </tr>\n",
       "    <tr>\n",
       "      <th>1987</th>\n",
       "      <td>Zambia</td>\n",
       "      <td>Africa</td>\n",
       "      <td>1987</td>\n",
       "      <td>50.821</td>\n",
       "      <td>7272406</td>\n",
       "      <td>1213.315116</td>\n",
       "    </tr>\n",
       "    <tr>\n",
       "      <th>1987</th>\n",
       "      <td>Zimbabwe</td>\n",
       "      <td>Africa</td>\n",
       "      <td>1987</td>\n",
       "      <td>62.351</td>\n",
       "      <td>9216418</td>\n",
       "      <td>706.157306</td>\n",
       "    </tr>\n",
       "  </tbody>\n",
       "</table>\n",
       "<p>171 rows × 6 columns</p>\n",
       "</div>"
      ],
      "text/plain": [
       "                 country continent  year  lifeExp       pop    gdpPercap\n",
       "year                                                                    \n",
       "1987         Afghanistan      Asia  1987   40.822  13867957   852.395945\n",
       "1987             Albania    Europe  1987   72.000   3075321  3738.932735\n",
       "1987             Algeria    Africa  1987   65.799  23254956  5681.358539\n",
       "1987              Angola    Africa  1987   39.906   7874230  2430.208311\n",
       "1987           Argentina  Americas  1987   70.774  31620918  9139.671389\n",
       "...                  ...       ...   ...      ...       ...          ...\n",
       "1987             Vietnam      Asia  1987   62.820  62826491   820.799445\n",
       "1987  West Bank and Gaza      Asia  1987   67.046   1691210  5107.197384\n",
       "1987         Yemen, Rep.      Asia  1987   52.922  11219340  1971.741538\n",
       "1987              Zambia    Africa  1987   50.821   7272406  1213.315116\n",
       "1987            Zimbabwe    Africa  1987   62.351   9216418   706.157306\n",
       "\n",
       "[171 rows x 6 columns]"
      ]
     },
     "execution_count": 105,
     "metadata": {},
     "output_type": "execute_result"
    }
   ],
   "source": [
    "# so now you can use your index to get whole rows from the dataframe\n",
    "# this can be bit cleaner than indexes 1,2,3,4... depending on your data\n",
    "gap_data_yindex.loc[1987]\n",
    "\n",
    "## see section below for what the .loc method does "
   ]
  },
  {
   "cell_type": "markdown",
   "id": "26c7232a",
   "metadata": {},
   "source": [
    "## 4.2 Working with data frames \n",
    "\n",
    "When working with data frames, there are a wide variety of functionalities available to you through `pandas`. Here we will focus on some key functions and attributes: \n",
    "\n",
    "* `groupby()` to perform subgroup analysis on your data\n",
    "* `reset_index()` to reset the index of your data frame. It is good practice to do this after `groupby()` in particular to avoid funky and unexpected results\n",
    "* `assign()` to assign or calculate a new column. `assign()` *does not* change the original dataframe, which is a special change of pace! That's because if you specified `inplace=True` it would just add a column called 'inplace' and put values True in every row of that column. \n",
    "* `agg()` aggregate using one or more operations over a specified range of columns or rows \n",
    "* `isin()` along side slicing to filter specific rows of a data frame\n",
    "* `query()` to query or filter columns of a data frame with a boolean expression \n",
    "* `loc` to select rows and columns by labels or a boolean array, stands for location\n",
    "* `iloc` to select rows and columns by integer-location indexing for selecting by position, stands for integer-location\n",
    "* `df.astype()` to change the data type of a `pandas` object\n",
    "\n",
    "You can also assign new values to a selection of your data frame using `loc`/`iloc`.\n",
    "\n",
    "When combining multiple conditional statements, each condition must be surrounded by parentheses `()`. Additioanlly, in `pandas` you *cannot* use `or`/`and` but need to use the 'or' operator `|` and the 'and' operator `&`.\n",
    "\n",
    "`pandas` data frame provide a full set of all statistical methods as well. If you need something specific, always [look in the documentation](https://pandas.pydata.org/pandas-docs/stable/reference/api/pandas.DataFrame.html)"
   ]
  },
  {
   "cell_type": "code",
   "execution_count": 107,
   "id": "de60129a",
   "metadata": {
    "scrolled": false
   },
   "outputs": [
    {
     "name": "stdout",
     "output_type": "stream",
     "text": [
      "continent\n",
      "Africa      9.728850e+06\n",
      "Americas    3.941673e+07\n",
      "Asia        9.544418e+07\n",
      "Europe      1.531594e+07\n",
      "FSU         3.179300e+07\n",
      "Oceania     5.424172e+06\n",
      "Name: pop, dtype: float64\n",
      "continent\n",
      "Africa      1.754648e+07\n",
      "Americas    2.731354e+07\n",
      "Asia        8.932016e+07\n",
      "Europe      1.744369e+07\n",
      "FSU         2.840137e+07\n",
      "Oceania     2.995027e+06\n",
      "Name: pop, dtype: float64\n"
     ]
    }
   ],
   "source": [
    "# mean of all populations in the dataset grouped by continent \n",
    "print(gap_data[\"pop\"].groupby(gap_data[\"continent\"]).mean())\n",
    "\n",
    "gap_data_2007 = gap_data[gap_data['year'] == 2007]\n",
    "print(gap_data_2007[\"pop\"].groupby(gap_data[\"continent\"]).mean())"
   ]
  },
  {
   "cell_type": "code",
   "execution_count": 108,
   "id": "e0970905",
   "metadata": {},
   "outputs": [
    {
     "data": {
      "text/html": [
       "<div>\n",
       "<style scoped>\n",
       "    .dataframe tbody tr th:only-of-type {\n",
       "        vertical-align: middle;\n",
       "    }\n",
       "\n",
       "    .dataframe tbody tr th {\n",
       "        vertical-align: top;\n",
       "    }\n",
       "\n",
       "    .dataframe thead th {\n",
       "        text-align: right;\n",
       "    }\n",
       "</style>\n",
       "<table border=\"1\" class=\"dataframe\">\n",
       "  <thead>\n",
       "    <tr style=\"text-align: right;\">\n",
       "      <th></th>\n",
       "      <th>country</th>\n",
       "      <th>continent</th>\n",
       "    </tr>\n",
       "  </thead>\n",
       "  <tbody>\n",
       "    <tr>\n",
       "      <th>0</th>\n",
       "      <td>Afghanistan</td>\n",
       "      <td>Asia</td>\n",
       "    </tr>\n",
       "    <tr>\n",
       "      <th>1</th>\n",
       "      <td>Afghanistan</td>\n",
       "      <td>Asia</td>\n",
       "    </tr>\n",
       "    <tr>\n",
       "      <th>2</th>\n",
       "      <td>Afghanistan</td>\n",
       "      <td>Asia</td>\n",
       "    </tr>\n",
       "    <tr>\n",
       "      <th>3</th>\n",
       "      <td>Afghanistan</td>\n",
       "      <td>Asia</td>\n",
       "    </tr>\n",
       "    <tr>\n",
       "      <th>4</th>\n",
       "      <td>Afghanistan</td>\n",
       "      <td>Asia</td>\n",
       "    </tr>\n",
       "    <tr>\n",
       "      <th>...</th>\n",
       "      <td>...</td>\n",
       "      <td>...</td>\n",
       "    </tr>\n",
       "    <tr>\n",
       "      <th>3308</th>\n",
       "      <td>Zimbabwe</td>\n",
       "      <td>Africa</td>\n",
       "    </tr>\n",
       "    <tr>\n",
       "      <th>3309</th>\n",
       "      <td>Zimbabwe</td>\n",
       "      <td>Africa</td>\n",
       "    </tr>\n",
       "    <tr>\n",
       "      <th>3310</th>\n",
       "      <td>Zimbabwe</td>\n",
       "      <td>Africa</td>\n",
       "    </tr>\n",
       "    <tr>\n",
       "      <th>3311</th>\n",
       "      <td>Zimbabwe</td>\n",
       "      <td>Africa</td>\n",
       "    </tr>\n",
       "    <tr>\n",
       "      <th>3312</th>\n",
       "      <td>Zimbabwe</td>\n",
       "      <td>Africa</td>\n",
       "    </tr>\n",
       "  </tbody>\n",
       "</table>\n",
       "<p>3313 rows × 2 columns</p>\n",
       "</div>"
      ],
      "text/plain": [
       "          country continent\n",
       "0     Afghanistan      Asia\n",
       "1     Afghanistan      Asia\n",
       "2     Afghanistan      Asia\n",
       "3     Afghanistan      Asia\n",
       "4     Afghanistan      Asia\n",
       "...           ...       ...\n",
       "3308     Zimbabwe    Africa\n",
       "3309     Zimbabwe    Africa\n",
       "3310     Zimbabwe    Africa\n",
       "3311     Zimbabwe    Africa\n",
       "3312     Zimbabwe    Africa\n",
       "\n",
       "[3313 rows x 2 columns]"
      ]
     },
     "execution_count": 108,
     "metadata": {},
     "output_type": "execute_result"
    }
   ],
   "source": [
    "# subset data to be only year and continent variables\n",
    "gap_filter = gap_data.iloc[:, 0:2].copy()\n",
    "\n",
    "## [:, 0:2] reads as everything or all rows, slicing columns to be only the first 2 following [row, columns]\n",
    "## .copy() method to get a regular copy, to avoid the case where changing gap_filter also changes gap_data\n",
    "\n",
    "gap_filter"
   ]
  },
  {
   "cell_type": "code",
   "execution_count": 109,
   "id": "cd471b91",
   "metadata": {},
   "outputs": [
    {
     "data": {
      "text/html": [
       "<div>\n",
       "<style scoped>\n",
       "    .dataframe tbody tr th:only-of-type {\n",
       "        vertical-align: middle;\n",
       "    }\n",
       "\n",
       "    .dataframe tbody tr th {\n",
       "        vertical-align: top;\n",
       "    }\n",
       "\n",
       "    .dataframe thead th {\n",
       "        text-align: right;\n",
       "    }\n",
       "</style>\n",
       "<table border=\"1\" class=\"dataframe\">\n",
       "  <thead>\n",
       "    <tr style=\"text-align: right;\">\n",
       "      <th></th>\n",
       "      <th>country</th>\n",
       "      <th>continent</th>\n",
       "      <th>year</th>\n",
       "      <th>lifeExp</th>\n",
       "      <th>pop</th>\n",
       "      <th>gdpPercap</th>\n",
       "    </tr>\n",
       "  </thead>\n",
       "  <tbody>\n",
       "    <tr>\n",
       "      <th>6</th>\n",
       "      <td>Afghanistan</td>\n",
       "      <td>Asia</td>\n",
       "      <td>1982</td>\n",
       "      <td>39.854</td>\n",
       "      <td>12881816</td>\n",
       "      <td>978.011439</td>\n",
       "    </tr>\n",
       "    <tr>\n",
       "      <th>7</th>\n",
       "      <td>Afghanistan</td>\n",
       "      <td>Asia</td>\n",
       "      <td>1987</td>\n",
       "      <td>40.822</td>\n",
       "      <td>13867957</td>\n",
       "      <td>852.395945</td>\n",
       "    </tr>\n",
       "    <tr>\n",
       "      <th>8</th>\n",
       "      <td>Afghanistan</td>\n",
       "      <td>Asia</td>\n",
       "      <td>1992</td>\n",
       "      <td>41.674</td>\n",
       "      <td>16317921</td>\n",
       "      <td>649.341395</td>\n",
       "    </tr>\n",
       "    <tr>\n",
       "      <th>9</th>\n",
       "      <td>Afghanistan</td>\n",
       "      <td>Asia</td>\n",
       "      <td>1997</td>\n",
       "      <td>41.763</td>\n",
       "      <td>22227415</td>\n",
       "      <td>635.341351</td>\n",
       "    </tr>\n",
       "    <tr>\n",
       "      <th>10</th>\n",
       "      <td>Afghanistan</td>\n",
       "      <td>Asia</td>\n",
       "      <td>2002</td>\n",
       "      <td>42.129</td>\n",
       "      <td>25268405</td>\n",
       "      <td>726.734055</td>\n",
       "    </tr>\n",
       "    <tr>\n",
       "      <th>...</th>\n",
       "      <td>...</td>\n",
       "      <td>...</td>\n",
       "      <td>...</td>\n",
       "      <td>...</td>\n",
       "      <td>...</td>\n",
       "      <td>...</td>\n",
       "    </tr>\n",
       "    <tr>\n",
       "      <th>3308</th>\n",
       "      <td>Zimbabwe</td>\n",
       "      <td>Africa</td>\n",
       "      <td>1987</td>\n",
       "      <td>62.351</td>\n",
       "      <td>9216418</td>\n",
       "      <td>706.157306</td>\n",
       "    </tr>\n",
       "    <tr>\n",
       "      <th>3309</th>\n",
       "      <td>Zimbabwe</td>\n",
       "      <td>Africa</td>\n",
       "      <td>1992</td>\n",
       "      <td>60.377</td>\n",
       "      <td>10704340</td>\n",
       "      <td>693.420786</td>\n",
       "    </tr>\n",
       "    <tr>\n",
       "      <th>3310</th>\n",
       "      <td>Zimbabwe</td>\n",
       "      <td>Africa</td>\n",
       "      <td>1997</td>\n",
       "      <td>46.809</td>\n",
       "      <td>11404948</td>\n",
       "      <td>792.449960</td>\n",
       "    </tr>\n",
       "    <tr>\n",
       "      <th>3311</th>\n",
       "      <td>Zimbabwe</td>\n",
       "      <td>Africa</td>\n",
       "      <td>2002</td>\n",
       "      <td>39.989</td>\n",
       "      <td>11926563</td>\n",
       "      <td>672.038623</td>\n",
       "    </tr>\n",
       "    <tr>\n",
       "      <th>3312</th>\n",
       "      <td>Zimbabwe</td>\n",
       "      <td>Africa</td>\n",
       "      <td>2007</td>\n",
       "      <td>43.487</td>\n",
       "      <td>12311143</td>\n",
       "      <td>469.709298</td>\n",
       "    </tr>\n",
       "  </tbody>\n",
       "</table>\n",
       "<p>1737 rows × 6 columns</p>\n",
       "</div>"
      ],
      "text/plain": [
       "          country continent  year  lifeExp       pop   gdpPercap\n",
       "6     Afghanistan      Asia  1982   39.854  12881816  978.011439\n",
       "7     Afghanistan      Asia  1987   40.822  13867957  852.395945\n",
       "8     Afghanistan      Asia  1992   41.674  16317921  649.341395\n",
       "9     Afghanistan      Asia  1997   41.763  22227415  635.341351\n",
       "10    Afghanistan      Asia  2002   42.129  25268405  726.734055\n",
       "...           ...       ...   ...      ...       ...         ...\n",
       "3308     Zimbabwe    Africa  1987   62.351   9216418  706.157306\n",
       "3309     Zimbabwe    Africa  1992   60.377  10704340  693.420786\n",
       "3310     Zimbabwe    Africa  1997   46.809  11404948  792.449960\n",
       "3311     Zimbabwe    Africa  2002   39.989  11926563  672.038623\n",
       "3312     Zimbabwe    Africa  2007   43.487  12311143  469.709298\n",
       "\n",
       "[1737 rows x 6 columns]"
      ]
     },
     "execution_count": 109,
     "metadata": {},
     "output_type": "execute_result"
    }
   ],
   "source": [
    "# filter data to be only 1980 and before\n",
    "gap_data.loc[gap_data[\"year\"] >= 1980]"
   ]
  },
  {
   "cell_type": "code",
   "execution_count": 110,
   "id": "10abe626",
   "metadata": {},
   "outputs": [
    {
     "data": {
      "text/html": [
       "<div>\n",
       "<style scoped>\n",
       "    .dataframe tbody tr th:only-of-type {\n",
       "        vertical-align: middle;\n",
       "    }\n",
       "\n",
       "    .dataframe tbody tr th {\n",
       "        vertical-align: top;\n",
       "    }\n",
       "\n",
       "    .dataframe thead th {\n",
       "        text-align: right;\n",
       "    }\n",
       "</style>\n",
       "<table border=\"1\" class=\"dataframe\">\n",
       "  <thead>\n",
       "    <tr style=\"text-align: right;\">\n",
       "      <th></th>\n",
       "      <th>country</th>\n",
       "      <th>continent</th>\n",
       "      <th>year</th>\n",
       "      <th>lifeExp</th>\n",
       "      <th>pop</th>\n",
       "      <th>gdpPercap</th>\n",
       "    </tr>\n",
       "  </thead>\n",
       "  <tbody>\n",
       "    <tr>\n",
       "      <th>2313</th>\n",
       "      <td>Peru</td>\n",
       "      <td>Americas</td>\n",
       "      <td>1952</td>\n",
       "      <td>43.902</td>\n",
       "      <td>8025700</td>\n",
       "      <td>3758.523437</td>\n",
       "    </tr>\n",
       "    <tr>\n",
       "      <th>2314</th>\n",
       "      <td>Peru</td>\n",
       "      <td>Americas</td>\n",
       "      <td>1957</td>\n",
       "      <td>46.263</td>\n",
       "      <td>9146100</td>\n",
       "      <td>4245.256698</td>\n",
       "    </tr>\n",
       "    <tr>\n",
       "      <th>2315</th>\n",
       "      <td>Peru</td>\n",
       "      <td>Americas</td>\n",
       "      <td>1962</td>\n",
       "      <td>49.096</td>\n",
       "      <td>10516500</td>\n",
       "      <td>4957.037982</td>\n",
       "    </tr>\n",
       "    <tr>\n",
       "      <th>2316</th>\n",
       "      <td>Peru</td>\n",
       "      <td>Americas</td>\n",
       "      <td>1967</td>\n",
       "      <td>51.445</td>\n",
       "      <td>12132200</td>\n",
       "      <td>5788.093330</td>\n",
       "    </tr>\n",
       "    <tr>\n",
       "      <th>2317</th>\n",
       "      <td>Peru</td>\n",
       "      <td>Americas</td>\n",
       "      <td>1972</td>\n",
       "      <td>55.448</td>\n",
       "      <td>13954700</td>\n",
       "      <td>5937.827283</td>\n",
       "    </tr>\n",
       "    <tr>\n",
       "      <th>2318</th>\n",
       "      <td>Peru</td>\n",
       "      <td>Americas</td>\n",
       "      <td>1977</td>\n",
       "      <td>58.447</td>\n",
       "      <td>15990099</td>\n",
       "      <td>6281.290855</td>\n",
       "    </tr>\n",
       "    <tr>\n",
       "      <th>2319</th>\n",
       "      <td>Peru</td>\n",
       "      <td>Americas</td>\n",
       "      <td>1982</td>\n",
       "      <td>61.406</td>\n",
       "      <td>18125129</td>\n",
       "      <td>6434.501797</td>\n",
       "    </tr>\n",
       "    <tr>\n",
       "      <th>2320</th>\n",
       "      <td>Peru</td>\n",
       "      <td>Americas</td>\n",
       "      <td>1987</td>\n",
       "      <td>64.134</td>\n",
       "      <td>20195924</td>\n",
       "      <td>6360.943444</td>\n",
       "    </tr>\n",
       "    <tr>\n",
       "      <th>2321</th>\n",
       "      <td>Peru</td>\n",
       "      <td>Americas</td>\n",
       "      <td>1992</td>\n",
       "      <td>66.458</td>\n",
       "      <td>22430449</td>\n",
       "      <td>4446.380924</td>\n",
       "    </tr>\n",
       "    <tr>\n",
       "      <th>2322</th>\n",
       "      <td>Peru</td>\n",
       "      <td>Americas</td>\n",
       "      <td>1997</td>\n",
       "      <td>68.386</td>\n",
       "      <td>24748122</td>\n",
       "      <td>5838.347657</td>\n",
       "    </tr>\n",
       "    <tr>\n",
       "      <th>2323</th>\n",
       "      <td>Peru</td>\n",
       "      <td>Americas</td>\n",
       "      <td>2002</td>\n",
       "      <td>69.906</td>\n",
       "      <td>26769436</td>\n",
       "      <td>5909.020073</td>\n",
       "    </tr>\n",
       "    <tr>\n",
       "      <th>2324</th>\n",
       "      <td>Peru</td>\n",
       "      <td>Americas</td>\n",
       "      <td>2007</td>\n",
       "      <td>71.421</td>\n",
       "      <td>28674757</td>\n",
       "      <td>7408.905561</td>\n",
       "    </tr>\n",
       "    <tr>\n",
       "      <th>3031</th>\n",
       "      <td>Thailand</td>\n",
       "      <td>Asia</td>\n",
       "      <td>1950</td>\n",
       "      <td>45.200</td>\n",
       "      <td>20041628</td>\n",
       "      <td>712.398091</td>\n",
       "    </tr>\n",
       "    <tr>\n",
       "      <th>3032</th>\n",
       "      <td>Thailand</td>\n",
       "      <td>Asia</td>\n",
       "      <td>1952</td>\n",
       "      <td>50.848</td>\n",
       "      <td>21289402</td>\n",
       "      <td>757.797418</td>\n",
       "    </tr>\n",
       "    <tr>\n",
       "      <th>3033</th>\n",
       "      <td>Thailand</td>\n",
       "      <td>Asia</td>\n",
       "      <td>1957</td>\n",
       "      <td>53.630</td>\n",
       "      <td>25041917</td>\n",
       "      <td>793.577415</td>\n",
       "    </tr>\n",
       "    <tr>\n",
       "      <th>3034</th>\n",
       "      <td>Thailand</td>\n",
       "      <td>Asia</td>\n",
       "      <td>1962</td>\n",
       "      <td>56.061</td>\n",
       "      <td>29263397</td>\n",
       "      <td>1002.199172</td>\n",
       "    </tr>\n",
       "    <tr>\n",
       "      <th>3035</th>\n",
       "      <td>Thailand</td>\n",
       "      <td>Asia</td>\n",
       "      <td>1967</td>\n",
       "      <td>58.285</td>\n",
       "      <td>34024249</td>\n",
       "      <td>1295.460660</td>\n",
       "    </tr>\n",
       "    <tr>\n",
       "      <th>3036</th>\n",
       "      <td>Thailand</td>\n",
       "      <td>Asia</td>\n",
       "      <td>1972</td>\n",
       "      <td>60.405</td>\n",
       "      <td>39276153</td>\n",
       "      <td>1524.358936</td>\n",
       "    </tr>\n",
       "    <tr>\n",
       "      <th>3037</th>\n",
       "      <td>Thailand</td>\n",
       "      <td>Asia</td>\n",
       "      <td>1977</td>\n",
       "      <td>62.494</td>\n",
       "      <td>44148285</td>\n",
       "      <td>1961.224635</td>\n",
       "    </tr>\n",
       "    <tr>\n",
       "      <th>3038</th>\n",
       "      <td>Thailand</td>\n",
       "      <td>Asia</td>\n",
       "      <td>1982</td>\n",
       "      <td>64.597</td>\n",
       "      <td>48827160</td>\n",
       "      <td>2393.219781</td>\n",
       "    </tr>\n",
       "    <tr>\n",
       "      <th>3039</th>\n",
       "      <td>Thailand</td>\n",
       "      <td>Asia</td>\n",
       "      <td>1987</td>\n",
       "      <td>66.084</td>\n",
       "      <td>52910342</td>\n",
       "      <td>2982.653773</td>\n",
       "    </tr>\n",
       "    <tr>\n",
       "      <th>3040</th>\n",
       "      <td>Thailand</td>\n",
       "      <td>Asia</td>\n",
       "      <td>1992</td>\n",
       "      <td>67.298</td>\n",
       "      <td>56667095</td>\n",
       "      <td>4616.896545</td>\n",
       "    </tr>\n",
       "    <tr>\n",
       "      <th>3041</th>\n",
       "      <td>Thailand</td>\n",
       "      <td>Asia</td>\n",
       "      <td>1997</td>\n",
       "      <td>67.521</td>\n",
       "      <td>60216677</td>\n",
       "      <td>5852.625497</td>\n",
       "    </tr>\n",
       "    <tr>\n",
       "      <th>3042</th>\n",
       "      <td>Thailand</td>\n",
       "      <td>Asia</td>\n",
       "      <td>2002</td>\n",
       "      <td>68.564</td>\n",
       "      <td>62806748</td>\n",
       "      <td>5913.187529</td>\n",
       "    </tr>\n",
       "    <tr>\n",
       "      <th>3043</th>\n",
       "      <td>Thailand</td>\n",
       "      <td>Asia</td>\n",
       "      <td>2007</td>\n",
       "      <td>70.616</td>\n",
       "      <td>65068149</td>\n",
       "      <td>7458.396327</td>\n",
       "    </tr>\n",
       "  </tbody>\n",
       "</table>\n",
       "</div>"
      ],
      "text/plain": [
       "       country continent  year  lifeExp       pop    gdpPercap\n",
       "2313      Peru  Americas  1952   43.902   8025700  3758.523437\n",
       "2314      Peru  Americas  1957   46.263   9146100  4245.256698\n",
       "2315      Peru  Americas  1962   49.096  10516500  4957.037982\n",
       "2316      Peru  Americas  1967   51.445  12132200  5788.093330\n",
       "2317      Peru  Americas  1972   55.448  13954700  5937.827283\n",
       "2318      Peru  Americas  1977   58.447  15990099  6281.290855\n",
       "2319      Peru  Americas  1982   61.406  18125129  6434.501797\n",
       "2320      Peru  Americas  1987   64.134  20195924  6360.943444\n",
       "2321      Peru  Americas  1992   66.458  22430449  4446.380924\n",
       "2322      Peru  Americas  1997   68.386  24748122  5838.347657\n",
       "2323      Peru  Americas  2002   69.906  26769436  5909.020073\n",
       "2324      Peru  Americas  2007   71.421  28674757  7408.905561\n",
       "3031  Thailand      Asia  1950   45.200  20041628   712.398091\n",
       "3032  Thailand      Asia  1952   50.848  21289402   757.797418\n",
       "3033  Thailand      Asia  1957   53.630  25041917   793.577415\n",
       "3034  Thailand      Asia  1962   56.061  29263397  1002.199172\n",
       "3035  Thailand      Asia  1967   58.285  34024249  1295.460660\n",
       "3036  Thailand      Asia  1972   60.405  39276153  1524.358936\n",
       "3037  Thailand      Asia  1977   62.494  44148285  1961.224635\n",
       "3038  Thailand      Asia  1982   64.597  48827160  2393.219781\n",
       "3039  Thailand      Asia  1987   66.084  52910342  2982.653773\n",
       "3040  Thailand      Asia  1992   67.298  56667095  4616.896545\n",
       "3041  Thailand      Asia  1997   67.521  60216677  5852.625497\n",
       "3042  Thailand      Asia  2002   68.564  62806748  5913.187529\n",
       "3043  Thailand      Asia  2007   70.616  65068149  7458.396327"
      ]
     },
     "execution_count": 110,
     "metadata": {},
     "output_type": "execute_result"
    }
   ],
   "source": [
    "# filter data to be specific countries\n",
    "gap_data.loc[gap_data[\"country\"].isin([\"Thailand\", \"Peru\"])]"
   ]
  },
  {
   "cell_type": "code",
   "execution_count": 111,
   "id": "52de87df",
   "metadata": {},
   "outputs": [
    {
     "name": "stdout",
     "output_type": "stream",
     "text": [
      "11313.820704426891\n",
      "11313.820704426891\n"
     ]
    }
   ],
   "source": [
    "# get the mean of a column \n",
    "print(gap_data[\"gdpPercap\"].mean())\n",
    "\n",
    "## or you could use \n",
    "print(gap_data.gdpPercap.mean())"
   ]
  },
  {
   "cell_type": "code",
   "execution_count": 112,
   "id": "0f413796",
   "metadata": {
    "scrolled": true
   },
   "outputs": [
    {
     "data": {
      "text/html": [
       "<div>\n",
       "<style scoped>\n",
       "    .dataframe tbody tr th:only-of-type {\n",
       "        vertical-align: middle;\n",
       "    }\n",
       "\n",
       "    .dataframe tbody tr th {\n",
       "        vertical-align: top;\n",
       "    }\n",
       "\n",
       "    .dataframe thead th {\n",
       "        text-align: right;\n",
       "    }\n",
       "</style>\n",
       "<table border=\"1\" class=\"dataframe\">\n",
       "  <thead>\n",
       "    <tr style=\"text-align: right;\">\n",
       "      <th></th>\n",
       "      <th>country</th>\n",
       "      <th>continent</th>\n",
       "      <th>year</th>\n",
       "      <th>lifeExp</th>\n",
       "      <th>pop</th>\n",
       "      <th>gdpPercap</th>\n",
       "      <th>mean_gdpPercap</th>\n",
       "    </tr>\n",
       "  </thead>\n",
       "  <tbody>\n",
       "    <tr>\n",
       "      <th>0</th>\n",
       "      <td>Afghanistan</td>\n",
       "      <td>Asia</td>\n",
       "      <td>1952</td>\n",
       "      <td>28.801</td>\n",
       "      <td>8425333</td>\n",
       "      <td>779.445314</td>\n",
       "      <td>11313.820704</td>\n",
       "    </tr>\n",
       "    <tr>\n",
       "      <th>1</th>\n",
       "      <td>Afghanistan</td>\n",
       "      <td>Asia</td>\n",
       "      <td>1957</td>\n",
       "      <td>30.332</td>\n",
       "      <td>9240934</td>\n",
       "      <td>820.853030</td>\n",
       "      <td>11313.820704</td>\n",
       "    </tr>\n",
       "    <tr>\n",
       "      <th>2</th>\n",
       "      <td>Afghanistan</td>\n",
       "      <td>Asia</td>\n",
       "      <td>1962</td>\n",
       "      <td>31.997</td>\n",
       "      <td>10267083</td>\n",
       "      <td>853.100710</td>\n",
       "      <td>11313.820704</td>\n",
       "    </tr>\n",
       "    <tr>\n",
       "      <th>3</th>\n",
       "      <td>Afghanistan</td>\n",
       "      <td>Asia</td>\n",
       "      <td>1967</td>\n",
       "      <td>34.020</td>\n",
       "      <td>11537966</td>\n",
       "      <td>836.197138</td>\n",
       "      <td>11313.820704</td>\n",
       "    </tr>\n",
       "    <tr>\n",
       "      <th>4</th>\n",
       "      <td>Afghanistan</td>\n",
       "      <td>Asia</td>\n",
       "      <td>1972</td>\n",
       "      <td>36.088</td>\n",
       "      <td>13079460</td>\n",
       "      <td>739.981106</td>\n",
       "      <td>11313.820704</td>\n",
       "    </tr>\n",
       "    <tr>\n",
       "      <th>...</th>\n",
       "      <td>...</td>\n",
       "      <td>...</td>\n",
       "      <td>...</td>\n",
       "      <td>...</td>\n",
       "      <td>...</td>\n",
       "      <td>...</td>\n",
       "      <td>...</td>\n",
       "    </tr>\n",
       "    <tr>\n",
       "      <th>3308</th>\n",
       "      <td>Zimbabwe</td>\n",
       "      <td>Africa</td>\n",
       "      <td>1987</td>\n",
       "      <td>62.351</td>\n",
       "      <td>9216418</td>\n",
       "      <td>706.157306</td>\n",
       "      <td>11313.820704</td>\n",
       "    </tr>\n",
       "    <tr>\n",
       "      <th>3309</th>\n",
       "      <td>Zimbabwe</td>\n",
       "      <td>Africa</td>\n",
       "      <td>1992</td>\n",
       "      <td>60.377</td>\n",
       "      <td>10704340</td>\n",
       "      <td>693.420786</td>\n",
       "      <td>11313.820704</td>\n",
       "    </tr>\n",
       "    <tr>\n",
       "      <th>3310</th>\n",
       "      <td>Zimbabwe</td>\n",
       "      <td>Africa</td>\n",
       "      <td>1997</td>\n",
       "      <td>46.809</td>\n",
       "      <td>11404948</td>\n",
       "      <td>792.449960</td>\n",
       "      <td>11313.820704</td>\n",
       "    </tr>\n",
       "    <tr>\n",
       "      <th>3311</th>\n",
       "      <td>Zimbabwe</td>\n",
       "      <td>Africa</td>\n",
       "      <td>2002</td>\n",
       "      <td>39.989</td>\n",
       "      <td>11926563</td>\n",
       "      <td>672.038623</td>\n",
       "      <td>11313.820704</td>\n",
       "    </tr>\n",
       "    <tr>\n",
       "      <th>3312</th>\n",
       "      <td>Zimbabwe</td>\n",
       "      <td>Africa</td>\n",
       "      <td>2007</td>\n",
       "      <td>43.487</td>\n",
       "      <td>12311143</td>\n",
       "      <td>469.709298</td>\n",
       "      <td>11313.820704</td>\n",
       "    </tr>\n",
       "  </tbody>\n",
       "</table>\n",
       "<p>3313 rows × 7 columns</p>\n",
       "</div>"
      ],
      "text/plain": [
       "          country continent  year  lifeExp       pop   gdpPercap  \\\n",
       "0     Afghanistan      Asia  1952   28.801   8425333  779.445314   \n",
       "1     Afghanistan      Asia  1957   30.332   9240934  820.853030   \n",
       "2     Afghanistan      Asia  1962   31.997  10267083  853.100710   \n",
       "3     Afghanistan      Asia  1967   34.020  11537966  836.197138   \n",
       "4     Afghanistan      Asia  1972   36.088  13079460  739.981106   \n",
       "...           ...       ...   ...      ...       ...         ...   \n",
       "3308     Zimbabwe    Africa  1987   62.351   9216418  706.157306   \n",
       "3309     Zimbabwe    Africa  1992   60.377  10704340  693.420786   \n",
       "3310     Zimbabwe    Africa  1997   46.809  11404948  792.449960   \n",
       "3311     Zimbabwe    Africa  2002   39.989  11926563  672.038623   \n",
       "3312     Zimbabwe    Africa  2007   43.487  12311143  469.709298   \n",
       "\n",
       "      mean_gdpPercap  \n",
       "0       11313.820704  \n",
       "1       11313.820704  \n",
       "2       11313.820704  \n",
       "3       11313.820704  \n",
       "4       11313.820704  \n",
       "...              ...  \n",
       "3308    11313.820704  \n",
       "3309    11313.820704  \n",
       "3310    11313.820704  \n",
       "3311    11313.820704  \n",
       "3312    11313.820704  \n",
       "\n",
       "[3313 rows x 7 columns]"
      ]
     },
     "execution_count": 112,
     "metadata": {},
     "output_type": "execute_result"
    }
   ],
   "source": [
    "# create a new variable called mean_gdpPercap with the mean of the whole data set using assign \n",
    "gap_data.assign(mean_gdpPercap = gap_data[\"gdpPercap\"].mean())"
   ]
  },
  {
   "cell_type": "code",
   "execution_count": 113,
   "id": "3c8acb70",
   "metadata": {},
   "outputs": [
    {
     "data": {
      "text/html": [
       "<div>\n",
       "<style scoped>\n",
       "    .dataframe tbody tr th:only-of-type {\n",
       "        vertical-align: middle;\n",
       "    }\n",
       "\n",
       "    .dataframe tbody tr th {\n",
       "        vertical-align: top;\n",
       "    }\n",
       "\n",
       "    .dataframe thead th {\n",
       "        text-align: right;\n",
       "    }\n",
       "</style>\n",
       "<table border=\"1\" class=\"dataframe\">\n",
       "  <thead>\n",
       "    <tr style=\"text-align: right;\">\n",
       "      <th></th>\n",
       "      <th>country</th>\n",
       "      <th>continent</th>\n",
       "      <th>year</th>\n",
       "      <th>lifeExp</th>\n",
       "      <th>pop</th>\n",
       "      <th>gdpPercap</th>\n",
       "      <th>mean_gdpPercap</th>\n",
       "      <th>inplace</th>\n",
       "    </tr>\n",
       "  </thead>\n",
       "  <tbody>\n",
       "    <tr>\n",
       "      <th>0</th>\n",
       "      <td>Afghanistan</td>\n",
       "      <td>Asia</td>\n",
       "      <td>1952</td>\n",
       "      <td>28.801</td>\n",
       "      <td>8425333</td>\n",
       "      <td>779.445314</td>\n",
       "      <td>11313.820704</td>\n",
       "      <td>True</td>\n",
       "    </tr>\n",
       "    <tr>\n",
       "      <th>1</th>\n",
       "      <td>Afghanistan</td>\n",
       "      <td>Asia</td>\n",
       "      <td>1957</td>\n",
       "      <td>30.332</td>\n",
       "      <td>9240934</td>\n",
       "      <td>820.853030</td>\n",
       "      <td>11313.820704</td>\n",
       "      <td>True</td>\n",
       "    </tr>\n",
       "    <tr>\n",
       "      <th>2</th>\n",
       "      <td>Afghanistan</td>\n",
       "      <td>Asia</td>\n",
       "      <td>1962</td>\n",
       "      <td>31.997</td>\n",
       "      <td>10267083</td>\n",
       "      <td>853.100710</td>\n",
       "      <td>11313.820704</td>\n",
       "      <td>True</td>\n",
       "    </tr>\n",
       "    <tr>\n",
       "      <th>3</th>\n",
       "      <td>Afghanistan</td>\n",
       "      <td>Asia</td>\n",
       "      <td>1967</td>\n",
       "      <td>34.020</td>\n",
       "      <td>11537966</td>\n",
       "      <td>836.197138</td>\n",
       "      <td>11313.820704</td>\n",
       "      <td>True</td>\n",
       "    </tr>\n",
       "    <tr>\n",
       "      <th>4</th>\n",
       "      <td>Afghanistan</td>\n",
       "      <td>Asia</td>\n",
       "      <td>1972</td>\n",
       "      <td>36.088</td>\n",
       "      <td>13079460</td>\n",
       "      <td>739.981106</td>\n",
       "      <td>11313.820704</td>\n",
       "      <td>True</td>\n",
       "    </tr>\n",
       "    <tr>\n",
       "      <th>...</th>\n",
       "      <td>...</td>\n",
       "      <td>...</td>\n",
       "      <td>...</td>\n",
       "      <td>...</td>\n",
       "      <td>...</td>\n",
       "      <td>...</td>\n",
       "      <td>...</td>\n",
       "      <td>...</td>\n",
       "    </tr>\n",
       "    <tr>\n",
       "      <th>3308</th>\n",
       "      <td>Zimbabwe</td>\n",
       "      <td>Africa</td>\n",
       "      <td>1987</td>\n",
       "      <td>62.351</td>\n",
       "      <td>9216418</td>\n",
       "      <td>706.157306</td>\n",
       "      <td>11313.820704</td>\n",
       "      <td>True</td>\n",
       "    </tr>\n",
       "    <tr>\n",
       "      <th>3309</th>\n",
       "      <td>Zimbabwe</td>\n",
       "      <td>Africa</td>\n",
       "      <td>1992</td>\n",
       "      <td>60.377</td>\n",
       "      <td>10704340</td>\n",
       "      <td>693.420786</td>\n",
       "      <td>11313.820704</td>\n",
       "      <td>True</td>\n",
       "    </tr>\n",
       "    <tr>\n",
       "      <th>3310</th>\n",
       "      <td>Zimbabwe</td>\n",
       "      <td>Africa</td>\n",
       "      <td>1997</td>\n",
       "      <td>46.809</td>\n",
       "      <td>11404948</td>\n",
       "      <td>792.449960</td>\n",
       "      <td>11313.820704</td>\n",
       "      <td>True</td>\n",
       "    </tr>\n",
       "    <tr>\n",
       "      <th>3311</th>\n",
       "      <td>Zimbabwe</td>\n",
       "      <td>Africa</td>\n",
       "      <td>2002</td>\n",
       "      <td>39.989</td>\n",
       "      <td>11926563</td>\n",
       "      <td>672.038623</td>\n",
       "      <td>11313.820704</td>\n",
       "      <td>True</td>\n",
       "    </tr>\n",
       "    <tr>\n",
       "      <th>3312</th>\n",
       "      <td>Zimbabwe</td>\n",
       "      <td>Africa</td>\n",
       "      <td>2007</td>\n",
       "      <td>43.487</td>\n",
       "      <td>12311143</td>\n",
       "      <td>469.709298</td>\n",
       "      <td>11313.820704</td>\n",
       "      <td>True</td>\n",
       "    </tr>\n",
       "  </tbody>\n",
       "</table>\n",
       "<p>3313 rows × 8 columns</p>\n",
       "</div>"
      ],
      "text/plain": [
       "          country continent  year  lifeExp       pop   gdpPercap  \\\n",
       "0     Afghanistan      Asia  1952   28.801   8425333  779.445314   \n",
       "1     Afghanistan      Asia  1957   30.332   9240934  820.853030   \n",
       "2     Afghanistan      Asia  1962   31.997  10267083  853.100710   \n",
       "3     Afghanistan      Asia  1967   34.020  11537966  836.197138   \n",
       "4     Afghanistan      Asia  1972   36.088  13079460  739.981106   \n",
       "...           ...       ...   ...      ...       ...         ...   \n",
       "3308     Zimbabwe    Africa  1987   62.351   9216418  706.157306   \n",
       "3309     Zimbabwe    Africa  1992   60.377  10704340  693.420786   \n",
       "3310     Zimbabwe    Africa  1997   46.809  11404948  792.449960   \n",
       "3311     Zimbabwe    Africa  2002   39.989  11926563  672.038623   \n",
       "3312     Zimbabwe    Africa  2007   43.487  12311143  469.709298   \n",
       "\n",
       "      mean_gdpPercap  inplace  \n",
       "0       11313.820704     True  \n",
       "1       11313.820704     True  \n",
       "2       11313.820704     True  \n",
       "3       11313.820704     True  \n",
       "4       11313.820704     True  \n",
       "...              ...      ...  \n",
       "3308    11313.820704     True  \n",
       "3309    11313.820704     True  \n",
       "3310    11313.820704     True  \n",
       "3311    11313.820704     True  \n",
       "3312    11313.820704     True  \n",
       "\n",
       "[3313 rows x 8 columns]"
      ]
     },
     "execution_count": 113,
     "metadata": {},
     "output_type": "execute_result"
    }
   ],
   "source": [
    "# let's try again and see how inplace does something unexpected, as mentioned above \n",
    "gap_data.assign(mean_gdpPercap = gap_data[\"gdpPercap\"].mean(), inplace = True)"
   ]
  },
  {
   "cell_type": "code",
   "execution_count": 114,
   "id": "173cf826",
   "metadata": {},
   "outputs": [
    {
     "data": {
      "text/plain": [
       "country\n",
       "Afghanistan           1.582372e+07\n",
       "Albania               2.580249e+06\n",
       "Algeria               1.987541e+07\n",
       "Angola                7.309390e+06\n",
       "Argentina             2.860224e+07\n",
       "                          ...     \n",
       "Vietnam               5.456857e+07\n",
       "West Bank and Gaza    1.848606e+06\n",
       "Yemen, Rep.           1.084319e+07\n",
       "Zambia                6.353805e+06\n",
       "Zimbabwe              7.641966e+06\n",
       "Name: pop, Length: 187, dtype: float64"
      ]
     },
     "execution_count": 114,
     "metadata": {},
     "output_type": "execute_result"
    }
   ],
   "source": [
    "# to get the mean population across all years per country we just first need to do a groupby to group the data by country \n",
    "gap_data[\"pop\"].groupby(gap_data[\"country\"]).mean()"
   ]
  },
  {
   "cell_type": "markdown",
   "id": "36fc5c72",
   "metadata": {},
   "source": [
    "We can use our knowledge of the dictionary data stucture to get a summary table of our data with aggregate statistics per column of interest: "
   ]
  },
  {
   "cell_type": "code",
   "execution_count": 117,
   "id": "7a5dfae5",
   "metadata": {},
   "outputs": [
    {
     "data": {
      "text/html": [
       "<div>\n",
       "<style scoped>\n",
       "    .dataframe tbody tr th:only-of-type {\n",
       "        vertical-align: middle;\n",
       "    }\n",
       "\n",
       "    .dataframe tbody tr th {\n",
       "        vertical-align: top;\n",
       "    }\n",
       "\n",
       "    .dataframe thead th {\n",
       "        text-align: right;\n",
       "    }\n",
       "</style>\n",
       "<table border=\"1\" class=\"dataframe\">\n",
       "  <thead>\n",
       "    <tr style=\"text-align: right;\">\n",
       "      <th></th>\n",
       "      <th>year</th>\n",
       "      <th>pop</th>\n",
       "    </tr>\n",
       "  </thead>\n",
       "  <tbody>\n",
       "    <tr>\n",
       "      <th>min</th>\n",
       "      <td>1950.0</td>\n",
       "      <td>59412</td>\n",
       "    </tr>\n",
       "    <tr>\n",
       "      <th>max</th>\n",
       "      <td>2007.0</td>\n",
       "      <td>1318683096</td>\n",
       "    </tr>\n",
       "    <tr>\n",
       "      <th>sum</th>\n",
       "      <td>NaN</td>\n",
       "      <td>105264781912</td>\n",
       "    </tr>\n",
       "  </tbody>\n",
       "</table>\n",
       "</div>"
      ],
      "text/plain": [
       "       year           pop\n",
       "min  1950.0         59412\n",
       "max  2007.0    1318683096\n",
       "sum     NaN  105264781912"
      ]
     },
     "execution_count": 117,
     "metadata": {},
     "output_type": "execute_result"
    }
   ],
   "source": [
    "# to get a summary table with aggregations per column\n",
    "gap_data.agg({'year' : ['min', 'max'], 'pop' : ['sum', 'min', 'max']})"
   ]
  },
  {
   "cell_type": "markdown",
   "id": "f083738c",
   "metadata": {},
   "source": [
    "We cast specific columns in a data frame to another dtype using `as.type()` and a dictionary. Lets make `year` a category:"
   ]
  },
  {
   "cell_type": "code",
   "execution_count": 132,
   "id": "8a899551",
   "metadata": {
    "scrolled": false
   },
   "outputs": [
    {
     "data": {
      "text/html": [
       "<div>\n",
       "<style scoped>\n",
       "    .dataframe tbody tr th:only-of-type {\n",
       "        vertical-align: middle;\n",
       "    }\n",
       "\n",
       "    .dataframe tbody tr th {\n",
       "        vertical-align: top;\n",
       "    }\n",
       "\n",
       "    .dataframe thead th {\n",
       "        text-align: right;\n",
       "    }\n",
       "</style>\n",
       "<table border=\"1\" class=\"dataframe\">\n",
       "  <thead>\n",
       "    <tr style=\"text-align: right;\">\n",
       "      <th></th>\n",
       "      <th>year</th>\n",
       "      <th>pop</th>\n",
       "    </tr>\n",
       "  </thead>\n",
       "  <tbody>\n",
       "    <tr>\n",
       "      <th>min</th>\n",
       "      <td>1950.0</td>\n",
       "      <td>59412</td>\n",
       "    </tr>\n",
       "    <tr>\n",
       "      <th>max</th>\n",
       "      <td>2007.0</td>\n",
       "      <td>1318683096</td>\n",
       "    </tr>\n",
       "    <tr>\n",
       "      <th>sum</th>\n",
       "      <td>NaN</td>\n",
       "      <td>105264781912</td>\n",
       "    </tr>\n",
       "  </tbody>\n",
       "</table>\n",
       "</div>"
      ],
      "text/plain": [
       "       year           pop\n",
       "min  1950.0         59412\n",
       "max  2007.0    1318683096\n",
       "sum     NaN  105264781912"
      ]
     },
     "execution_count": 132,
     "metadata": {},
     "output_type": "execute_result"
    }
   ],
   "source": [
    "gap_data_ycat = gap_data.astype({\"year\": \"category\"})\n",
    "gap_data_ycat['year'] = gap_data_ycat['year'].cat.as_ordered()\n",
    "gap_data_ycat.agg({'year' : ['min', 'max'], 'pop' : ['sum', 'min', 'max']})\n",
    "# adding .dtypes at the end has Python print out the dtype of the data frame after changing the year dtype \n",
    "## in this way we can check our work "
   ]
  },
  {
   "cell_type": "markdown",
   "id": "16dbb12b",
   "metadata": {},
   "source": [
    "### 4.3 Missing values in data frames\n",
    "\n",
    "`pandas` treat `None` and `NaN` as essentially interchangeable for indicating missing or null values. To facilitate this convention, there are several useful functions for detecting, removing, and replacing null values in a `pandas` DataFrame:\n",
    "\n",
    "* `isnull()` returns a data frame of Boolean vlaues which are `True` for NaN values \n",
    "* `notnull()` returns a data frame of Boolean vlaues which are `False` for NaN values \n",
    "* `df.dropna()` allows you to analyze and drop Rows/Columns with missing values in different ways. By default uses row-wise deletion so all rows with missing data are deleted\n",
    "* `df.fillna()` allows you to replace missing values with some other specified value \n",
    "* `df.replace()` replaces a string, regex, list, dictionary, series, number, etc. from a `pandas` data frame\n",
    "* `df.interpolate()` which uses various interpolation technique to fill the missing values rather than hard-coding the value. This is particularly useful with numeric data although there are numerous methods available - [see the documentation if you are interested in learning more](https://pandas.pydata.org/pandas-docs/stable/reference/api/pandas.DataFrame.interpolate.html)\n",
    "\n",
    "We looked at dealing with missing data in Week 2 & 3, but lets create a data frame with some missing data to remind ourselves how this works. "
   ]
  },
  {
   "cell_type": "code",
   "execution_count": 133,
   "id": "a2a85d6b",
   "metadata": {
    "scrolled": true
   },
   "outputs": [
    {
     "name": "stdout",
     "output_type": "stream",
     "text": [
      "<class 'pandas.core.frame.DataFrame'>\n",
      "RangeIndex: 4 entries, 0 to 3\n",
      "Data columns (total 3 columns):\n",
      " #   Column  Non-Null Count  Dtype  \n",
      "---  ------  --------------  -----  \n",
      " 0   names   3 non-null      object \n",
      " 1   age     3 non-null      float64\n",
      " 2   result  3 non-null      object \n",
      "dtypes: float64(1), object(2)\n",
      "memory usage: 228.0+ bytes\n"
     ]
    }
   ],
   "source": [
    "# to create a DataFrame we put a Dict it its constructor. But remember that values need to be lists\n",
    "patients = pd.DataFrame(\n",
    "    {\"names\": [\"Angela\", \"Shondra\", np.nan, \"Ben\"],\n",
    "     \"age\": [27, np.nan, 57, 44],\n",
    "     \"result\": [True, False, np.nan, False]})\n",
    "\n",
    "patients.info()"
   ]
  },
  {
   "cell_type": "code",
   "execution_count": 134,
   "id": "5ae08d51",
   "metadata": {},
   "outputs": [
    {
     "data": {
      "text/html": [
       "<div>\n",
       "<style scoped>\n",
       "    .dataframe tbody tr th:only-of-type {\n",
       "        vertical-align: middle;\n",
       "    }\n",
       "\n",
       "    .dataframe tbody tr th {\n",
       "        vertical-align: top;\n",
       "    }\n",
       "\n",
       "    .dataframe thead th {\n",
       "        text-align: right;\n",
       "    }\n",
       "</style>\n",
       "<table border=\"1\" class=\"dataframe\">\n",
       "  <thead>\n",
       "    <tr style=\"text-align: right;\">\n",
       "      <th></th>\n",
       "      <th>names</th>\n",
       "      <th>age</th>\n",
       "      <th>result</th>\n",
       "    </tr>\n",
       "  </thead>\n",
       "  <tbody>\n",
       "    <tr>\n",
       "      <th>0</th>\n",
       "      <td>False</td>\n",
       "      <td>False</td>\n",
       "      <td>False</td>\n",
       "    </tr>\n",
       "    <tr>\n",
       "      <th>1</th>\n",
       "      <td>False</td>\n",
       "      <td>True</td>\n",
       "      <td>False</td>\n",
       "    </tr>\n",
       "    <tr>\n",
       "      <th>2</th>\n",
       "      <td>True</td>\n",
       "      <td>False</td>\n",
       "      <td>True</td>\n",
       "    </tr>\n",
       "    <tr>\n",
       "      <th>3</th>\n",
       "      <td>False</td>\n",
       "      <td>False</td>\n",
       "      <td>False</td>\n",
       "    </tr>\n",
       "  </tbody>\n",
       "</table>\n",
       "</div>"
      ],
      "text/plain": [
       "   names    age  result\n",
       "0  False  False   False\n",
       "1  False   True   False\n",
       "2   True  False    True\n",
       "3  False  False   False"
      ]
     },
     "execution_count": 134,
     "metadata": {},
     "output_type": "execute_result"
    }
   ],
   "source": [
    "patients.isnull()"
   ]
  },
  {
   "cell_type": "code",
   "execution_count": 135,
   "id": "f3e3e870",
   "metadata": {},
   "outputs": [
    {
     "data": {
      "text/plain": [
       "0    False\n",
       "1    False\n",
       "2     True\n",
       "3    False\n",
       "Name: names, dtype: bool"
      ]
     },
     "execution_count": 135,
     "metadata": {},
     "output_type": "execute_result"
    }
   ],
   "source": [
    "# to check for missing values in a specific column\n",
    "patients.names.isnull()"
   ]
  },
  {
   "cell_type": "code",
   "execution_count": 136,
   "id": "7aeb4e35",
   "metadata": {
    "scrolled": true
   },
   "outputs": [
    {
     "data": {
      "text/html": [
       "<div>\n",
       "<style scoped>\n",
       "    .dataframe tbody tr th:only-of-type {\n",
       "        vertical-align: middle;\n",
       "    }\n",
       "\n",
       "    .dataframe tbody tr th {\n",
       "        vertical-align: top;\n",
       "    }\n",
       "\n",
       "    .dataframe thead th {\n",
       "        text-align: right;\n",
       "    }\n",
       "</style>\n",
       "<table border=\"1\" class=\"dataframe\">\n",
       "  <thead>\n",
       "    <tr style=\"text-align: right;\">\n",
       "      <th></th>\n",
       "      <th>names</th>\n",
       "      <th>age</th>\n",
       "      <th>result</th>\n",
       "    </tr>\n",
       "  </thead>\n",
       "  <tbody>\n",
       "    <tr>\n",
       "      <th>0</th>\n",
       "      <td>Angela</td>\n",
       "      <td>27.0</td>\n",
       "      <td>True</td>\n",
       "    </tr>\n",
       "    <tr>\n",
       "      <th>3</th>\n",
       "      <td>Ben</td>\n",
       "      <td>44.0</td>\n",
       "      <td>False</td>\n",
       "    </tr>\n",
       "  </tbody>\n",
       "</table>\n",
       "</div>"
      ],
      "text/plain": [
       "    names   age result\n",
       "0  Angela  27.0   True\n",
       "3     Ben  44.0  False"
      ]
     },
     "execution_count": 136,
     "metadata": {},
     "output_type": "execute_result"
    }
   ],
   "source": [
    "patients.dropna()"
   ]
  },
  {
   "cell_type": "code",
   "execution_count": 137,
   "id": "2fd94e29",
   "metadata": {
    "scrolled": false
   },
   "outputs": [
    {
     "data": {
      "text/html": [
       "<div>\n",
       "<style scoped>\n",
       "    .dataframe tbody tr th:only-of-type {\n",
       "        vertical-align: middle;\n",
       "    }\n",
       "\n",
       "    .dataframe tbody tr th {\n",
       "        vertical-align: top;\n",
       "    }\n",
       "\n",
       "    .dataframe thead th {\n",
       "        text-align: right;\n",
       "    }\n",
       "</style>\n",
       "<table border=\"1\" class=\"dataframe\">\n",
       "  <thead>\n",
       "    <tr style=\"text-align: right;\">\n",
       "      <th></th>\n",
       "      <th>names</th>\n",
       "      <th>age</th>\n",
       "      <th>result</th>\n",
       "    </tr>\n",
       "  </thead>\n",
       "  <tbody>\n",
       "    <tr>\n",
       "      <th>0</th>\n",
       "      <td>Angela</td>\n",
       "      <td>27.0</td>\n",
       "      <td>True</td>\n",
       "    </tr>\n",
       "    <tr>\n",
       "      <th>1</th>\n",
       "      <td>Shondra</td>\n",
       "      <td>missing</td>\n",
       "      <td>False</td>\n",
       "    </tr>\n",
       "    <tr>\n",
       "      <th>2</th>\n",
       "      <td>missing</td>\n",
       "      <td>57.0</td>\n",
       "      <td>missing</td>\n",
       "    </tr>\n",
       "    <tr>\n",
       "      <th>3</th>\n",
       "      <td>Ben</td>\n",
       "      <td>44.0</td>\n",
       "      <td>False</td>\n",
       "    </tr>\n",
       "  </tbody>\n",
       "</table>\n",
       "</div>"
      ],
      "text/plain": [
       "     names      age   result\n",
       "0   Angela     27.0     True\n",
       "1  Shondra  missing    False\n",
       "2  missing     57.0  missing\n",
       "3      Ben     44.0    False"
      ]
     },
     "execution_count": 137,
     "metadata": {},
     "output_type": "execute_result"
    }
   ],
   "source": [
    "patients.fillna(\"missing\")"
   ]
  },
  {
   "cell_type": "code",
   "execution_count": 143,
   "id": "b2bb0001",
   "metadata": {},
   "outputs": [
    {
     "name": "stderr",
     "output_type": "stream",
     "text": [
      "/var/folders/wd/r_s1bkq94kjf9m96tlrt6_zh0000gn/T/ipykernel_37194/2769007893.py:2: FutureWarning: DataFrame.fillna with 'method' is deprecated and will raise in a future version. Use obj.ffill() or obj.bfill() instead.\n",
      "  patients.fillna(method = \"ffill\") ## ffill being forward fill\n",
      "/var/folders/wd/r_s1bkq94kjf9m96tlrt6_zh0000gn/T/ipykernel_37194/2769007893.py:2: FutureWarning: Downcasting object dtype arrays on .fillna, .ffill, .bfill is deprecated and will change in a future version. Call result.infer_objects(copy=False) instead. To opt-in to the future behavior, set `pd.set_option('future.no_silent_downcasting', True)`\n",
      "  patients.fillna(method = \"ffill\") ## ffill being forward fill\n"
     ]
    },
    {
     "data": {
      "text/html": [
       "<div>\n",
       "<style scoped>\n",
       "    .dataframe tbody tr th:only-of-type {\n",
       "        vertical-align: middle;\n",
       "    }\n",
       "\n",
       "    .dataframe tbody tr th {\n",
       "        vertical-align: top;\n",
       "    }\n",
       "\n",
       "    .dataframe thead th {\n",
       "        text-align: right;\n",
       "    }\n",
       "</style>\n",
       "<table border=\"1\" class=\"dataframe\">\n",
       "  <thead>\n",
       "    <tr style=\"text-align: right;\">\n",
       "      <th></th>\n",
       "      <th>names</th>\n",
       "      <th>age</th>\n",
       "      <th>result</th>\n",
       "    </tr>\n",
       "  </thead>\n",
       "  <tbody>\n",
       "    <tr>\n",
       "      <th>0</th>\n",
       "      <td>Angela</td>\n",
       "      <td>27.0</td>\n",
       "      <td>True</td>\n",
       "    </tr>\n",
       "    <tr>\n",
       "      <th>1</th>\n",
       "      <td>Shondra</td>\n",
       "      <td>27.0</td>\n",
       "      <td>False</td>\n",
       "    </tr>\n",
       "    <tr>\n",
       "      <th>2</th>\n",
       "      <td>Shondra</td>\n",
       "      <td>57.0</td>\n",
       "      <td>False</td>\n",
       "    </tr>\n",
       "    <tr>\n",
       "      <th>3</th>\n",
       "      <td>Ben</td>\n",
       "      <td>44.0</td>\n",
       "      <td>False</td>\n",
       "    </tr>\n",
       "  </tbody>\n",
       "</table>\n",
       "</div>"
      ],
      "text/plain": [
       "     names   age  result\n",
       "0   Angela  27.0    True\n",
       "1  Shondra  27.0   False\n",
       "2  Shondra  57.0   False\n",
       "3      Ben  44.0   False"
      ]
     },
     "execution_count": 143,
     "metadata": {},
     "output_type": "execute_result"
    }
   ],
   "source": [
    "# use the method argument in fillna the fill missing data with previous item \n",
    "patients.fillna(method = \"ffill\") ## ffill being forward fill "
   ]
  },
  {
   "cell_type": "code",
   "execution_count": 145,
   "id": "4f14e559",
   "metadata": {
    "scrolled": true
   },
   "outputs": [
    {
     "name": "stderr",
     "output_type": "stream",
     "text": [
      "/var/folders/wd/r_s1bkq94kjf9m96tlrt6_zh0000gn/T/ipykernel_37194/116768166.py:2: FutureWarning: Downcasting object dtype arrays on .fillna, .ffill, .bfill is deprecated and will change in a future version. Call result.infer_objects(copy=False) instead. To opt-in to the future behavior, set `pd.set_option('future.no_silent_downcasting', True)`\n",
      "  patients.ffill() # bfill meaning back fill\n"
     ]
    },
    {
     "data": {
      "text/html": [
       "<div>\n",
       "<style scoped>\n",
       "    .dataframe tbody tr th:only-of-type {\n",
       "        vertical-align: middle;\n",
       "    }\n",
       "\n",
       "    .dataframe tbody tr th {\n",
       "        vertical-align: top;\n",
       "    }\n",
       "\n",
       "    .dataframe thead th {\n",
       "        text-align: right;\n",
       "    }\n",
       "</style>\n",
       "<table border=\"1\" class=\"dataframe\">\n",
       "  <thead>\n",
       "    <tr style=\"text-align: right;\">\n",
       "      <th></th>\n",
       "      <th>names</th>\n",
       "      <th>age</th>\n",
       "      <th>result</th>\n",
       "    </tr>\n",
       "  </thead>\n",
       "  <tbody>\n",
       "    <tr>\n",
       "      <th>0</th>\n",
       "      <td>Angela</td>\n",
       "      <td>27.0</td>\n",
       "      <td>True</td>\n",
       "    </tr>\n",
       "    <tr>\n",
       "      <th>1</th>\n",
       "      <td>Shondra</td>\n",
       "      <td>27.0</td>\n",
       "      <td>False</td>\n",
       "    </tr>\n",
       "    <tr>\n",
       "      <th>2</th>\n",
       "      <td>Shondra</td>\n",
       "      <td>57.0</td>\n",
       "      <td>False</td>\n",
       "    </tr>\n",
       "    <tr>\n",
       "      <th>3</th>\n",
       "      <td>Ben</td>\n",
       "      <td>44.0</td>\n",
       "      <td>False</td>\n",
       "    </tr>\n",
       "  </tbody>\n",
       "</table>\n",
       "</div>"
      ],
      "text/plain": [
       "     names   age  result\n",
       "0   Angela  27.0    True\n",
       "1  Shondra  27.0   False\n",
       "2  Shondra  57.0   False\n",
       "3      Ben  44.0   False"
      ]
     },
     "execution_count": 145,
     "metadata": {},
     "output_type": "execute_result"
    }
   ],
   "source": [
    "# or to fill the missing data with the next viable observation \n",
    "patients.ffill() # bfill meaning back fill "
   ]
  },
  {
   "cell_type": "code",
   "execution_count": 146,
   "id": "01ae328d",
   "metadata": {
    "scrolled": true
   },
   "outputs": [
    {
     "name": "stderr",
     "output_type": "stream",
     "text": [
      "/var/folders/wd/r_s1bkq94kjf9m96tlrt6_zh0000gn/T/ipykernel_37194/2370051587.py:2: FutureWarning: DataFrame.interpolate with object dtype is deprecated and will raise in a future version. Call obj.infer_objects(copy=False) before interpolating instead.\n",
      "  patients.interpolate(method = \"linear\")\n"
     ]
    },
    {
     "data": {
      "text/html": [
       "<div>\n",
       "<style scoped>\n",
       "    .dataframe tbody tr th:only-of-type {\n",
       "        vertical-align: middle;\n",
       "    }\n",
       "\n",
       "    .dataframe tbody tr th {\n",
       "        vertical-align: top;\n",
       "    }\n",
       "\n",
       "    .dataframe thead th {\n",
       "        text-align: right;\n",
       "    }\n",
       "</style>\n",
       "<table border=\"1\" class=\"dataframe\">\n",
       "  <thead>\n",
       "    <tr style=\"text-align: right;\">\n",
       "      <th></th>\n",
       "      <th>names</th>\n",
       "      <th>age</th>\n",
       "      <th>result</th>\n",
       "    </tr>\n",
       "  </thead>\n",
       "  <tbody>\n",
       "    <tr>\n",
       "      <th>0</th>\n",
       "      <td>Angela</td>\n",
       "      <td>27.0</td>\n",
       "      <td>True</td>\n",
       "    </tr>\n",
       "    <tr>\n",
       "      <th>1</th>\n",
       "      <td>Shondra</td>\n",
       "      <td>42.0</td>\n",
       "      <td>False</td>\n",
       "    </tr>\n",
       "    <tr>\n",
       "      <th>2</th>\n",
       "      <td>NaN</td>\n",
       "      <td>57.0</td>\n",
       "      <td>NaN</td>\n",
       "    </tr>\n",
       "    <tr>\n",
       "      <th>3</th>\n",
       "      <td>Ben</td>\n",
       "      <td>44.0</td>\n",
       "      <td>False</td>\n",
       "    </tr>\n",
       "  </tbody>\n",
       "</table>\n",
       "</div>"
      ],
      "text/plain": [
       "     names   age result\n",
       "0   Angela  27.0   True\n",
       "1  Shondra  42.0  False\n",
       "2      NaN  57.0    NaN\n",
       "3      Ben  44.0  False"
      ]
     },
     "execution_count": 146,
     "metadata": {},
     "output_type": "execute_result"
    }
   ],
   "source": [
    "# the default method is linear which applies only to numeric data\n",
    "patients.interpolate(method = \"linear\")"
   ]
  },
  {
   "cell_type": "code",
   "execution_count": 147,
   "id": "67c48b12",
   "metadata": {},
   "outputs": [
    {
     "name": "stderr",
     "output_type": "stream",
     "text": [
      "/var/folders/wd/r_s1bkq94kjf9m96tlrt6_zh0000gn/T/ipykernel_37194/724657575.py:1: FutureWarning: DataFrame.interpolate with method=pad is deprecated and will raise in a future version. Use obj.ffill() or obj.bfill() instead.\n",
      "  patients.interpolate(method = \"pad\") # this method is the same as ffill\n",
      "/var/folders/wd/r_s1bkq94kjf9m96tlrt6_zh0000gn/T/ipykernel_37194/724657575.py:1: FutureWarning: Downcasting object dtype arrays on .fillna, .ffill, .bfill is deprecated and will change in a future version. Call result.infer_objects(copy=False) instead. To opt-in to the future behavior, set `pd.set_option('future.no_silent_downcasting', True)`\n",
      "  patients.interpolate(method = \"pad\") # this method is the same as ffill\n"
     ]
    },
    {
     "data": {
      "text/html": [
       "<div>\n",
       "<style scoped>\n",
       "    .dataframe tbody tr th:only-of-type {\n",
       "        vertical-align: middle;\n",
       "    }\n",
       "\n",
       "    .dataframe tbody tr th {\n",
       "        vertical-align: top;\n",
       "    }\n",
       "\n",
       "    .dataframe thead th {\n",
       "        text-align: right;\n",
       "    }\n",
       "</style>\n",
       "<table border=\"1\" class=\"dataframe\">\n",
       "  <thead>\n",
       "    <tr style=\"text-align: right;\">\n",
       "      <th></th>\n",
       "      <th>names</th>\n",
       "      <th>age</th>\n",
       "      <th>result</th>\n",
       "    </tr>\n",
       "  </thead>\n",
       "  <tbody>\n",
       "    <tr>\n",
       "      <th>0</th>\n",
       "      <td>Angela</td>\n",
       "      <td>27.0</td>\n",
       "      <td>True</td>\n",
       "    </tr>\n",
       "    <tr>\n",
       "      <th>1</th>\n",
       "      <td>Shondra</td>\n",
       "      <td>27.0</td>\n",
       "      <td>False</td>\n",
       "    </tr>\n",
       "    <tr>\n",
       "      <th>2</th>\n",
       "      <td>Shondra</td>\n",
       "      <td>57.0</td>\n",
       "      <td>False</td>\n",
       "    </tr>\n",
       "    <tr>\n",
       "      <th>3</th>\n",
       "      <td>Ben</td>\n",
       "      <td>44.0</td>\n",
       "      <td>False</td>\n",
       "    </tr>\n",
       "  </tbody>\n",
       "</table>\n",
       "</div>"
      ],
      "text/plain": [
       "     names   age  result\n",
       "0   Angela  27.0    True\n",
       "1  Shondra  27.0   False\n",
       "2  Shondra  57.0   False\n",
       "3      Ben  44.0   False"
      ]
     },
     "execution_count": 147,
     "metadata": {},
     "output_type": "execute_result"
    }
   ],
   "source": [
    "patients.interpolate(method = \"pad\") # this method is the same as ffill "
   ]
  },
  {
   "cell_type": "markdown",
   "id": "a4bc08d0",
   "metadata": {},
   "source": [
    "---\n",
    "\n",
    "## You did it! 🎉 \n",
    "\n",
    "Well done for making it to the end of this notebook. If you have not done so yet, move to the Week 4 data structures in R RMarkdown notebook next. \n",
    "\n",
    "⭐⭐⭐❓👣 Do not forget your 3 stars, a wish, and a step mini-diaries once you have completed the content for this week. "
   ]
  },
  {
   "cell_type": "markdown",
   "id": "071973eb",
   "metadata": {},
   "source": [
    "---\n",
    "*Dr. Brittany Blankinship (2024)*"
   ]
  }
 ],
 "metadata": {
  "kernelspec": {
   "display_name": "Python 3 (ipykernel)",
   "language": "python",
   "name": "python3"
  },
  "language_info": {
   "codemirror_mode": {
    "name": "ipython",
    "version": 3
   },
   "file_extension": ".py",
   "mimetype": "text/x-python",
   "name": "python",
   "nbconvert_exporter": "python",
   "pygments_lexer": "ipython3",
   "version": "3.12.2"
  }
 },
 "nbformat": 4,
 "nbformat_minor": 5
}
