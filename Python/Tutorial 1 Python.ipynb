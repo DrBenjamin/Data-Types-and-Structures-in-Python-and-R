{
 "cells": [
  {
   "cell_type": "markdown",
   "id": "e9dad074",
   "metadata": {},
   "source": [
    "# Tutorial 1\n",
    "## Python workbook\n",
    "\n",
    "In this workbook we will be asked to complete a series of tasks to get you familiarized with the Jupyter Notebook IDE. This will prepare you for future tutorials. Complete the following tasks with your partner(s) or on your own if you are not able to join the tutorial sessions live. \n",
    "\n",
    "A Jupyter notebook is comprised of multiple cells. The two primary cell types are code cells and Markdown cells. Each cell can be run individually and in arbitrary order, or you can run all cells one after the other. \n",
    "\n",
    "* If you run a text cell, the markdown contained in that cell is rendered and displayed. \n",
    "* If you run a code cell, the code in that cell is executed on the current state of the notebook."
   ]
  },
  {
   "cell_type": "markdown",
   "id": "e455173f",
   "metadata": {},
   "source": [
    "## Task 1 \n",
    "\n",
    "You can run a selected cell by hitting `Shift + Enter` or clicking the `Play/Run`-Button in the toolbar.\n",
    "\n",
    "Go ahead and try to execute the below cell:"
   ]
  },
  {
   "cell_type": "code",
   "execution_count": 1,
   "id": "0c172ec6",
   "metadata": {},
   "outputs": [
    {
     "name": "stdout",
     "output_type": "stream",
     "text": [
      "Good work, I got executed!\n"
     ]
    }
   ],
   "source": [
    "print(\"Good work, I got executed!\")"
   ]
  },
  {
   "cell_type": "markdown",
   "id": "9b4647d7",
   "metadata": {},
   "source": [
    "To signal that the cell was run, the notebook will add a number in bracket `In [1]:` left of the cell's content. `In` stands for input, you could think of these labels as saying “kernel input 1, input 2,” and so on. This number increases with each run - we will see why this is information is important in the next step.\n",
    "\n",
    "In addition, the notebook will automatically highlight the next cell. This makes it easy to rapidly execute multiple cells one after the other:\n",
    "Go ahead, execute the following cells by quickly pressing `Shift+Enter` multiple times!"
   ]
  },
  {
   "cell_type": "code",
   "execution_count": 2,
   "id": "56a71567",
   "metadata": {},
   "outputs": [
    {
     "name": "stdout",
     "output_type": "stream",
     "text": [
      "First cell ran!\n"
     ]
    }
   ],
   "source": [
    "print(\"First cell ran!\")"
   ]
  },
  {
   "cell_type": "code",
   "execution_count": 3,
   "id": "d26f038c",
   "metadata": {},
   "outputs": [
    {
     "name": "stdout",
     "output_type": "stream",
     "text": [
      "Second cell ran!\n"
     ]
    }
   ],
   "source": [
    "print(\"Second cell ran!\")"
   ]
  },
  {
   "cell_type": "code",
   "execution_count": 1,
   "id": "c8d415b5",
   "metadata": {},
   "outputs": [
    {
     "name": "stdout",
     "output_type": "stream",
     "text": [
      "Third cell ran!\n"
     ]
    }
   ],
   "source": [
    "print(\"Third cell ran!\")"
   ]
  },
  {
   "cell_type": "code",
   "execution_count": 2,
   "id": "faf1a7c5",
   "metadata": {},
   "outputs": [
    {
     "name": "stdout",
     "output_type": "stream",
     "text": [
      "Fourth cell ran!\n"
     ]
    }
   ],
   "source": [
    "print(\"Fourth cell ran!\")"
   ]
  },
  {
   "cell_type": "markdown",
   "id": "f0274556",
   "metadata": {},
   "source": [
    "*Note* You can also run a cell by pressing `Ctrl + Enter`. Try this above and see how it is different. \n",
    "\n",
    "To automatically execute all cells of the notebook sequentially, you can click on the fast-forward button in the toolbar. This restarts the kernel and reruns the whole notebook. "
   ]
  },
  {
   "cell_type": "markdown",
   "id": "54c7724c",
   "metadata": {},
   "source": [
    "## Task 2 \n",
    "\n",
    "Each notebook has a single state that is shared between all cells which is where code is executed, the **kernel**. In other words, a kernel's state persists over time. Whenever you execute a cell, it modifies that state by running functions and setting variable values. This means that we can import a Python package, define a function, or create an object in one cell and, after being executed, we can reference the package, function, or object in any other cell. This is the case regardless of the order of cells in your notebook - the important thing is the *order in which the cells were exectuted in the kernel* (which is where our handy input label can help us keep track). Usually, the cells of a notebook should be executed top-to-bottom, but that order has no influence on the program state: only the order of executions does!"
   ]
  },
  {
   "cell_type": "code",
   "execution_count": 3,
   "id": "996e37b0",
   "metadata": {},
   "outputs": [],
   "source": [
    "# Cell A\n",
    "# Run me after the cell below\n",
    "x = 0"
   ]
  },
  {
   "cell_type": "code",
   "execution_count": 4,
   "id": "04276464",
   "metadata": {},
   "outputs": [],
   "source": [
    "# Cell B\n",
    "# Run me first!\n",
    "x = 1"
   ]
  },
  {
   "cell_type": "code",
   "execution_count": 5,
   "id": "5c1686c5",
   "metadata": {},
   "outputs": [
    {
     "name": "stdout",
     "output_type": "stream",
     "text": [
      "Value of x: 1\n"
     ]
    }
   ],
   "source": [
    "# Cell C\n",
    "# Run me last\n",
    "print(f\"Value of x: {x}\")"
   ]
  },
  {
   "cell_type": "markdown",
   "id": "73f5b0ae",
   "metadata": {},
   "source": [
    "**What happened?** *Cell A* sets `x = 0` and *Cell B* sets `x = 1` afterwards. But the order of the cells is not important, rather the order in which you run them: Since you first ran *Cell B* and then *Cell A*, you first set `x = 1` and then `x = 0`, not the other way around. When you ran *Cell C* as last cell, it looked at the value of `x` in the global state and found `x = 0`."
   ]
  },
  {
   "cell_type": "markdown",
   "id": "c03de96e",
   "metadata": {},
   "source": [
    "## Task 3\n",
    "\n",
    "Use a keyboard shortcut to covert *Cell A* into a markdown cell instead of a code cell. \n",
    "\n",
    "*Hint* do not forget about the Notebook modes!\n",
    "\n",
    "*Hint 2* you can look up the list of keyboard shortcuts under help (there is also a keyboard shortcut for to pull up the keyboard shortcuts menu)"
   ]
  },
  {
   "cell_type": "markdown",
   "id": "2df65e64",
   "metadata": {},
   "source": [
    "## Task 4\n",
    "\n",
    "Run the code cell below: "
   ]
  },
  {
   "cell_type": "code",
   "execution_count": 6,
   "id": "3fa14a0b",
   "metadata": {},
   "outputs": [],
   "source": [
    "# this code is shown as it takes longer to execute \n",
    "import time \n",
    "\n",
    "time.sleep(10)"
   ]
  },
  {
   "cell_type": "markdown",
   "id": "bc8b0f3f",
   "metadata": {},
   "source": [
    "The code above takes some time to execute. In the input to the left of the cell `In []` you will notice that a star appeared (`In [*]`), this means that the kernel is executing or the cell is currently running. You can interrupt the kernel by pressing `i` twice. Re-reun the cell above and try this! \n",
    "\n",
    "Next, insert a code chunk below this one using a keyboard shortcut. In that cell, pull up the interactive help systems using `help()` and find out what the `sleep` function does. "
   ]
  },
  {
   "cell_type": "markdown",
   "id": "a4b11ef4",
   "metadata": {},
   "source": [
    "## Task 5 \n",
    "\n",
    "Additionally, even a single cell's behavior can change if executed multiple times.\n",
    "\n",
    "The cell below tries to increase a variable `run_count` by 1. If the variable doesn't exist, it is initialized with 0. \n",
    "\n",
    "Run this cell multiple times: Click on it, press `Shift+Enter`, click on it again, and so on (or press `Ctrl+Enter`)"
   ]
  },
  {
   "cell_type": "code",
   "execution_count": 7,
   "id": "6be11d18",
   "metadata": {},
   "outputs": [
    {
     "name": "stdout",
     "output_type": "stream",
     "text": [
      "Value of run_count: 0\n"
     ]
    }
   ],
   "source": [
    "try:\n",
    "    run_count += 1\n",
    "except NameError:\n",
    "    run_count = 0\n",
    "\n",
    "print(f\"Value of run_count: {run_count}\")"
   ]
  },
  {
   "cell_type": "markdown",
   "id": "f48102b3",
   "metadata": {},
   "source": [
    "**What happened?** On the first execution, variable `run_count does` not exist and Python raises the `NameError`: this sets `run_count = 0`. In subsequent executions of the same cell, `run_count` does now exist and the cell increases its value by 1. The `print` statement tells you the current value of `run_count` at the end of each run. This small example shows how a single cell can depend on the global state and show different behavior across multiple executions — make sure to remember this when you play around with Notebooks. "
   ]
  },
  {
   "cell_type": "markdown",
   "id": "94f69375",
   "metadata": {},
   "source": [
    "### Key takeaways \n",
    "The two key things to remember from this are: (1) the order of cell execution is important when you start to experiment with notebooks. (2) a single cell may be executed multiple times and will always work on the current global state.\n",
    "\n",
    "After each time a code cell is run, the cell gets an increasing number in brackets left to it, for example `[4]:`. This number shows you the order in which the cells were run and makes it easy to check that everything was run in the order you intended."
   ]
  },
  {
   "cell_type": "markdown",
   "id": "64c2d6ca",
   "metadata": {},
   "source": [
    "## Task 6\n",
    "\n",
    "Edit the markdown cell above and reformat it so that the 2 key takeaways are in a formatted numbered list and the word 'two' is in bold, 'key' is in italics, and 'the' is strikedthrough"
   ]
  },
  {
   "cell_type": "markdown",
   "id": "e9f73d13",
   "metadata": {},
   "source": [
    "## Task 7\n",
    "\n",
    "Thus far I have been using `print` statements to show outputs. However, Jupyter notebooks will always display the value of the last statement in a code cell. Run the code cells below to see:"
   ]
  },
  {
   "cell_type": "code",
   "execution_count": 8,
   "id": "d14cf25a",
   "metadata": {
    "scrolled": false
   },
   "outputs": [
    {
     "data": {
      "text/plain": [
       "0"
      ]
     },
     "execution_count": 8,
     "metadata": {},
     "output_type": "execute_result"
    }
   ],
   "source": [
    "run_count"
   ]
  },
  {
   "cell_type": "code",
   "execution_count": 9,
   "id": "3964cf56",
   "metadata": {},
   "outputs": [
    {
     "ename": "NameError",
     "evalue": "name 'X' is not defined",
     "output_type": "error",
     "traceback": [
      "\u001b[0;31m---------------------------------------------------------------------------\u001b[0m",
      "\u001b[0;31mNameError\u001b[0m                                 Traceback (most recent call last)",
      "Cell \u001b[0;32mIn[9], line 1\u001b[0m\n\u001b[0;32m----> 1\u001b[0m \u001b[43mX\u001b[49m\n",
      "\u001b[0;31mNameError\u001b[0m: name 'X' is not defined"
     ]
    }
   ],
   "source": [
    "X"
   ]
  },
  {
   "cell_type": "markdown",
   "id": "602718fe",
   "metadata": {},
   "source": [
    "You will notice that `X` produced a NameError, this is because I used a capital X whereas the object we defined above was with a lower case x! This may seem quite trival, but it is *always* important to remember that Python (and R) are case-sensitive languages. So your code may be written correctly, but a small typo will throw a spanner in the works. Rerun the cell with a lower case `x`"
   ]
  },
  {
   "cell_type": "markdown",
   "id": "35b032f9",
   "metadata": {},
   "source": [
    "## Task 8 \n",
    "\n",
    "If you are confused about the notebook's state or something is not working as expected, you can reset the notebook's kernel by selecting \"Kernel\" in the menu bar and selecting \"Restart\" or pressing `0` twice. Why not try this now?  "
   ]
  },
  {
   "cell_type": "markdown",
   "id": "9810dc33",
   "metadata": {},
   "source": [
    "## Task 9 \n",
    "\n",
    "You can also insert images into notebooks via Markdown or code. There are at least 3 ways you can do this in Noteable. \n",
    "\n",
    "1. Insert an image via Markdown from a URL using the following code `![alternatvie text](URL-to-image)`\n",
    "2. Insert an image via Markdown from a local file using the following code `![alternative text](path-to-image.image extension)`\n",
    "3. Insert an image that is a local file via code. For this we use the `IPython.display` module and the `Image` function in particular\n",
    "\n",
    "Using Python code or Markdown (option 2 or 3), insert the Python logo into this notebook as an image. Next try via Markdown to insert an image from a URL\n",
    "\n",
    "*Hint 1* It is good practice to have a folder called \"figures\" or something similiar to keep all figures so that your file space is organized. You will find the Python logo image in a folder called \"figures\" on the GitHub repo (or in your Noteable workspace if you cloned the repo to access the tutorial files). You need to then tell your computer where to find the file such as \"figures/Pythonlogo.png\", which in plain language means go to the \"figures\" folder and find a file called \"Pythonlogo.png\". If you have any questions about this, ask one of the teaching team during the tutorial (or post on the discussion boards). \n",
    "\n",
    "*Hint 2* If you are trying option 2 and/or 3, make sure you are using appropriate cell types!\n",
    "\n",
    "*Hint 3* You can double-click on the image of the summer beach chairs to see the code if you are stuck on the URL option (option 1).\n"
   ]
  },
  {
   "cell_type": "code",
   "execution_count": null,
   "id": "93db817f",
   "metadata": {},
   "outputs": [],
   "source": [
    "# to insert an image using code we just first call the Image function into our global namespace\n",
    "# uncomment the code and fill in the appropriate file path information for the Python logo\n",
    "\n",
    "#from IPython.display import Image\n",
    "#Image(filename = \"image file path.image extension\")"
   ]
  },
  {
   "cell_type": "markdown",
   "id": "adf37400",
   "metadata": {},
   "source": [
    "![Summer beach chairs](https://images.unsplash.com/photo-1620127682229-33388276e540?ixlib=rb-4.0.3&ixid=M3wxMjA3fDB8MHxzZWFyY2h8Mnx8c3VtbWVyJTIwYmVhY2h8ZW58MHx8MHx8fDA%3D&w=1000&q=80)"
   ]
  },
  {
   "cell_type": "markdown",
   "id": "72112f4a",
   "metadata": {},
   "source": [
    "## Task 10 \n",
    "\n",
    "Save your notebook as an HTML. \n"
   ]
  },
  {
   "cell_type": "markdown",
   "id": "d4de4f1a",
   "metadata": {},
   "source": [
    "## Reproducibility"
   ]
  },
  {
   "cell_type": "markdown",
   "id": "6edc3a61",
   "metadata": {},
   "source": [
    "While it can take up space, it is good practice to finish a document calling the `session_info` function from the module of the same name, which lists all of the modules or packages you used, their versions, and more. Listing the version numbers of all loaded modules after importing them is a simple way to ensure a minimum level of reproducibility while requiring little additional effort. This practice is useful both when revisiting notebooks and when sharing them with colleagues.\n",
    "\n",
    "This documentation of your environment configuration is not only good practice, but also proves invaluable in any future debugging (fixing errors or bugs in your code), ensuring compatibility with ever evolving software versions. \n",
    "\n",
    "Because the `session_info` module is not already in Noteable, we first need to install it. Then we can import the module and use our function of interest. "
   ]
  },
  {
   "cell_type": "code",
   "execution_count": 1,
   "id": "75d1c322",
   "metadata": {},
   "outputs": [
    {
     "name": "stdout",
     "output_type": "stream",
     "text": [
      "Requirement already satisfied: session_info in /opt/homebrew/Caskroom/miniconda/base/lib/python3.12/site-packages (1.0.0)\n",
      "Requirement already satisfied: stdlib-list in /opt/homebrew/Caskroom/miniconda/base/lib/python3.12/site-packages (from session_info) (0.10.0)\n"
     ]
    }
   ],
   "source": [
    "!python -m pip install session_info"
   ]
  },
  {
   "cell_type": "code",
   "execution_count": 2,
   "id": "4beedd9e",
   "metadata": {
    "scrolled": true
   },
   "outputs": [
    {
     "data": {
      "text/html": [
       "<details>\n",
       "<summary>Click to view session information</summary>\n",
       "<pre>\n",
       "-----\n",
       "session_info        1.0.0\n",
       "-----\n",
       "</pre>\n",
       "<details>\n",
       "<summary>Click to view modules imported as dependencies</summary>\n",
       "<pre>\n",
       "appnope             0.1.4\n",
       "asttokens           NA\n",
       "comm                0.2.2\n",
       "cython_runtime      NA\n",
       "dateutil            2.9.0\n",
       "debugpy             1.6.7\n",
       "decorator           5.1.1\n",
       "executing           2.0.1\n",
       "ipykernel           6.29.4\n",
       "jedi                0.19.1\n",
       "packaging           23.1\n",
       "parso               0.8.4\n",
       "pexpect             4.9.0\n",
       "pickleshare         0.7.5\n",
       "pkg_resources       NA\n",
       "platformdirs        3.10.0\n",
       "prompt_toolkit      3.0.42\n",
       "psutil              5.9.8\n",
       "ptyprocess          0.7.0\n",
       "pure_eval           0.2.2\n",
       "pydev_ipython       NA\n",
       "pydevconsole        NA\n",
       "pydevd              2.9.5\n",
       "pydevd_file_utils   NA\n",
       "pydevd_plugins      NA\n",
       "pydevd_tracing      NA\n",
       "pygments            2.17.2\n",
       "ruamel              NA\n",
       "six                 1.16.0\n",
       "stack_data          0.6.2\n",
       "tornado             6.4\n",
       "traitlets           5.14.2\n",
       "vscode              NA\n",
       "wcwidth             0.2.13\n",
       "zmq                 25.1.1\n",
       "</pre>\n",
       "</details> <!-- seems like this ends pre, so might as well be explicit -->\n",
       "<pre>\n",
       "-----\n",
       "IPython             8.22.2\n",
       "jupyter_client      8.6.1\n",
       "jupyter_core        5.7.2\n",
       "-----\n",
       "Python 3.12.2 | packaged by conda-forge | (main, Feb 16 2024, 20:54:21) [Clang 16.0.6 ]\n",
       "macOS-14.4.1-arm64-arm-64bit\n",
       "-----\n",
       "Session information updated at 2024-04-10 17:06\n",
       "</pre>\n",
       "</details>"
      ],
      "text/plain": [
       "<IPython.core.display.HTML object>"
      ]
     },
     "execution_count": 2,
     "metadata": {},
     "output_type": "execute_result"
    }
   ],
   "source": [
    "import session_info\n",
    "\n",
    "session_info.show()"
   ]
  },
  {
   "cell_type": "markdown",
   "id": "0a44fb6a",
   "metadata": {},
   "source": [
    "By fault the behaviour is to only show modules not in the standard library. Modules from the standard library can be included using `std_lib = True`. Addtionally, to include not only the explicitly imported modules, but also any dependencies they import internally, specify `dependencies = True`"
   ]
  },
  {
   "cell_type": "code",
   "execution_count": 13,
   "id": "43367454",
   "metadata": {},
   "outputs": [
    {
     "data": {
      "text/html": [
       "<details>\n",
       "<summary>Click to view session information</summary>\n",
       "<pre>\n",
       "-----\n",
       "session_info        1.0.0\n",
       "time                NA\n",
       "-----\n",
       "</pre>\n",
       "<details>\n",
       "<summary>Click to view modules imported as dependencies</summary>\n",
       "<pre>\n",
       "abc                 NA\n",
       "appnope             0.1.4\n",
       "argparse            1.1\n",
       "array               NA\n",
       "ast                 NA\n",
       "asttokens           NA\n",
       "asyncio             NA\n",
       "atexit              NA\n",
       "base64              NA\n",
       "bdb                 NA\n",
       "binascii            NA\n",
       "bisect              NA\n",
       "bz2                 NA\n",
       "cProfile            NA\n",
       "calendar            NA\n",
       "cmd                 NA\n",
       "code                NA\n",
       "codecs              NA\n",
       "codeop              NA\n",
       "collections         NA\n",
       "colorsys            NA\n",
       "comm                0.2.2\n",
       "concurrent          NA\n",
       "contextlib          NA\n",
       "contextvars         NA\n",
       "copy                NA\n",
       "copyreg             NA\n",
       "csv                 1.0\n",
       "ctypes              1.1.0\n",
       "curses              NA\n",
       "cython_runtime      NA\n",
       "dataclasses         NA\n",
       "datetime            NA\n",
       "dateutil            2.9.0\n",
       "debugpy             1.6.7\n",
       "decimal             1.70\n",
       "decorator           5.1.1\n",
       "difflib             NA\n",
       "dis                 NA\n",
       "email               NA\n",
       "encodings           NA\n",
       "enum                NA\n",
       "errno               NA\n",
       "executing           2.0.1\n",
       "faulthandler        NA\n",
       "fcntl               NA\n",
       "filecmp             NA\n",
       "fnmatch             NA\n",
       "fractions           NA\n",
       "functools           NA\n",
       "gc                  NA\n",
       "genericpath         NA\n",
       "getopt              NA\n",
       "getpass             NA\n",
       "gettext             NA\n",
       "glob                NA\n",
       "gzip                NA\n",
       "hashlib             NA\n",
       "heapq               NA\n",
       "hmac                NA\n",
       "html                NA\n",
       "http                NA\n",
       "importlib           NA\n",
       "inspect             NA\n",
       "io                  NA\n",
       "ipaddress           1.0\n",
       "ipykernel           6.29.4\n",
       "itertools           NA\n",
       "jedi                0.19.1\n",
       "json                2.0.9\n",
       "keyword             NA\n",
       "linecache           NA\n",
       "locale              NA\n",
       "logging             0.5.1.2\n",
       "lzma                NA\n",
       "marshal             4\n",
       "math                NA\n",
       "mimetypes           NA\n",
       "multiprocessing     NA\n",
       "ntpath              NA\n",
       "numbers             NA\n",
       "opcode              NA\n",
       "operator            NA\n",
       "os                  NA\n",
       "packaging           23.1\n",
       "parso               0.8.4\n",
       "pathlib             NA\n",
       "pdb                 NA\n",
       "pexpect             4.9.0\n",
       "pickle              NA\n",
       "pickleshare         0.7.5\n",
       "pkg_resources       NA\n",
       "pkgutil             NA\n",
       "platform            1.0.8\n",
       "platformdirs        3.10.0\n",
       "plistlib            NA\n",
       "posix               NA\n",
       "posixpath           NA\n",
       "pprint              NA\n",
       "profile             NA\n",
       "prompt_toolkit      3.0.42\n",
       "pstats              NA\n",
       "psutil              5.9.8\n",
       "pty                 NA\n",
       "ptyprocess          0.7.0\n",
       "pure_eval           0.2.2\n",
       "pwd                 NA\n",
       "pydev_ipython       NA\n",
       "pydevconsole        NA\n",
       "pydevd              2.9.5\n",
       "pydevd_file_utils   NA\n",
       "pydevd_plugins      NA\n",
       "pydevd_tracing      NA\n",
       "pydoc               NA\n",
       "pydoc_data          NA\n",
       "pyexpat             NA\n",
       "pygments            2.17.2\n",
       "queue               NA\n",
       "quopri              NA\n",
       "random              NA\n",
       "re                  2.2.1\n",
       "reprlib             NA\n",
       "resource            NA\n",
       "ruamel              NA\n",
       "runpy               NA\n",
       "select              NA\n",
       "selectors           NA\n",
       "shlex               NA\n",
       "shutil              NA\n",
       "signal              NA\n",
       "site                NA\n",
       "six                 1.16.0\n",
       "socket              NA\n",
       "socketserver        0.4\n",
       "sqlite3             2.6.0\n",
       "ssl                 NA\n",
       "stack_data          0.6.2\n",
       "stat                NA\n",
       "string              NA\n",
       "stringprep          NA\n",
       "struct              NA\n",
       "subprocess          NA\n",
       "sys                 3.12.2 | packaged by conda-forge | (main, Feb 16 2024, 20:54:21) [Clang 16.0.6 ]\n",
       "sysconfig           NA\n",
       "tempfile            NA\n",
       "termios             NA\n",
       "textwrap            NA\n",
       "threading           NA\n",
       "timeit              NA\n",
       "token               NA\n",
       "tokenize            NA\n",
       "tornado             6.4\n",
       "traceback           NA\n",
       "traitlets           5.14.2\n",
       "tty                 NA\n",
       "types               NA\n",
       "typing              NA\n",
       "unicodedata         NA\n",
       "urllib              NA\n",
       "uuid                NA\n",
       "vscode              NA\n",
       "warnings            NA\n",
       "wcwidth             0.2.13\n",
       "weakref             NA\n",
       "xml                 NA\n",
       "xmlrpc              NA\n",
       "zipfile             NA\n",
       "zipimport           NA\n",
       "zlib                1.0\n",
       "zmq                 25.1.1\n",
       "</pre>\n",
       "</details> <!-- seems like this ends pre, so might as well be explicit -->\n",
       "<pre>\n",
       "-----\n",
       "IPython             8.22.2\n",
       "jupyter_client      8.6.1\n",
       "jupyter_core        5.7.2\n",
       "-----\n",
       "Python 3.12.2 | packaged by conda-forge | (main, Feb 16 2024, 20:54:21) [Clang 16.0.6 ]\n",
       "macOS-14.4.1-arm64-arm-64bit\n",
       "-----\n",
       "Session information updated at 2024-04-10 16:54\n",
       "</pre>\n",
       "</details>"
      ],
      "text/plain": [
       "<IPython.core.display.HTML object>"
      ]
     },
     "execution_count": 13,
     "metadata": {},
     "output_type": "execute_result"
    }
   ],
   "source": [
    "session_info.show(std_lib = True, dependencies = True) "
   ]
  },
  {
   "cell_type": "markdown",
   "id": "2f418641",
   "metadata": {},
   "source": [
    "## Bonus task \n",
    "\n",
    "As I mentioned in the content this week, there is a \"Zen of Python\". Instead of putting this into a search engine, you can pull this up with the following code `import this` - give it a try! Add a code cell below this Markdown cell."
   ]
  },
  {
   "cell_type": "markdown",
   "id": "4d355556",
   "metadata": {},
   "source": [
    "Well done! You have completed all of the tasks for the Python notebook. If you have not done so yet, now move to the RMarkdown notebook. "
   ]
  },
  {
   "cell_type": "markdown",
   "id": "6549c01b",
   "metadata": {},
   "source": [
    "---\n",
    "*Dr. Brittany Blankinship (2024)*"
   ]
  }
 ],
 "metadata": {
  "kernelspec": {
   "display_name": "Python 3 (ipykernel)",
   "language": "python",
   "name": "python3"
  },
  "language_info": {
   "codemirror_mode": {
    "name": "ipython",
    "version": 3
   },
   "file_extension": ".py",
   "mimetype": "text/x-python",
   "name": "python",
   "nbconvert_exporter": "python",
   "pygments_lexer": "ipython3",
   "version": "3.12.2"
  }
 },
 "nbformat": 4,
 "nbformat_minor": 5
}
