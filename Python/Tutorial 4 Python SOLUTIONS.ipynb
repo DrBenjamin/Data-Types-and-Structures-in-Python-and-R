{
 "cells": [
  {
   "cell_type": "markdown",
   "id": "f3c3fe78",
   "metadata": {},
   "source": [
    "# Tutorial 4 Python Notebook \n",
    "\n",
    "In this tutorial there are tasks for working with lists, arrays, dictionaries, and data frames.\n",
    "\n",
    "* Lists = Task 1-3\n",
    "* Arrays = Task 4-7 \n",
    "* Dictionaries = Task 8-10\n",
    "* Data frames = Task 11-16\n",
    "\n",
    "The aim of this tutorial notebook is to give you some (guided) hands-on experience working with different data structures in Python."
   ]
  },
  {
   "cell_type": "code",
   "execution_count": 3,
   "id": "eda04920",
   "metadata": {},
   "outputs": [],
   "source": [
    "import numpy as np \n",
    "import pandas as pd"
   ]
  },
  {
   "cell_type": "markdown",
   "id": "a9c029fa",
   "metadata": {},
   "source": [
    "## Lists \n",
    "\n",
    "### Task 1\n",
    "\n",
    "Create a list containing strings, numbers, a list, and Boolean values. \n"
   ]
  },
  {
   "cell_type": "code",
   "execution_count": null,
   "id": "665c5ffd",
   "metadata": {},
   "outputs": [],
   "source": [
    "## your answer \n"
   ]
  },
  {
   "cell_type": "markdown",
   "id": "70204777",
   "metadata": {},
   "source": [
    "#### Task 1 solution \n",
    "\n",
    "There are endless potential solutions, the primary point is to emphasize that lists can contain multiple data types and to check your understanding of what these data types are by name. \n"
   ]
  },
  {
   "cell_type": "code",
   "execution_count": 4,
   "id": "187dcf7a",
   "metadata": {},
   "outputs": [
    {
     "data": {
      "text/plain": [
       "['orange', 'apple', [5, 7, 9, 11], True, 125.17, 75.83]"
      ]
     },
     "execution_count": 4,
     "metadata": {},
     "output_type": "execute_result"
    }
   ],
   "source": [
    "list_data = [\"orange\", \"apple\", [5, 7, 9, 11], True, 125.17, 75.83]\n",
    "\n",
    "list_data"
   ]
  },
  {
   "cell_type": "markdown",
   "id": "eb82575f",
   "metadata": {},
   "source": [
    "### Task 2\n",
    "\n",
    "How would you index to the first item in the nested list in the list you created in task 1?"
   ]
  },
  {
   "cell_type": "code",
   "execution_count": null,
   "id": "cf295744",
   "metadata": {},
   "outputs": [],
   "source": [
    "## your answer \n",
    "\n"
   ]
  },
  {
   "cell_type": "markdown",
   "id": "149f376d",
   "metadata": {},
   "source": [
    "#### Task 2 solution\n",
    "\n",
    "This will vary depending on your answer to Task 1. But using `list_data`, to access the number 5 we need to use the following code"
   ]
  },
  {
   "cell_type": "code",
   "execution_count": 5,
   "id": "95c61510",
   "metadata": {},
   "outputs": [
    {
     "data": {
      "text/plain": [
       "5"
      ]
     },
     "execution_count": 5,
     "metadata": {},
     "output_type": "execute_result"
    }
   ],
   "source": [
    "list_data[2][0]"
   ]
  },
  {
   "cell_type": "markdown",
   "id": "bce17c73",
   "metadata": {},
   "source": [
    "### Task 3\n",
    "\n",
    "Convert the list below into a 1-dimensional array. "
   ]
  },
  {
   "cell_type": "code",
   "execution_count": 7,
   "id": "71d430e1",
   "metadata": {},
   "outputs": [
    {
     "name": "stdout",
     "output_type": "stream",
     "text": [
      "[12.23, 13.32, 100.1, 36.45]\n"
     ]
    }
   ],
   "source": [
    "list1 = [12.23, 13.32, 100.1, 36.45]\n",
    "\n",
    "print(list1)"
   ]
  },
  {
   "cell_type": "markdown",
   "id": "dc35d19b",
   "metadata": {},
   "source": [
    "<details><summary style='color:lightblue'>HINT: Where do we get the array data structure? CLICK HERE TO SEE THE ANSWER. BUT REALLY TRY TO DO IT YOURSELF FIRST!</summary>\n",
    "\n",
    "Remember, arrays are **not** a built-in Python data structure. We access them through the `NumPy` package. \n",
    "  "
   ]
  },
  {
   "cell_type": "markdown",
   "id": "31a9b6fd",
   "metadata": {},
   "source": [
    "#### Task 3 solution "
   ]
  },
  {
   "cell_type": "code",
   "execution_count": 8,
   "id": "950cd34b",
   "metadata": {},
   "outputs": [
    {
     "name": "stdout",
     "output_type": "stream",
     "text": [
      "[ 12.23  13.32 100.1   36.45]\n",
      "<class 'numpy.ndarray'>\n"
     ]
    }
   ],
   "source": [
    "array_l1 = np.array(list1) \n",
    "\n",
    "print(array_l1) # notice the array print out does not include commas between values as in the list data structure above \n",
    "\n",
    "print(type(array_l1))"
   ]
  },
  {
   "cell_type": "markdown",
   "id": "b6773989",
   "metadata": {},
   "source": [
    "## Array "
   ]
  },
  {
   "cell_type": "markdown",
   "id": "6d1fe922",
   "metadata": {},
   "source": [
    "## Task 4\n",
    "\n",
    "Use the keyboard variable below to spell your name by referencing the letters in the array. "
   ]
  },
  {
   "cell_type": "markdown",
   "id": "19cba837",
   "metadata": {},
   "source": [
    "<details><summary style='color:lightblue'>HINT: Example solution. CLICK HERE TO SEE THE ANSWER. BUT REALLY TRY TO DO IT YOURSELF FIRST!</summary>\n",
    "\n",
    "brittany is: \n",
    "    \n",
    "`print(keyboard[2,4], keyboard[0,3], keyboard[0,7], keyboard[0,4], keyboard[0,4], keyboard[1,0], keyboard[2,5], keyboard[0,5])`"
   ]
  },
  {
   "cell_type": "code",
   "execution_count": 10,
   "id": "6ab118b5",
   "metadata": {},
   "outputs": [],
   "source": [
    "keyboard = np.array([ ['q','w','e','r','t','y','u','i','o','p'],\n",
    "                      ['a','s','d','f','g','h','j','k','l',';'],\n",
    "                      ['z','x','c','v','b','n','m','<','>','?']\n",
    "                   ])"
   ]
  },
  {
   "cell_type": "code",
   "execution_count": 16,
   "id": "06ba8776",
   "metadata": {},
   "outputs": [
    {
     "name": "stdout",
     "output_type": "stream",
     "text": [
      "Ben\n"
     ]
    }
   ],
   "source": [
    "## your answer here \n",
    "print(keyboard[2][4].capitalize() + keyboard[0][2] + keyboard[2][5])\n"
   ]
  },
  {
   "cell_type": "markdown",
   "id": "cf32acb3",
   "metadata": {},
   "source": [
    "#### Task 4 solution \n",
    "\n",
    "This will of course vary dependin on your name (and I do not think anyone on the course shares my name)"
   ]
  },
  {
   "cell_type": "code",
   "execution_count": 15,
   "id": "a208a3c6",
   "metadata": {
    "scrolled": true
   },
   "outputs": [
    {
     "name": "stdout",
     "output_type": "stream",
     "text": [
      "b r i t t a n y\n"
     ]
    }
   ],
   "source": [
    "print(keyboard[2,4], keyboard[0,3], keyboard[0,7], keyboard[0,4], keyboard[0,4], keyboard[1,0], keyboard[2,5], keyboard[0,5])"
   ]
  },
  {
   "cell_type": "code",
   "execution_count": 17,
   "id": "27faccc5",
   "metadata": {},
   "outputs": [
    {
     "name": "stdout",
     "output_type": "stream",
     "text": [
      "brittany\n"
     ]
    }
   ],
   "source": [
    "## if you want the letters formatted closer together we can use the '+' operator to add then together without a space \n",
    "print(keyboard[2,4] + keyboard[0,3] + keyboard[0,7] + keyboard[0,4] + keyboard[0,4] + keyboard[1,0] + keyboard[2,5] + keyboard[0,5])"
   ]
  },
  {
   "cell_type": "markdown",
   "id": "f2285163",
   "metadata": {},
   "source": [
    "### Task 5 \n",
    "\n",
    "Create a 1-dimensional array with values ranging from 20 and 80."
   ]
  },
  {
   "cell_type": "code",
   "execution_count": 20,
   "id": "99b3b183",
   "metadata": {},
   "outputs": [
    {
     "data": {
      "text/plain": [
       "array([20, 21, 22, 23, 24, 25, 26, 27, 28, 29, 30, 31, 32, 33, 34, 35, 36,\n",
       "       37, 38, 39, 40, 41, 42, 43, 44, 45, 46, 47, 48, 49, 50, 51, 52, 53,\n",
       "       54, 55, 56, 57, 58, 59, 60, 61, 62, 63, 64, 65, 66, 67, 68, 69, 70,\n",
       "       71, 72, 73, 74, 75, 76, 77, 78, 79, 80])"
      ]
     },
     "execution_count": 20,
     "metadata": {},
     "output_type": "execute_result"
    }
   ],
   "source": [
    "## your answer \n",
    "one_dim_array = np.arange(20, 81)\n",
    "one_dim_array"
   ]
  },
  {
   "cell_type": "markdown",
   "id": "83e02503",
   "metadata": {},
   "source": [
    "#### Task 5 Solution "
   ]
  },
  {
   "cell_type": "code",
   "execution_count": 19,
   "id": "f6bbd0b0",
   "metadata": {},
   "outputs": [
    {
     "data": {
      "text/plain": [
       "array([20, 21, 22, 23, 24, 25, 26, 27, 28, 29, 30, 31, 32, 33, 34, 35, 36,\n",
       "       37, 38, 39, 40, 41, 42, 43, 44, 45, 46, 47, 48, 49, 50, 51, 52, 53,\n",
       "       54, 55, 56, 57, 58, 59, 60, 61, 62, 63, 64, 65, 66, 67, 68, 69, 70,\n",
       "       71, 72, 73, 74, 75, 76, 77, 78, 79, 80])"
      ]
     },
     "execution_count": 19,
     "metadata": {},
     "output_type": "execute_result"
    }
   ],
   "source": [
    "array2 = np.arange(20,81)\n",
    "\n",
    "array2"
   ]
  },
  {
   "cell_type": "markdown",
   "id": "a593cddc",
   "metadata": {},
   "source": [
    "### Task 6\n",
    "\n",
    "Reverse the array created in Task 5."
   ]
  },
  {
   "cell_type": "markdown",
   "id": "23f97d6d",
   "metadata": {},
   "source": [
    "<details><summary style='color:lightblue'>HINT: A reminder. CLICK HERE TO SEE THE ANSWER. BUT REALLY TRY TO DO IT YOURSELF FIRST!</summary>\n",
    "    \n",
    "Indexing with arrays (and lists and dataframes) can be done with the following syntax ` my_array[start_index : stop_index : step/jump]`"
   ]
  },
  {
   "cell_type": "markdown",
   "id": "2ffae002",
   "metadata": {},
   "source": [
    "<details><summary style='color:lightblue'>HINT: Another reminder. CLICK HERE TO SEE THE ANSWER. BUT REALLY TRY TO DO IT YOURSELF FIRST!</summary>\n",
    "\n",
    "Remember that reverse indexing in Python and R are very different! \n"
   ]
  },
  {
   "cell_type": "code",
   "execution_count": 21,
   "id": "770c1d2e",
   "metadata": {},
   "outputs": [
    {
     "data": {
      "text/plain": [
       "array([80, 79, 78, 77, 76, 75, 74, 73, 72, 71, 70, 69, 68, 67, 66, 65, 64,\n",
       "       63, 62, 61, 60, 59, 58, 57, 56, 55, 54, 53, 52, 51, 50, 49, 48, 47,\n",
       "       46, 45, 44, 43, 42, 41, 40, 39, 38, 37, 36, 35, 34, 33, 32, 31, 30,\n",
       "       29, 28, 27, 26, 25, 24, 23, 22, 21, 20])"
      ]
     },
     "execution_count": 21,
     "metadata": {},
     "output_type": "execute_result"
    }
   ],
   "source": [
    "## your answer \n",
    "array2[::-1]"
   ]
  },
  {
   "cell_type": "markdown",
   "id": "57bd6b48",
   "metadata": {},
   "source": [
    "#### Task 6 solution "
   ]
  },
  {
   "cell_type": "code",
   "execution_count": 22,
   "id": "4a825c52",
   "metadata": {
    "scrolled": false
   },
   "outputs": [
    {
     "name": "stdout",
     "output_type": "stream",
     "text": [
      "[80 79 78 77 76 75 74 73 72 71 70 69 68 67 66 65 64 63 62 61 60 59 58 57\n",
      " 56 55 54 53 52 51 50 49 48 47 46 45 44 43 42 41 40 39 38 37 36 35 34 33\n",
      " 32 31 30 29 28 27 26 25 24 23 22 21 20]\n"
     ]
    }
   ],
   "source": [
    "array2_rev = array2[::-1] # reminder, the first colon : here means `everything` \n",
    "\n",
    "print(array2_rev)"
   ]
  },
  {
   "cell_type": "markdown",
   "id": "7d538434",
   "metadata": {},
   "source": [
    "### Task 7\n",
    "\n",
    "Create a 2D array with 1 across the border and 0 inside/middle."
   ]
  },
  {
   "cell_type": "markdown",
   "id": "128432c8",
   "metadata": {},
   "source": [
    "<details><summary style='color:lightblue'>HINT: Breaking down the problem. CLICK HERE TO SEE THE ANSWER. BUT REALLY TRY TO DO IT YOURSELF FIRST!</summary>\n",
    "\n",
    "This may sound easy enough, but is actually quite tricky as we are working in 2 dimensions! As a first step, create a 2-D array filled with ones (there is a specific function for this). Then replace the inside or middle values of the array with 0."
   ]
  },
  {
   "cell_type": "code",
   "execution_count": 26,
   "id": "94f2c676",
   "metadata": {},
   "outputs": [
    {
     "data": {
      "text/plain": [
       "array([[1., 1., 1., 1., 1.],\n",
       "       [1., 0., 0., 0., 1.],\n",
       "       [1., 0., 0., 0., 1.],\n",
       "       [1., 0., 0., 0., 1.],\n",
       "       [1., 1., 1., 1., 1.]])"
      ]
     },
     "execution_count": 26,
     "metadata": {},
     "output_type": "execute_result"
    }
   ],
   "source": [
    "## your answer \n",
    "twod_array = np.ones((5,5))\n",
    "twod_array[1:-1, 1:-1] = 0\n",
    "twod_array"
   ]
  },
  {
   "cell_type": "markdown",
   "id": "9e644dbc",
   "metadata": {},
   "source": [
    "#### Task 7 solution "
   ]
  },
  {
   "cell_type": "code",
   "execution_count": 27,
   "id": "ffed37f7",
   "metadata": {},
   "outputs": [
    {
     "name": "stdout",
     "output_type": "stream",
     "text": [
      "[[1 1 1 1 1]\n",
      " [1 1 1 1 1]\n",
      " [1 1 1 1 1]\n",
      " [1 1 1 1 1]\n",
      " [1 1 1 1 1]]\n"
     ]
    }
   ],
   "source": [
    "# step 1 create an array with ones \n",
    "array3 = np.ones((5,5), dtype = 'int')\n",
    "\n",
    "print(array3)"
   ]
  },
  {
   "cell_type": "code",
   "execution_count": 28,
   "id": "312f2b99",
   "metadata": {
    "scrolled": true
   },
   "outputs": [
    {
     "name": "stdout",
     "output_type": "stream",
     "text": [
      "[[1 1 1 1 1]\n",
      " [1 0 0 0 1]\n",
      " [1 0 0 0 1]\n",
      " [1 0 0 0 1]\n",
      " [1 1 1 1 1]]\n"
     ]
    }
   ],
   "source": [
    "## next change the values in the middle to be 0 using indexing\n",
    "array3[1:-1, 1:-1] = 0\n",
    "\n",
    "print(array3)"
   ]
  },
  {
   "cell_type": "markdown",
   "id": "2f76bfdb",
   "metadata": {},
   "source": [
    "## Dictionaries"
   ]
  },
  {
   "cell_type": "markdown",
   "id": "78181e7b",
   "metadata": {},
   "source": [
    "### Task 8\n",
    "\n",
    "Create a dictionary comprised of colors blue, red, green; animals dog, cat, horse; and age 33, 56, 24."
   ]
  },
  {
   "cell_type": "code",
   "execution_count": null,
   "id": "ffc98561",
   "metadata": {},
   "outputs": [],
   "source": [
    "## your answer \n"
   ]
  },
  {
   "cell_type": "markdown",
   "id": "6c109837",
   "metadata": {},
   "source": [
    "#### Task 8  Solution "
   ]
  },
  {
   "cell_type": "code",
   "execution_count": 29,
   "id": "69a2df51",
   "metadata": {},
   "outputs": [
    {
     "name": "stdout",
     "output_type": "stream",
     "text": [
      "{'colors': ['blue', 'red', 'green'], 'animals': ['dog', 'cat', 'horse'], 'age': [33, 56, 24]}\n"
     ]
    }
   ],
   "source": [
    "dict1 = {\"colors\": [\"blue\", \"red\", \"green\"],\n",
    "         \"animals\": [\"dog\", \"cat\", \"horse\"],\n",
    "         \"age\": [33, 56, 24]}\n",
    "\n",
    "print(dict1)"
   ]
  },
  {
   "cell_type": "markdown",
   "id": "b04eee15",
   "metadata": {},
   "source": [
    "### Task 9\n",
    "\n",
    "Add a new key value pair to the list created in Task 8 called flower comprised of daisy, rose, and lily. "
   ]
  },
  {
   "cell_type": "code",
   "execution_count": 30,
   "id": "bdfe5310",
   "metadata": {},
   "outputs": [],
   "source": [
    "## your answer \n",
    "dict1['flower'] = ['rose', 'lily', 'tulip']"
   ]
  },
  {
   "cell_type": "markdown",
   "id": "59adae9a",
   "metadata": {},
   "source": [
    "#### Task 9 Solution "
   ]
  },
  {
   "cell_type": "code",
   "execution_count": null,
   "id": "5c3b657f",
   "metadata": {},
   "outputs": [],
   "source": [
    "dict1[\"flower\"] = [\"daisy\", \"rose\", \"lily\"]\n",
    "\n",
    "print(dict1)"
   ]
  },
  {
   "cell_type": "markdown",
   "id": "80541562",
   "metadata": {},
   "source": [
    "### Task 10\n",
    "\n",
    "Convert your dictionary into a data frame. "
   ]
  },
  {
   "cell_type": "markdown",
   "id": "8c1d7572",
   "metadata": {},
   "source": [
    "<details><summary style='color:lightblue'>HINT: Where do we get the data frame data structure? CLICK HERE TO SEE THE ANSWER. BUT REALLY TRY TO DO IT YOURSELF FIRST!</summary>\n",
    "\n",
    "Remember, data frames are **not** a built-in Python data structure. We access them through the `pandas` package. \n",
    "  "
   ]
  },
  {
   "cell_type": "code",
   "execution_count": 31,
   "id": "dabe35bb",
   "metadata": {},
   "outputs": [],
   "source": [
    "## your answer \n",
    "df = pd.DataFrame.from_dict(dict1)"
   ]
  },
  {
   "cell_type": "markdown",
   "id": "a549a1e2",
   "metadata": {},
   "source": [
    "#### Task 10 Solution "
   ]
  },
  {
   "cell_type": "code",
   "execution_count": 32,
   "id": "c999742b",
   "metadata": {},
   "outputs": [
    {
     "data": {
      "text/html": [
       "<div>\n",
       "<style scoped>\n",
       "    .dataframe tbody tr th:only-of-type {\n",
       "        vertical-align: middle;\n",
       "    }\n",
       "\n",
       "    .dataframe tbody tr th {\n",
       "        vertical-align: top;\n",
       "    }\n",
       "\n",
       "    .dataframe thead th {\n",
       "        text-align: right;\n",
       "    }\n",
       "</style>\n",
       "<table border=\"1\" class=\"dataframe\">\n",
       "  <thead>\n",
       "    <tr style=\"text-align: right;\">\n",
       "      <th></th>\n",
       "      <th>colors</th>\n",
       "      <th>animals</th>\n",
       "      <th>age</th>\n",
       "      <th>flower</th>\n",
       "    </tr>\n",
       "  </thead>\n",
       "  <tbody>\n",
       "    <tr>\n",
       "      <th>0</th>\n",
       "      <td>blue</td>\n",
       "      <td>dog</td>\n",
       "      <td>33</td>\n",
       "      <td>rose</td>\n",
       "    </tr>\n",
       "    <tr>\n",
       "      <th>1</th>\n",
       "      <td>red</td>\n",
       "      <td>cat</td>\n",
       "      <td>56</td>\n",
       "      <td>lily</td>\n",
       "    </tr>\n",
       "    <tr>\n",
       "      <th>2</th>\n",
       "      <td>green</td>\n",
       "      <td>horse</td>\n",
       "      <td>24</td>\n",
       "      <td>tulip</td>\n",
       "    </tr>\n",
       "  </tbody>\n",
       "</table>\n",
       "</div>"
      ],
      "text/plain": [
       "  colors animals  age flower\n",
       "0   blue     dog   33   rose\n",
       "1    red     cat   56   lily\n",
       "2  green   horse   24  tulip"
      ]
     },
     "execution_count": 32,
     "metadata": {},
     "output_type": "execute_result"
    }
   ],
   "source": [
    "df_dict = pd.DataFrame.from_dict(dict1)\n",
    "\n",
    "df_dict"
   ]
  },
  {
   "cell_type": "markdown",
   "id": "11654a08",
   "metadata": {},
   "source": [
    "## Data frames \n",
    "\n",
    "For this series of tasks we will be using a publicly available dataset from [Public Health Scotland around Stroke Activity](https://www.opendata.nhs.scot/dataset/scottish-stroke-statistics/resource/47656572-e196-40c8-83e8-08b0b223b2e6). This dataset provides \"Information on hospital activity related to cerebrovascular disease (including stroke and subarachnoid haemorrhage).\" Look through the link and read the data dictionary at the bottom to familiarise yourself with the variables.  \n",
    "\n",
    "We will first read in the data. You can read in data from a URL with the `read_csv()` function but inputting the URL as a character string - how helpful! From the link above to the data set there is a URL I have copied at the top of the page. It is good practice when first reading in a data set to name it and add `_raw` or some delineation that it is the raw data. As you process the data for your analytic purposes, you can then save the data in an object without this delineation. This allows you to maintain an object with a version of the raw data that you can refer to later if needed. "
   ]
  },
  {
   "cell_type": "code",
   "execution_count": 33,
   "id": "d7662808",
   "metadata": {},
   "outputs": [],
   "source": [
    "stroke_raw = pd.read_csv(\"https://www.opendata.nhs.scot/dataset/f5dcf382-e6ca-49f6-b807-4f9cc29555bc/resource/47656572-e196-40c8-83e8-08b0b223b2e6/download/stroke_activitybyhbr.csv\")"
   ]
  },
  {
   "cell_type": "code",
   "execution_count": 34,
   "id": "3e5e5002",
   "metadata": {},
   "outputs": [
    {
     "data": {
      "text/html": [
       "<div>\n",
       "<style scoped>\n",
       "    .dataframe tbody tr th:only-of-type {\n",
       "        vertical-align: middle;\n",
       "    }\n",
       "\n",
       "    .dataframe tbody tr th {\n",
       "        vertical-align: top;\n",
       "    }\n",
       "\n",
       "    .dataframe thead th {\n",
       "        text-align: right;\n",
       "    }\n",
       "</style>\n",
       "<table border=\"1\" class=\"dataframe\">\n",
       "  <thead>\n",
       "    <tr style=\"text-align: right;\">\n",
       "      <th></th>\n",
       "      <th>FinancialYear</th>\n",
       "      <th>HBR</th>\n",
       "      <th>HBRQF</th>\n",
       "      <th>AdmissionType</th>\n",
       "      <th>AdmissionTypeQF</th>\n",
       "      <th>AgeGroup</th>\n",
       "      <th>AgeGroupQF</th>\n",
       "      <th>Sex</th>\n",
       "      <th>SexQF</th>\n",
       "      <th>Diagnosis</th>\n",
       "      <th>NumberOfDischarges</th>\n",
       "      <th>NumberOfDischargesQF</th>\n",
       "      <th>CrudeRate</th>\n",
       "      <th>CrudeRateQF</th>\n",
       "      <th>EASR</th>\n",
       "    </tr>\n",
       "  </thead>\n",
       "  <tbody>\n",
       "    <tr>\n",
       "      <th>0</th>\n",
       "      <td>2013/14</td>\n",
       "      <td>S08000015</td>\n",
       "      <td>NaN</td>\n",
       "      <td>All</td>\n",
       "      <td>d</td>\n",
       "      <td>0-44 years</td>\n",
       "      <td>NaN</td>\n",
       "      <td>Males</td>\n",
       "      <td>NaN</td>\n",
       "      <td>Cerebrovascular Disease</td>\n",
       "      <td>57.0</td>\n",
       "      <td>NaN</td>\n",
       "      <td>61.547764</td>\n",
       "      <td>NaN</td>\n",
       "      <td>66.515711</td>\n",
       "    </tr>\n",
       "    <tr>\n",
       "      <th>1</th>\n",
       "      <td>2013/14</td>\n",
       "      <td>S08000015</td>\n",
       "      <td>NaN</td>\n",
       "      <td>All</td>\n",
       "      <td>d</td>\n",
       "      <td>0-44 years</td>\n",
       "      <td>NaN</td>\n",
       "      <td>Females</td>\n",
       "      <td>NaN</td>\n",
       "      <td>Cerebrovascular Disease</td>\n",
       "      <td>42.0</td>\n",
       "      <td>NaN</td>\n",
       "      <td>44.180298</td>\n",
       "      <td>NaN</td>\n",
       "      <td>43.481241</td>\n",
       "    </tr>\n",
       "    <tr>\n",
       "      <th>2</th>\n",
       "      <td>2013/14</td>\n",
       "      <td>S08000015</td>\n",
       "      <td>NaN</td>\n",
       "      <td>All</td>\n",
       "      <td>d</td>\n",
       "      <td>45-64 years</td>\n",
       "      <td>NaN</td>\n",
       "      <td>Males</td>\n",
       "      <td>NaN</td>\n",
       "      <td>Cerebrovascular Disease</td>\n",
       "      <td>231.0</td>\n",
       "      <td>NaN</td>\n",
       "      <td>445.773832</td>\n",
       "      <td>NaN</td>\n",
       "      <td>444.876027</td>\n",
       "    </tr>\n",
       "    <tr>\n",
       "      <th>3</th>\n",
       "      <td>2013/14</td>\n",
       "      <td>S08000015</td>\n",
       "      <td>NaN</td>\n",
       "      <td>All</td>\n",
       "      <td>d</td>\n",
       "      <td>45-64 years</td>\n",
       "      <td>NaN</td>\n",
       "      <td>Females</td>\n",
       "      <td>NaN</td>\n",
       "      <td>Cerebrovascular Disease</td>\n",
       "      <td>209.0</td>\n",
       "      <td>NaN</td>\n",
       "      <td>371.238765</td>\n",
       "      <td>NaN</td>\n",
       "      <td>372.420079</td>\n",
       "    </tr>\n",
       "    <tr>\n",
       "      <th>4</th>\n",
       "      <td>2013/14</td>\n",
       "      <td>S08000015</td>\n",
       "      <td>NaN</td>\n",
       "      <td>All</td>\n",
       "      <td>d</td>\n",
       "      <td>65-74 years</td>\n",
       "      <td>NaN</td>\n",
       "      <td>Males</td>\n",
       "      <td>NaN</td>\n",
       "      <td>Cerebrovascular Disease</td>\n",
       "      <td>244.0</td>\n",
       "      <td>NaN</td>\n",
       "      <td>1198.899371</td>\n",
       "      <td>NaN</td>\n",
       "      <td>1229.931638</td>\n",
       "    </tr>\n",
       "    <tr>\n",
       "      <th>...</th>\n",
       "      <td>...</td>\n",
       "      <td>...</td>\n",
       "      <td>...</td>\n",
       "      <td>...</td>\n",
       "      <td>...</td>\n",
       "      <td>...</td>\n",
       "      <td>...</td>\n",
       "      <td>...</td>\n",
       "      <td>...</td>\n",
       "      <td>...</td>\n",
       "      <td>...</td>\n",
       "      <td>...</td>\n",
       "      <td>...</td>\n",
       "      <td>...</td>\n",
       "      <td>...</td>\n",
       "    </tr>\n",
       "    <tr>\n",
       "      <th>43195</th>\n",
       "      <td>2022/23</td>\n",
       "      <td>S92000003</td>\n",
       "      <td>d</td>\n",
       "      <td>Transfer</td>\n",
       "      <td>NaN</td>\n",
       "      <td>45-64 years</td>\n",
       "      <td>NaN</td>\n",
       "      <td>All</td>\n",
       "      <td>d</td>\n",
       "      <td>TIAs and related syndromes</td>\n",
       "      <td>262.0</td>\n",
       "      <td>NaN</td>\n",
       "      <td>17.582418</td>\n",
       "      <td>NaN</td>\n",
       "      <td>16.915867</td>\n",
       "    </tr>\n",
       "    <tr>\n",
       "      <th>43196</th>\n",
       "      <td>2022/23</td>\n",
       "      <td>S92000003</td>\n",
       "      <td>d</td>\n",
       "      <td>Transfer</td>\n",
       "      <td>NaN</td>\n",
       "      <td>65-74 years</td>\n",
       "      <td>NaN</td>\n",
       "      <td>All</td>\n",
       "      <td>d</td>\n",
       "      <td>TIAs and related syndromes</td>\n",
       "      <td>300.0</td>\n",
       "      <td>NaN</td>\n",
       "      <td>50.371236</td>\n",
       "      <td>NaN</td>\n",
       "      <td>50.648669</td>\n",
       "    </tr>\n",
       "    <tr>\n",
       "      <th>43197</th>\n",
       "      <td>2022/23</td>\n",
       "      <td>S92000003</td>\n",
       "      <td>d</td>\n",
       "      <td>Transfer</td>\n",
       "      <td>NaN</td>\n",
       "      <td>75plus years</td>\n",
       "      <td>NaN</td>\n",
       "      <td>All</td>\n",
       "      <td>d</td>\n",
       "      <td>TIAs and related syndromes</td>\n",
       "      <td>726.0</td>\n",
       "      <td>NaN</td>\n",
       "      <td>151.792976</td>\n",
       "      <td>NaN</td>\n",
       "      <td>153.689663</td>\n",
       "    </tr>\n",
       "    <tr>\n",
       "      <th>43198</th>\n",
       "      <td>2022/23</td>\n",
       "      <td>S92000003</td>\n",
       "      <td>d</td>\n",
       "      <td>Transfer</td>\n",
       "      <td>NaN</td>\n",
       "      <td>under75 years</td>\n",
       "      <td>NaN</td>\n",
       "      <td>All</td>\n",
       "      <td>d</td>\n",
       "      <td>TIAs and related syndromes</td>\n",
       "      <td>572.0</td>\n",
       "      <td>NaN</td>\n",
       "      <td>11.436302</td>\n",
       "      <td>NaN</td>\n",
       "      <td>10.970167</td>\n",
       "    </tr>\n",
       "    <tr>\n",
       "      <th>43199</th>\n",
       "      <td>2022/23</td>\n",
       "      <td>S92000003</td>\n",
       "      <td>d</td>\n",
       "      <td>Transfer</td>\n",
       "      <td>NaN</td>\n",
       "      <td>All</td>\n",
       "      <td>d</td>\n",
       "      <td>All</td>\n",
       "      <td>d</td>\n",
       "      <td>TIAs and related syndromes</td>\n",
       "      <td>1298.0</td>\n",
       "      <td>NaN</td>\n",
       "      <td>23.686564</td>\n",
       "      <td>NaN</td>\n",
       "      <td>23.814921</td>\n",
       "    </tr>\n",
       "  </tbody>\n",
       "</table>\n",
       "<p>43200 rows × 15 columns</p>\n",
       "</div>"
      ],
      "text/plain": [
       "      FinancialYear        HBR HBRQF AdmissionType AdmissionTypeQF  \\\n",
       "0           2013/14  S08000015   NaN           All               d   \n",
       "1           2013/14  S08000015   NaN           All               d   \n",
       "2           2013/14  S08000015   NaN           All               d   \n",
       "3           2013/14  S08000015   NaN           All               d   \n",
       "4           2013/14  S08000015   NaN           All               d   \n",
       "...             ...        ...   ...           ...             ...   \n",
       "43195       2022/23  S92000003     d      Transfer             NaN   \n",
       "43196       2022/23  S92000003     d      Transfer             NaN   \n",
       "43197       2022/23  S92000003     d      Transfer             NaN   \n",
       "43198       2022/23  S92000003     d      Transfer             NaN   \n",
       "43199       2022/23  S92000003     d      Transfer             NaN   \n",
       "\n",
       "            AgeGroup AgeGroupQF      Sex SexQF                   Diagnosis  \\\n",
       "0         0-44 years        NaN    Males   NaN     Cerebrovascular Disease   \n",
       "1         0-44 years        NaN  Females   NaN     Cerebrovascular Disease   \n",
       "2        45-64 years        NaN    Males   NaN     Cerebrovascular Disease   \n",
       "3        45-64 years        NaN  Females   NaN     Cerebrovascular Disease   \n",
       "4        65-74 years        NaN    Males   NaN     Cerebrovascular Disease   \n",
       "...              ...        ...      ...   ...                         ...   \n",
       "43195    45-64 years        NaN      All     d  TIAs and related syndromes   \n",
       "43196    65-74 years        NaN      All     d  TIAs and related syndromes   \n",
       "43197   75plus years        NaN      All     d  TIAs and related syndromes   \n",
       "43198  under75 years        NaN      All     d  TIAs and related syndromes   \n",
       "43199            All          d      All     d  TIAs and related syndromes   \n",
       "\n",
       "       NumberOfDischarges NumberOfDischargesQF    CrudeRate CrudeRateQF  \\\n",
       "0                    57.0                  NaN    61.547764         NaN   \n",
       "1                    42.0                  NaN    44.180298         NaN   \n",
       "2                   231.0                  NaN   445.773832         NaN   \n",
       "3                   209.0                  NaN   371.238765         NaN   \n",
       "4                   244.0                  NaN  1198.899371         NaN   \n",
       "...                   ...                  ...          ...         ...   \n",
       "43195               262.0                  NaN    17.582418         NaN   \n",
       "43196               300.0                  NaN    50.371236         NaN   \n",
       "43197               726.0                  NaN   151.792976         NaN   \n",
       "43198               572.0                  NaN    11.436302         NaN   \n",
       "43199              1298.0                  NaN    23.686564         NaN   \n",
       "\n",
       "              EASR  \n",
       "0        66.515711  \n",
       "1        43.481241  \n",
       "2       444.876027  \n",
       "3       372.420079  \n",
       "4      1229.931638  \n",
       "...            ...  \n",
       "43195    16.915867  \n",
       "43196    50.648669  \n",
       "43197   153.689663  \n",
       "43198    10.970167  \n",
       "43199    23.814921  \n",
       "\n",
       "[43200 rows x 15 columns]"
      ]
     },
     "execution_count": 34,
     "metadata": {},
     "output_type": "execute_result"
    }
   ],
   "source": [
    "# it is always a good idea to do a quick visual check of data once you read it in to spot an obvious or blantant parsing issues \n",
    "stroke_raw # looks good! "
   ]
  },
  {
   "cell_type": "code",
   "execution_count": 35,
   "id": "58e98dc0",
   "metadata": {},
   "outputs": [
    {
     "data": {
      "text/plain": [
       "pandas.core.frame.DataFrame"
      ]
     },
     "execution_count": 35,
     "metadata": {},
     "output_type": "execute_result"
    }
   ],
   "source": [
    "# using pd.read_csv() will import the data for us as a pandas data frame \n",
    "type(stroke_raw)"
   ]
  },
  {
   "cell_type": "markdown",
   "id": "5dacef0f",
   "metadata": {},
   "source": [
    "### Task 11 \n",
    "\n",
    "Look through the imported data to check it looks as it should based on the data dictionary. Are all the expected variables included? What dimensions does the dataframe have? Do the dtypes of these variables look to be correct? "
   ]
  },
  {
   "cell_type": "markdown",
   "id": "a8930263",
   "metadata": {},
   "source": [
    "<details><summary style='color:lightblue'>HINT: A useful new function! CLICK HERE TO SEE</summary>\n",
    "    \n",
    "There is a useful function called `head()` which will print by default the first 5 rows of a dataframe. The counterpart is `tail()` which print the last 5 rows by default. Both functions take the argument `n = ` if you wish to specify a different number of rows other than 5. There are counterpart functions in R with the same name and functionality!\n",
    "    \n",
    "This will help in solving the task, but you will need to use some other summary/description functions as well."
   ]
  },
  {
   "cell_type": "code",
   "execution_count": null,
   "id": "e5fe1cbc",
   "metadata": {},
   "outputs": [],
   "source": [
    "## your answer \n"
   ]
  },
  {
   "cell_type": "markdown",
   "id": "454aa5c3",
   "metadata": {},
   "source": [
    "#### Task 11 Solution"
   ]
  },
  {
   "cell_type": "code",
   "execution_count": 36,
   "id": "05719a2a",
   "metadata": {},
   "outputs": [
    {
     "name": "stdout",
     "output_type": "stream",
     "text": [
      "<class 'pandas.core.frame.DataFrame'>\n",
      "RangeIndex: 43200 entries, 0 to 43199\n",
      "Data columns (total 15 columns):\n",
      " #   Column                Non-Null Count  Dtype  \n",
      "---  ------                --------------  -----  \n",
      " 0   FinancialYear         43200 non-null  object \n",
      " 1   HBR                   43200 non-null  object \n",
      " 2   HBRQF                 2880 non-null   object \n",
      " 3   AdmissionType         43200 non-null  object \n",
      " 4   AdmissionTypeQF       10800 non-null  object \n",
      " 5   AgeGroup              43200 non-null  object \n",
      " 6   AgeGroupQF            7200 non-null   object \n",
      " 7   Sex                   43200 non-null  object \n",
      " 8   SexQF                 14400 non-null  object \n",
      " 9   Diagnosis             43200 non-null  object \n",
      " 10  NumberOfDischarges    39503 non-null  float64\n",
      " 11  NumberOfDischargesQF  3697 non-null   object \n",
      " 12  CrudeRate             39503 non-null  float64\n",
      " 13  CrudeRateQF           3697 non-null   object \n",
      " 14  EASR                  43200 non-null  float64\n",
      "dtypes: float64(3), object(12)\n",
      "memory usage: 4.9+ MB\n"
     ]
    }
   ],
   "source": [
    "stroke_raw.info()"
   ]
  },
  {
   "cell_type": "code",
   "execution_count": 37,
   "id": "dca9e316",
   "metadata": {
    "scrolled": false
   },
   "outputs": [
    {
     "data": {
      "text/html": [
       "<div>\n",
       "<style scoped>\n",
       "    .dataframe tbody tr th:only-of-type {\n",
       "        vertical-align: middle;\n",
       "    }\n",
       "\n",
       "    .dataframe tbody tr th {\n",
       "        vertical-align: top;\n",
       "    }\n",
       "\n",
       "    .dataframe thead th {\n",
       "        text-align: right;\n",
       "    }\n",
       "</style>\n",
       "<table border=\"1\" class=\"dataframe\">\n",
       "  <thead>\n",
       "    <tr style=\"text-align: right;\">\n",
       "      <th></th>\n",
       "      <th>FinancialYear</th>\n",
       "      <th>HBR</th>\n",
       "      <th>HBRQF</th>\n",
       "      <th>AdmissionType</th>\n",
       "      <th>AdmissionTypeQF</th>\n",
       "      <th>AgeGroup</th>\n",
       "      <th>AgeGroupQF</th>\n",
       "      <th>Sex</th>\n",
       "      <th>SexQF</th>\n",
       "      <th>Diagnosis</th>\n",
       "      <th>NumberOfDischarges</th>\n",
       "      <th>NumberOfDischargesQF</th>\n",
       "      <th>CrudeRate</th>\n",
       "      <th>CrudeRateQF</th>\n",
       "      <th>EASR</th>\n",
       "    </tr>\n",
       "  </thead>\n",
       "  <tbody>\n",
       "    <tr>\n",
       "      <th>count</th>\n",
       "      <td>43200</td>\n",
       "      <td>43200</td>\n",
       "      <td>2880</td>\n",
       "      <td>43200</td>\n",
       "      <td>10800</td>\n",
       "      <td>43200</td>\n",
       "      <td>7200</td>\n",
       "      <td>43200</td>\n",
       "      <td>14400</td>\n",
       "      <td>43200</td>\n",
       "      <td>39503.000000</td>\n",
       "      <td>3697</td>\n",
       "      <td>39503.000000</td>\n",
       "      <td>3697</td>\n",
       "      <td>43200.000000</td>\n",
       "    </tr>\n",
       "    <tr>\n",
       "      <th>unique</th>\n",
       "      <td>10</td>\n",
       "      <td>15</td>\n",
       "      <td>1</td>\n",
       "      <td>4</td>\n",
       "      <td>1</td>\n",
       "      <td>6</td>\n",
       "      <td>1</td>\n",
       "      <td>3</td>\n",
       "      <td>1</td>\n",
       "      <td>4</td>\n",
       "      <td>NaN</td>\n",
       "      <td>1</td>\n",
       "      <td>NaN</td>\n",
       "      <td>1</td>\n",
       "      <td>NaN</td>\n",
       "    </tr>\n",
       "    <tr>\n",
       "      <th>top</th>\n",
       "      <td>2013/14</td>\n",
       "      <td>S08000015</td>\n",
       "      <td>d</td>\n",
       "      <td>All</td>\n",
       "      <td>d</td>\n",
       "      <td>0-44 years</td>\n",
       "      <td>d</td>\n",
       "      <td>Males</td>\n",
       "      <td>d</td>\n",
       "      <td>Cerebrovascular Disease</td>\n",
       "      <td>NaN</td>\n",
       "      <td>c</td>\n",
       "      <td>NaN</td>\n",
       "      <td>c</td>\n",
       "      <td>NaN</td>\n",
       "    </tr>\n",
       "    <tr>\n",
       "      <th>freq</th>\n",
       "      <td>4320</td>\n",
       "      <td>2880</td>\n",
       "      <td>2880</td>\n",
       "      <td>10800</td>\n",
       "      <td>10800</td>\n",
       "      <td>7200</td>\n",
       "      <td>7200</td>\n",
       "      <td>14400</td>\n",
       "      <td>14400</td>\n",
       "      <td>10800</td>\n",
       "      <td>NaN</td>\n",
       "      <td>3697</td>\n",
       "      <td>NaN</td>\n",
       "      <td>3697</td>\n",
       "      <td>NaN</td>\n",
       "    </tr>\n",
       "    <tr>\n",
       "      <th>mean</th>\n",
       "      <td>NaN</td>\n",
       "      <td>NaN</td>\n",
       "      <td>NaN</td>\n",
       "      <td>NaN</td>\n",
       "      <td>NaN</td>\n",
       "      <td>NaN</td>\n",
       "      <td>NaN</td>\n",
       "      <td>NaN</td>\n",
       "      <td>NaN</td>\n",
       "      <td>NaN</td>\n",
       "      <td>314.787434</td>\n",
       "      <td>NaN</td>\n",
       "      <td>220.864123</td>\n",
       "      <td>NaN</td>\n",
       "      <td>231.331289</td>\n",
       "    </tr>\n",
       "    <tr>\n",
       "      <th>std</th>\n",
       "      <td>NaN</td>\n",
       "      <td>NaN</td>\n",
       "      <td>NaN</td>\n",
       "      <td>NaN</td>\n",
       "      <td>NaN</td>\n",
       "      <td>NaN</td>\n",
       "      <td>NaN</td>\n",
       "      <td>NaN</td>\n",
       "      <td>NaN</td>\n",
       "      <td>NaN</td>\n",
       "      <td>1284.948500</td>\n",
       "      <td>NaN</td>\n",
       "      <td>538.363106</td>\n",
       "      <td>NaN</td>\n",
       "      <td>545.092634</td>\n",
       "    </tr>\n",
       "    <tr>\n",
       "      <th>min</th>\n",
       "      <td>NaN</td>\n",
       "      <td>NaN</td>\n",
       "      <td>NaN</td>\n",
       "      <td>NaN</td>\n",
       "      <td>NaN</td>\n",
       "      <td>NaN</td>\n",
       "      <td>NaN</td>\n",
       "      <td>NaN</td>\n",
       "      <td>NaN</td>\n",
       "      <td>NaN</td>\n",
       "      <td>0.000000</td>\n",
       "      <td>NaN</td>\n",
       "      <td>0.000000</td>\n",
       "      <td>NaN</td>\n",
       "      <td>0.000000</td>\n",
       "    </tr>\n",
       "    <tr>\n",
       "      <th>25%</th>\n",
       "      <td>NaN</td>\n",
       "      <td>NaN</td>\n",
       "      <td>NaN</td>\n",
       "      <td>NaN</td>\n",
       "      <td>NaN</td>\n",
       "      <td>NaN</td>\n",
       "      <td>NaN</td>\n",
       "      <td>NaN</td>\n",
       "      <td>NaN</td>\n",
       "      <td>NaN</td>\n",
       "      <td>2.000000</td>\n",
       "      <td>NaN</td>\n",
       "      <td>1.664115</td>\n",
       "      <td>NaN</td>\n",
       "      <td>2.602546</td>\n",
       "    </tr>\n",
       "    <tr>\n",
       "      <th>50%</th>\n",
       "      <td>NaN</td>\n",
       "      <td>NaN</td>\n",
       "      <td>NaN</td>\n",
       "      <td>NaN</td>\n",
       "      <td>NaN</td>\n",
       "      <td>NaN</td>\n",
       "      <td>NaN</td>\n",
       "      <td>NaN</td>\n",
       "      <td>NaN</td>\n",
       "      <td>NaN</td>\n",
       "      <td>25.000000</td>\n",
       "      <td>NaN</td>\n",
       "      <td>24.363294</td>\n",
       "      <td>NaN</td>\n",
       "      <td>28.850160</td>\n",
       "    </tr>\n",
       "    <tr>\n",
       "      <th>75%</th>\n",
       "      <td>NaN</td>\n",
       "      <td>NaN</td>\n",
       "      <td>NaN</td>\n",
       "      <td>NaN</td>\n",
       "      <td>NaN</td>\n",
       "      <td>NaN</td>\n",
       "      <td>NaN</td>\n",
       "      <td>NaN</td>\n",
       "      <td>NaN</td>\n",
       "      <td>NaN</td>\n",
       "      <td>167.000000</td>\n",
       "      <td>NaN</td>\n",
       "      <td>175.604957</td>\n",
       "      <td>NaN</td>\n",
       "      <td>187.272256</td>\n",
       "    </tr>\n",
       "    <tr>\n",
       "      <th>max</th>\n",
       "      <td>NaN</td>\n",
       "      <td>NaN</td>\n",
       "      <td>NaN</td>\n",
       "      <td>NaN</td>\n",
       "      <td>NaN</td>\n",
       "      <td>NaN</td>\n",
       "      <td>NaN</td>\n",
       "      <td>NaN</td>\n",
       "      <td>NaN</td>\n",
       "      <td>NaN</td>\n",
       "      <td>35410.000000</td>\n",
       "      <td>NaN</td>\n",
       "      <td>5856.146694</td>\n",
       "      <td>NaN</td>\n",
       "      <td>5895.829863</td>\n",
       "    </tr>\n",
       "  </tbody>\n",
       "</table>\n",
       "</div>"
      ],
      "text/plain": [
       "       FinancialYear        HBR HBRQF AdmissionType AdmissionTypeQF  \\\n",
       "count          43200      43200  2880         43200           10800   \n",
       "unique            10         15     1             4               1   \n",
       "top          2013/14  S08000015     d           All               d   \n",
       "freq            4320       2880  2880         10800           10800   \n",
       "mean             NaN        NaN   NaN           NaN             NaN   \n",
       "std              NaN        NaN   NaN           NaN             NaN   \n",
       "min              NaN        NaN   NaN           NaN             NaN   \n",
       "25%              NaN        NaN   NaN           NaN             NaN   \n",
       "50%              NaN        NaN   NaN           NaN             NaN   \n",
       "75%              NaN        NaN   NaN           NaN             NaN   \n",
       "max              NaN        NaN   NaN           NaN             NaN   \n",
       "\n",
       "          AgeGroup AgeGroupQF    Sex  SexQF                Diagnosis  \\\n",
       "count        43200       7200  43200  14400                    43200   \n",
       "unique           6          1      3      1                        4   \n",
       "top     0-44 years          d  Males      d  Cerebrovascular Disease   \n",
       "freq          7200       7200  14400  14400                    10800   \n",
       "mean           NaN        NaN    NaN    NaN                      NaN   \n",
       "std            NaN        NaN    NaN    NaN                      NaN   \n",
       "min            NaN        NaN    NaN    NaN                      NaN   \n",
       "25%            NaN        NaN    NaN    NaN                      NaN   \n",
       "50%            NaN        NaN    NaN    NaN                      NaN   \n",
       "75%            NaN        NaN    NaN    NaN                      NaN   \n",
       "max            NaN        NaN    NaN    NaN                      NaN   \n",
       "\n",
       "        NumberOfDischarges NumberOfDischargesQF     CrudeRate CrudeRateQF  \\\n",
       "count         39503.000000                 3697  39503.000000        3697   \n",
       "unique                 NaN                    1           NaN           1   \n",
       "top                    NaN                    c           NaN           c   \n",
       "freq                   NaN                 3697           NaN        3697   \n",
       "mean            314.787434                  NaN    220.864123         NaN   \n",
       "std            1284.948500                  NaN    538.363106         NaN   \n",
       "min               0.000000                  NaN      0.000000         NaN   \n",
       "25%               2.000000                  NaN      1.664115         NaN   \n",
       "50%              25.000000                  NaN     24.363294         NaN   \n",
       "75%             167.000000                  NaN    175.604957         NaN   \n",
       "max           35410.000000                  NaN   5856.146694         NaN   \n",
       "\n",
       "                EASR  \n",
       "count   43200.000000  \n",
       "unique           NaN  \n",
       "top              NaN  \n",
       "freq             NaN  \n",
       "mean      231.331289  \n",
       "std       545.092634  \n",
       "min         0.000000  \n",
       "25%         2.602546  \n",
       "50%        28.850160  \n",
       "75%       187.272256  \n",
       "max      5895.829863  "
      ]
     },
     "execution_count": 37,
     "metadata": {},
     "output_type": "execute_result"
    }
   ],
   "source": [
    "stroke_raw.describe(include = 'all')"
   ]
  },
  {
   "cell_type": "code",
   "execution_count": 38,
   "id": "b111da43",
   "metadata": {},
   "outputs": [
    {
     "data": {
      "text/plain": [
       "(43200, 15)"
      ]
     },
     "execution_count": 38,
     "metadata": {},
     "output_type": "execute_result"
    }
   ],
   "source": [
    "stroke_raw.shape"
   ]
  },
  {
   "cell_type": "code",
   "execution_count": 39,
   "id": "d687f410",
   "metadata": {
    "scrolled": true
   },
   "outputs": [
    {
     "data": {
      "text/plain": [
       "2"
      ]
     },
     "execution_count": 39,
     "metadata": {},
     "output_type": "execute_result"
    }
   ],
   "source": [
    "stroke_raw.ndim # 2 dimensions as expected - we are working with a dataframe after all!"
   ]
  },
  {
   "cell_type": "code",
   "execution_count": 40,
   "id": "8e114667",
   "metadata": {
    "scrolled": true
   },
   "outputs": [
    {
     "data": {
      "text/html": [
       "<div>\n",
       "<style scoped>\n",
       "    .dataframe tbody tr th:only-of-type {\n",
       "        vertical-align: middle;\n",
       "    }\n",
       "\n",
       "    .dataframe tbody tr th {\n",
       "        vertical-align: top;\n",
       "    }\n",
       "\n",
       "    .dataframe thead th {\n",
       "        text-align: right;\n",
       "    }\n",
       "</style>\n",
       "<table border=\"1\" class=\"dataframe\">\n",
       "  <thead>\n",
       "    <tr style=\"text-align: right;\">\n",
       "      <th></th>\n",
       "      <th>FinancialYear</th>\n",
       "      <th>HBR</th>\n",
       "      <th>HBRQF</th>\n",
       "      <th>AdmissionType</th>\n",
       "      <th>AdmissionTypeQF</th>\n",
       "      <th>AgeGroup</th>\n",
       "      <th>AgeGroupQF</th>\n",
       "      <th>Sex</th>\n",
       "      <th>SexQF</th>\n",
       "      <th>Diagnosis</th>\n",
       "      <th>NumberOfDischarges</th>\n",
       "      <th>NumberOfDischargesQF</th>\n",
       "      <th>CrudeRate</th>\n",
       "      <th>CrudeRateQF</th>\n",
       "      <th>EASR</th>\n",
       "    </tr>\n",
       "  </thead>\n",
       "  <tbody>\n",
       "    <tr>\n",
       "      <th>0</th>\n",
       "      <td>2013/14</td>\n",
       "      <td>S08000015</td>\n",
       "      <td>NaN</td>\n",
       "      <td>All</td>\n",
       "      <td>d</td>\n",
       "      <td>0-44 years</td>\n",
       "      <td>NaN</td>\n",
       "      <td>Males</td>\n",
       "      <td>NaN</td>\n",
       "      <td>Cerebrovascular Disease</td>\n",
       "      <td>57.0</td>\n",
       "      <td>NaN</td>\n",
       "      <td>61.547764</td>\n",
       "      <td>NaN</td>\n",
       "      <td>66.515711</td>\n",
       "    </tr>\n",
       "    <tr>\n",
       "      <th>1</th>\n",
       "      <td>2013/14</td>\n",
       "      <td>S08000015</td>\n",
       "      <td>NaN</td>\n",
       "      <td>All</td>\n",
       "      <td>d</td>\n",
       "      <td>0-44 years</td>\n",
       "      <td>NaN</td>\n",
       "      <td>Females</td>\n",
       "      <td>NaN</td>\n",
       "      <td>Cerebrovascular Disease</td>\n",
       "      <td>42.0</td>\n",
       "      <td>NaN</td>\n",
       "      <td>44.180298</td>\n",
       "      <td>NaN</td>\n",
       "      <td>43.481241</td>\n",
       "    </tr>\n",
       "    <tr>\n",
       "      <th>2</th>\n",
       "      <td>2013/14</td>\n",
       "      <td>S08000015</td>\n",
       "      <td>NaN</td>\n",
       "      <td>All</td>\n",
       "      <td>d</td>\n",
       "      <td>45-64 years</td>\n",
       "      <td>NaN</td>\n",
       "      <td>Males</td>\n",
       "      <td>NaN</td>\n",
       "      <td>Cerebrovascular Disease</td>\n",
       "      <td>231.0</td>\n",
       "      <td>NaN</td>\n",
       "      <td>445.773832</td>\n",
       "      <td>NaN</td>\n",
       "      <td>444.876027</td>\n",
       "    </tr>\n",
       "    <tr>\n",
       "      <th>3</th>\n",
       "      <td>2013/14</td>\n",
       "      <td>S08000015</td>\n",
       "      <td>NaN</td>\n",
       "      <td>All</td>\n",
       "      <td>d</td>\n",
       "      <td>45-64 years</td>\n",
       "      <td>NaN</td>\n",
       "      <td>Females</td>\n",
       "      <td>NaN</td>\n",
       "      <td>Cerebrovascular Disease</td>\n",
       "      <td>209.0</td>\n",
       "      <td>NaN</td>\n",
       "      <td>371.238765</td>\n",
       "      <td>NaN</td>\n",
       "      <td>372.420079</td>\n",
       "    </tr>\n",
       "    <tr>\n",
       "      <th>4</th>\n",
       "      <td>2013/14</td>\n",
       "      <td>S08000015</td>\n",
       "      <td>NaN</td>\n",
       "      <td>All</td>\n",
       "      <td>d</td>\n",
       "      <td>65-74 years</td>\n",
       "      <td>NaN</td>\n",
       "      <td>Males</td>\n",
       "      <td>NaN</td>\n",
       "      <td>Cerebrovascular Disease</td>\n",
       "      <td>244.0</td>\n",
       "      <td>NaN</td>\n",
       "      <td>1198.899371</td>\n",
       "      <td>NaN</td>\n",
       "      <td>1229.931638</td>\n",
       "    </tr>\n",
       "  </tbody>\n",
       "</table>\n",
       "</div>"
      ],
      "text/plain": [
       "  FinancialYear        HBR HBRQF AdmissionType AdmissionTypeQF     AgeGroup  \\\n",
       "0       2013/14  S08000015   NaN           All               d   0-44 years   \n",
       "1       2013/14  S08000015   NaN           All               d   0-44 years   \n",
       "2       2013/14  S08000015   NaN           All               d  45-64 years   \n",
       "3       2013/14  S08000015   NaN           All               d  45-64 years   \n",
       "4       2013/14  S08000015   NaN           All               d  65-74 years   \n",
       "\n",
       "  AgeGroupQF      Sex SexQF                Diagnosis  NumberOfDischarges  \\\n",
       "0        NaN    Males   NaN  Cerebrovascular Disease                57.0   \n",
       "1        NaN  Females   NaN  Cerebrovascular Disease                42.0   \n",
       "2        NaN    Males   NaN  Cerebrovascular Disease               231.0   \n",
       "3        NaN  Females   NaN  Cerebrovascular Disease               209.0   \n",
       "4        NaN    Males   NaN  Cerebrovascular Disease               244.0   \n",
       "\n",
       "  NumberOfDischargesQF    CrudeRate CrudeRateQF         EASR  \n",
       "0                  NaN    61.547764         NaN    66.515711  \n",
       "1                  NaN    44.180298         NaN    43.481241  \n",
       "2                  NaN   445.773832         NaN   444.876027  \n",
       "3                  NaN   371.238765         NaN   372.420079  \n",
       "4                  NaN  1198.899371         NaN  1229.931638  "
      ]
     },
     "execution_count": 40,
     "metadata": {},
     "output_type": "execute_result"
    }
   ],
   "source": [
    "stroke_raw.head()"
   ]
  },
  {
   "cell_type": "code",
   "execution_count": 41,
   "id": "9f1d780a",
   "metadata": {},
   "outputs": [
    {
     "data": {
      "text/html": [
       "<div>\n",
       "<style scoped>\n",
       "    .dataframe tbody tr th:only-of-type {\n",
       "        vertical-align: middle;\n",
       "    }\n",
       "\n",
       "    .dataframe tbody tr th {\n",
       "        vertical-align: top;\n",
       "    }\n",
       "\n",
       "    .dataframe thead th {\n",
       "        text-align: right;\n",
       "    }\n",
       "</style>\n",
       "<table border=\"1\" class=\"dataframe\">\n",
       "  <thead>\n",
       "    <tr style=\"text-align: right;\">\n",
       "      <th></th>\n",
       "      <th>FinancialYear</th>\n",
       "      <th>HBR</th>\n",
       "      <th>HBRQF</th>\n",
       "      <th>AdmissionType</th>\n",
       "      <th>AdmissionTypeQF</th>\n",
       "      <th>AgeGroup</th>\n",
       "      <th>AgeGroupQF</th>\n",
       "      <th>Sex</th>\n",
       "      <th>SexQF</th>\n",
       "      <th>Diagnosis</th>\n",
       "      <th>NumberOfDischarges</th>\n",
       "      <th>NumberOfDischargesQF</th>\n",
       "      <th>CrudeRate</th>\n",
       "      <th>CrudeRateQF</th>\n",
       "      <th>EASR</th>\n",
       "    </tr>\n",
       "  </thead>\n",
       "  <tbody>\n",
       "    <tr>\n",
       "      <th>43194</th>\n",
       "      <td>2022/23</td>\n",
       "      <td>S92000003</td>\n",
       "      <td>d</td>\n",
       "      <td>Transfer</td>\n",
       "      <td>NaN</td>\n",
       "      <td>0-44 years</td>\n",
       "      <td>NaN</td>\n",
       "      <td>All</td>\n",
       "      <td>d</td>\n",
       "      <td>TIAs and related syndromes</td>\n",
       "      <td>10.0</td>\n",
       "      <td>NaN</td>\n",
       "      <td>0.342946</td>\n",
       "      <td>NaN</td>\n",
       "      <td>0.337105</td>\n",
       "    </tr>\n",
       "    <tr>\n",
       "      <th>43195</th>\n",
       "      <td>2022/23</td>\n",
       "      <td>S92000003</td>\n",
       "      <td>d</td>\n",
       "      <td>Transfer</td>\n",
       "      <td>NaN</td>\n",
       "      <td>45-64 years</td>\n",
       "      <td>NaN</td>\n",
       "      <td>All</td>\n",
       "      <td>d</td>\n",
       "      <td>TIAs and related syndromes</td>\n",
       "      <td>262.0</td>\n",
       "      <td>NaN</td>\n",
       "      <td>17.582418</td>\n",
       "      <td>NaN</td>\n",
       "      <td>16.915867</td>\n",
       "    </tr>\n",
       "    <tr>\n",
       "      <th>43196</th>\n",
       "      <td>2022/23</td>\n",
       "      <td>S92000003</td>\n",
       "      <td>d</td>\n",
       "      <td>Transfer</td>\n",
       "      <td>NaN</td>\n",
       "      <td>65-74 years</td>\n",
       "      <td>NaN</td>\n",
       "      <td>All</td>\n",
       "      <td>d</td>\n",
       "      <td>TIAs and related syndromes</td>\n",
       "      <td>300.0</td>\n",
       "      <td>NaN</td>\n",
       "      <td>50.371236</td>\n",
       "      <td>NaN</td>\n",
       "      <td>50.648669</td>\n",
       "    </tr>\n",
       "    <tr>\n",
       "      <th>43197</th>\n",
       "      <td>2022/23</td>\n",
       "      <td>S92000003</td>\n",
       "      <td>d</td>\n",
       "      <td>Transfer</td>\n",
       "      <td>NaN</td>\n",
       "      <td>75plus years</td>\n",
       "      <td>NaN</td>\n",
       "      <td>All</td>\n",
       "      <td>d</td>\n",
       "      <td>TIAs and related syndromes</td>\n",
       "      <td>726.0</td>\n",
       "      <td>NaN</td>\n",
       "      <td>151.792976</td>\n",
       "      <td>NaN</td>\n",
       "      <td>153.689663</td>\n",
       "    </tr>\n",
       "    <tr>\n",
       "      <th>43198</th>\n",
       "      <td>2022/23</td>\n",
       "      <td>S92000003</td>\n",
       "      <td>d</td>\n",
       "      <td>Transfer</td>\n",
       "      <td>NaN</td>\n",
       "      <td>under75 years</td>\n",
       "      <td>NaN</td>\n",
       "      <td>All</td>\n",
       "      <td>d</td>\n",
       "      <td>TIAs and related syndromes</td>\n",
       "      <td>572.0</td>\n",
       "      <td>NaN</td>\n",
       "      <td>11.436302</td>\n",
       "      <td>NaN</td>\n",
       "      <td>10.970167</td>\n",
       "    </tr>\n",
       "    <tr>\n",
       "      <th>43199</th>\n",
       "      <td>2022/23</td>\n",
       "      <td>S92000003</td>\n",
       "      <td>d</td>\n",
       "      <td>Transfer</td>\n",
       "      <td>NaN</td>\n",
       "      <td>All</td>\n",
       "      <td>d</td>\n",
       "      <td>All</td>\n",
       "      <td>d</td>\n",
       "      <td>TIAs and related syndromes</td>\n",
       "      <td>1298.0</td>\n",
       "      <td>NaN</td>\n",
       "      <td>23.686564</td>\n",
       "      <td>NaN</td>\n",
       "      <td>23.814921</td>\n",
       "    </tr>\n",
       "  </tbody>\n",
       "</table>\n",
       "</div>"
      ],
      "text/plain": [
       "      FinancialYear        HBR HBRQF AdmissionType AdmissionTypeQF  \\\n",
       "43194       2022/23  S92000003     d      Transfer             NaN   \n",
       "43195       2022/23  S92000003     d      Transfer             NaN   \n",
       "43196       2022/23  S92000003     d      Transfer             NaN   \n",
       "43197       2022/23  S92000003     d      Transfer             NaN   \n",
       "43198       2022/23  S92000003     d      Transfer             NaN   \n",
       "43199       2022/23  S92000003     d      Transfer             NaN   \n",
       "\n",
       "            AgeGroup AgeGroupQF  Sex SexQF                   Diagnosis  \\\n",
       "43194     0-44 years        NaN  All     d  TIAs and related syndromes   \n",
       "43195    45-64 years        NaN  All     d  TIAs and related syndromes   \n",
       "43196    65-74 years        NaN  All     d  TIAs and related syndromes   \n",
       "43197   75plus years        NaN  All     d  TIAs and related syndromes   \n",
       "43198  under75 years        NaN  All     d  TIAs and related syndromes   \n",
       "43199            All          d  All     d  TIAs and related syndromes   \n",
       "\n",
       "       NumberOfDischarges NumberOfDischargesQF   CrudeRate CrudeRateQF  \\\n",
       "43194                10.0                  NaN    0.342946         NaN   \n",
       "43195               262.0                  NaN   17.582418         NaN   \n",
       "43196               300.0                  NaN   50.371236         NaN   \n",
       "43197               726.0                  NaN  151.792976         NaN   \n",
       "43198               572.0                  NaN   11.436302         NaN   \n",
       "43199              1298.0                  NaN   23.686564         NaN   \n",
       "\n",
       "             EASR  \n",
       "43194    0.337105  \n",
       "43195   16.915867  \n",
       "43196   50.648669  \n",
       "43197  153.689663  \n",
       "43198   10.970167  \n",
       "43199   23.814921  "
      ]
     },
     "execution_count": 41,
     "metadata": {},
     "output_type": "execute_result"
    }
   ],
   "source": [
    "stroke_raw.tail(n = 6)"
   ]
  },
  {
   "cell_type": "markdown",
   "id": "bb0d4934",
   "metadata": {},
   "source": [
    "There are 15 variables in our dataset, as expected, and 43200 observations. Of these variables, there are 12 which are characters and may be better suited as categorical."
   ]
  },
  {
   "cell_type": "markdown",
   "id": "51694e6c",
   "metadata": {},
   "source": [
    "### Task 12 \n",
    "\n",
    "We do not need all of the columns in the dataset. The only variables we need for the next tasks are `FinancialYear`, `AdmissionType`, `AgeGroup`, `Diagnosis`, and `NumberOfDischarges`. Within the `HBR` variable, \"S92000003\" is the country code for Scotland. The `Sex` variable we do not need for this task, but it too includes an aggregate level \"All\". Filter the data such that only these aggregate level are included for these 2 variables. Filter the data accordingly and save this processed dataset into an object called `stroke`."
   ]
  },
  {
   "cell_type": "markdown",
   "id": "02c30d21",
   "metadata": {},
   "source": [
    "<details><summary style='color:lightblue'>HINT 1: Think about your data structures! CLICK HERE TO SEE</summary>\n",
    "Remember to think about your input data structures - for example, perhaps you will want to use a list to list the columns we want to keep"
   ]
  },
  {
   "cell_type": "markdown",
   "id": "bddc78db",
   "metadata": {},
   "source": [
    "<details><summary style='color:lightblue'>HINT 2: Indexing operators CLICK HERE TO SEE</summary>\n",
    "\n",
    "We learned about `loc` and `iloc` this week to indexing location based on name or numeric index, respectively"
   ]
  },
  {
   "cell_type": "markdown",
   "id": "0cadf4bb",
   "metadata": {},
   "source": [
    "<details><summary style='color:lightblue'>HINT 3: Resulting data frame dimensions. CLICK HERE TO SEE</summary>\n",
    "\n",
    "the object `stroke` should contain 960 rows and 5 columns \n"
   ]
  },
  {
   "cell_type": "markdown",
   "id": "9846b712",
   "metadata": {},
   "source": [
    "#### Task 12 solution "
   ]
  },
  {
   "cell_type": "code",
   "execution_count": 42,
   "id": "13ee0bd9",
   "metadata": {},
   "outputs": [
    {
     "data": {
      "text/html": [
       "<div>\n",
       "<style scoped>\n",
       "    .dataframe tbody tr th:only-of-type {\n",
       "        vertical-align: middle;\n",
       "    }\n",
       "\n",
       "    .dataframe tbody tr th {\n",
       "        vertical-align: top;\n",
       "    }\n",
       "\n",
       "    .dataframe thead th {\n",
       "        text-align: right;\n",
       "    }\n",
       "</style>\n",
       "<table border=\"1\" class=\"dataframe\">\n",
       "  <thead>\n",
       "    <tr style=\"text-align: right;\">\n",
       "      <th></th>\n",
       "      <th>FinancialYear</th>\n",
       "      <th>AdmissionType</th>\n",
       "      <th>AgeGroup</th>\n",
       "      <th>Diagnosis</th>\n",
       "      <th>NumberOfDischarges</th>\n",
       "    </tr>\n",
       "  </thead>\n",
       "  <tbody>\n",
       "    <tr>\n",
       "      <th>7284</th>\n",
       "      <td>2013/14</td>\n",
       "      <td>All</td>\n",
       "      <td>0-44 years</td>\n",
       "      <td>Cerebrovascular Disease</td>\n",
       "      <td>1239.0</td>\n",
       "    </tr>\n",
       "    <tr>\n",
       "      <th>7285</th>\n",
       "      <td>2013/14</td>\n",
       "      <td>All</td>\n",
       "      <td>45-64 years</td>\n",
       "      <td>Cerebrovascular Disease</td>\n",
       "      <td>6822.0</td>\n",
       "    </tr>\n",
       "    <tr>\n",
       "      <th>7286</th>\n",
       "      <td>2013/14</td>\n",
       "      <td>All</td>\n",
       "      <td>65-74 years</td>\n",
       "      <td>Cerebrovascular Disease</td>\n",
       "      <td>6608.0</td>\n",
       "    </tr>\n",
       "    <tr>\n",
       "      <th>7287</th>\n",
       "      <td>2013/14</td>\n",
       "      <td>All</td>\n",
       "      <td>75plus years</td>\n",
       "      <td>Cerebrovascular Disease</td>\n",
       "      <td>14331.0</td>\n",
       "    </tr>\n",
       "    <tr>\n",
       "      <th>7288</th>\n",
       "      <td>2013/14</td>\n",
       "      <td>All</td>\n",
       "      <td>under75 years</td>\n",
       "      <td>Cerebrovascular Disease</td>\n",
       "      <td>14669.0</td>\n",
       "    </tr>\n",
       "    <tr>\n",
       "      <th>...</th>\n",
       "      <td>...</td>\n",
       "      <td>...</td>\n",
       "      <td>...</td>\n",
       "      <td>...</td>\n",
       "      <td>...</td>\n",
       "    </tr>\n",
       "    <tr>\n",
       "      <th>43195</th>\n",
       "      <td>2022/23</td>\n",
       "      <td>Transfer</td>\n",
       "      <td>45-64 years</td>\n",
       "      <td>TIAs and related syndromes</td>\n",
       "      <td>262.0</td>\n",
       "    </tr>\n",
       "    <tr>\n",
       "      <th>43196</th>\n",
       "      <td>2022/23</td>\n",
       "      <td>Transfer</td>\n",
       "      <td>65-74 years</td>\n",
       "      <td>TIAs and related syndromes</td>\n",
       "      <td>300.0</td>\n",
       "    </tr>\n",
       "    <tr>\n",
       "      <th>43197</th>\n",
       "      <td>2022/23</td>\n",
       "      <td>Transfer</td>\n",
       "      <td>75plus years</td>\n",
       "      <td>TIAs and related syndromes</td>\n",
       "      <td>726.0</td>\n",
       "    </tr>\n",
       "    <tr>\n",
       "      <th>43198</th>\n",
       "      <td>2022/23</td>\n",
       "      <td>Transfer</td>\n",
       "      <td>under75 years</td>\n",
       "      <td>TIAs and related syndromes</td>\n",
       "      <td>572.0</td>\n",
       "    </tr>\n",
       "    <tr>\n",
       "      <th>43199</th>\n",
       "      <td>2022/23</td>\n",
       "      <td>Transfer</td>\n",
       "      <td>All</td>\n",
       "      <td>TIAs and related syndromes</td>\n",
       "      <td>1298.0</td>\n",
       "    </tr>\n",
       "  </tbody>\n",
       "</table>\n",
       "<p>960 rows × 5 columns</p>\n",
       "</div>"
      ],
      "text/plain": [
       "      FinancialYear AdmissionType       AgeGroup                   Diagnosis  \\\n",
       "7284        2013/14           All     0-44 years     Cerebrovascular Disease   \n",
       "7285        2013/14           All    45-64 years     Cerebrovascular Disease   \n",
       "7286        2013/14           All    65-74 years     Cerebrovascular Disease   \n",
       "7287        2013/14           All   75plus years     Cerebrovascular Disease   \n",
       "7288        2013/14           All  under75 years     Cerebrovascular Disease   \n",
       "...             ...           ...            ...                         ...   \n",
       "43195       2022/23      Transfer    45-64 years  TIAs and related syndromes   \n",
       "43196       2022/23      Transfer    65-74 years  TIAs and related syndromes   \n",
       "43197       2022/23      Transfer   75plus years  TIAs and related syndromes   \n",
       "43198       2022/23      Transfer  under75 years  TIAs and related syndromes   \n",
       "43199       2022/23      Transfer            All  TIAs and related syndromes   \n",
       "\n",
       "       NumberOfDischarges  \n",
       "7284               1239.0  \n",
       "7285               6822.0  \n",
       "7286               6608.0  \n",
       "7287              14331.0  \n",
       "7288              14669.0  \n",
       "...                   ...  \n",
       "43195               262.0  \n",
       "43196               300.0  \n",
       "43197               726.0  \n",
       "43198               572.0  \n",
       "43199              1298.0  \n",
       "\n",
       "[960 rows x 5 columns]"
      ]
     },
     "execution_count": 42,
     "metadata": {},
     "output_type": "execute_result"
    }
   ],
   "source": [
    "stroke = stroke_raw.loc[(stroke_raw[\"HBR\"] == \"S92000003\") & \n",
    "                       (stroke_raw[\"Sex\"] == \"All\")].loc[:,[\"FinancialYear\", \"AdmissionType\", \n",
    "                                                            \"AgeGroup\", \"Diagnosis\",\n",
    "                                                            \"NumberOfDischarges\"]]\n",
    "\n",
    "stroke"
   ]
  },
  {
   "cell_type": "code",
   "execution_count": 43,
   "id": "401fb018",
   "metadata": {},
   "outputs": [
    {
     "data": {
      "text/html": [
       "<div>\n",
       "<style scoped>\n",
       "    .dataframe tbody tr th:only-of-type {\n",
       "        vertical-align: middle;\n",
       "    }\n",
       "\n",
       "    .dataframe tbody tr th {\n",
       "        vertical-align: top;\n",
       "    }\n",
       "\n",
       "    .dataframe thead th {\n",
       "        text-align: right;\n",
       "    }\n",
       "</style>\n",
       "<table border=\"1\" class=\"dataframe\">\n",
       "  <thead>\n",
       "    <tr style=\"text-align: right;\">\n",
       "      <th></th>\n",
       "      <th>FinancialYear</th>\n",
       "      <th>AdmissionType</th>\n",
       "      <th>AgeGroup</th>\n",
       "      <th>Diagnosis</th>\n",
       "      <th>NumberOfDischarges</th>\n",
       "    </tr>\n",
       "  </thead>\n",
       "  <tbody>\n",
       "    <tr>\n",
       "      <th>7284</th>\n",
       "      <td>2013/14</td>\n",
       "      <td>All</td>\n",
       "      <td>0-44 years</td>\n",
       "      <td>Cerebrovascular Disease</td>\n",
       "      <td>1239.0</td>\n",
       "    </tr>\n",
       "    <tr>\n",
       "      <th>7285</th>\n",
       "      <td>2013/14</td>\n",
       "      <td>All</td>\n",
       "      <td>45-64 years</td>\n",
       "      <td>Cerebrovascular Disease</td>\n",
       "      <td>6822.0</td>\n",
       "    </tr>\n",
       "    <tr>\n",
       "      <th>7286</th>\n",
       "      <td>2013/14</td>\n",
       "      <td>All</td>\n",
       "      <td>65-74 years</td>\n",
       "      <td>Cerebrovascular Disease</td>\n",
       "      <td>6608.0</td>\n",
       "    </tr>\n",
       "    <tr>\n",
       "      <th>7287</th>\n",
       "      <td>2013/14</td>\n",
       "      <td>All</td>\n",
       "      <td>75plus years</td>\n",
       "      <td>Cerebrovascular Disease</td>\n",
       "      <td>14331.0</td>\n",
       "    </tr>\n",
       "    <tr>\n",
       "      <th>7288</th>\n",
       "      <td>2013/14</td>\n",
       "      <td>All</td>\n",
       "      <td>under75 years</td>\n",
       "      <td>Cerebrovascular Disease</td>\n",
       "      <td>14669.0</td>\n",
       "    </tr>\n",
       "    <tr>\n",
       "      <th>...</th>\n",
       "      <td>...</td>\n",
       "      <td>...</td>\n",
       "      <td>...</td>\n",
       "      <td>...</td>\n",
       "      <td>...</td>\n",
       "    </tr>\n",
       "    <tr>\n",
       "      <th>43195</th>\n",
       "      <td>2022/23</td>\n",
       "      <td>Transfer</td>\n",
       "      <td>45-64 years</td>\n",
       "      <td>TIAs and related syndromes</td>\n",
       "      <td>262.0</td>\n",
       "    </tr>\n",
       "    <tr>\n",
       "      <th>43196</th>\n",
       "      <td>2022/23</td>\n",
       "      <td>Transfer</td>\n",
       "      <td>65-74 years</td>\n",
       "      <td>TIAs and related syndromes</td>\n",
       "      <td>300.0</td>\n",
       "    </tr>\n",
       "    <tr>\n",
       "      <th>43197</th>\n",
       "      <td>2022/23</td>\n",
       "      <td>Transfer</td>\n",
       "      <td>75plus years</td>\n",
       "      <td>TIAs and related syndromes</td>\n",
       "      <td>726.0</td>\n",
       "    </tr>\n",
       "    <tr>\n",
       "      <th>43198</th>\n",
       "      <td>2022/23</td>\n",
       "      <td>Transfer</td>\n",
       "      <td>under75 years</td>\n",
       "      <td>TIAs and related syndromes</td>\n",
       "      <td>572.0</td>\n",
       "    </tr>\n",
       "    <tr>\n",
       "      <th>43199</th>\n",
       "      <td>2022/23</td>\n",
       "      <td>Transfer</td>\n",
       "      <td>All</td>\n",
       "      <td>TIAs and related syndromes</td>\n",
       "      <td>1298.0</td>\n",
       "    </tr>\n",
       "  </tbody>\n",
       "</table>\n",
       "<p>960 rows × 5 columns</p>\n",
       "</div>"
      ],
      "text/plain": [
       "      FinancialYear AdmissionType       AgeGroup                   Diagnosis  \\\n",
       "7284        2013/14           All     0-44 years     Cerebrovascular Disease   \n",
       "7285        2013/14           All    45-64 years     Cerebrovascular Disease   \n",
       "7286        2013/14           All    65-74 years     Cerebrovascular Disease   \n",
       "7287        2013/14           All   75plus years     Cerebrovascular Disease   \n",
       "7288        2013/14           All  under75 years     Cerebrovascular Disease   \n",
       "...             ...           ...            ...                         ...   \n",
       "43195       2022/23      Transfer    45-64 years  TIAs and related syndromes   \n",
       "43196       2022/23      Transfer    65-74 years  TIAs and related syndromes   \n",
       "43197       2022/23      Transfer   75plus years  TIAs and related syndromes   \n",
       "43198       2022/23      Transfer  under75 years  TIAs and related syndromes   \n",
       "43199       2022/23      Transfer            All  TIAs and related syndromes   \n",
       "\n",
       "       NumberOfDischarges  \n",
       "7284               1239.0  \n",
       "7285               6822.0  \n",
       "7286               6608.0  \n",
       "7287              14331.0  \n",
       "7288              14669.0  \n",
       "...                   ...  \n",
       "43195               262.0  \n",
       "43196               300.0  \n",
       "43197               726.0  \n",
       "43198               572.0  \n",
       "43199              1298.0  \n",
       "\n",
       "[960 rows x 5 columns]"
      ]
     },
     "execution_count": 43,
     "metadata": {},
     "output_type": "execute_result"
    }
   ],
   "source": [
    "## you could also use isin instead of == to filter HBR and Sex\n",
    "stroke_raw.loc[(stroke_raw[\"HBR\"].isin([\"S92000003\"])) & \n",
    "              stroke_raw[\"Sex\"].isin([\"All\"])].loc[:,[\"FinancialYear\", \"AdmissionType\",\n",
    "                                                      \"AgeGroup\", \"Diagnosis\",\n",
    "                                                      \"NumberOfDischarges\"]]"
   ]
  },
  {
   "cell_type": "markdown",
   "id": "b603dee1",
   "metadata": {},
   "source": [
    "Notice our index still shows 43199 indexed as the last value, though we only have 960 rows in the `stroke` data frame. It is good practice to reset the index after processing your data frame to avoid funky and unexpected things! We can do this with `df.reset_index()`. If we specify the argument `drop = True` the index column will be dropped, but default the original index is added as a column to the dataframe. This can be useful to keep if the index functions as a ID of sorts or knowing which row it a particular observation fell in the raw dataset is important to your analysis. "
   ]
  },
  {
   "cell_type": "code",
   "execution_count": 44,
   "id": "f83fa473",
   "metadata": {
    "scrolled": true
   },
   "outputs": [
    {
     "data": {
      "text/html": [
       "<div>\n",
       "<style scoped>\n",
       "    .dataframe tbody tr th:only-of-type {\n",
       "        vertical-align: middle;\n",
       "    }\n",
       "\n",
       "    .dataframe tbody tr th {\n",
       "        vertical-align: top;\n",
       "    }\n",
       "\n",
       "    .dataframe thead th {\n",
       "        text-align: right;\n",
       "    }\n",
       "</style>\n",
       "<table border=\"1\" class=\"dataframe\">\n",
       "  <thead>\n",
       "    <tr style=\"text-align: right;\">\n",
       "      <th></th>\n",
       "      <th>index</th>\n",
       "      <th>FinancialYear</th>\n",
       "      <th>AdmissionType</th>\n",
       "      <th>AgeGroup</th>\n",
       "      <th>Diagnosis</th>\n",
       "      <th>NumberOfDischarges</th>\n",
       "    </tr>\n",
       "  </thead>\n",
       "  <tbody>\n",
       "    <tr>\n",
       "      <th>0</th>\n",
       "      <td>7284</td>\n",
       "      <td>2013/14</td>\n",
       "      <td>All</td>\n",
       "      <td>0-44 years</td>\n",
       "      <td>Cerebrovascular Disease</td>\n",
       "      <td>1239.0</td>\n",
       "    </tr>\n",
       "    <tr>\n",
       "      <th>1</th>\n",
       "      <td>7285</td>\n",
       "      <td>2013/14</td>\n",
       "      <td>All</td>\n",
       "      <td>45-64 years</td>\n",
       "      <td>Cerebrovascular Disease</td>\n",
       "      <td>6822.0</td>\n",
       "    </tr>\n",
       "    <tr>\n",
       "      <th>2</th>\n",
       "      <td>7286</td>\n",
       "      <td>2013/14</td>\n",
       "      <td>All</td>\n",
       "      <td>65-74 years</td>\n",
       "      <td>Cerebrovascular Disease</td>\n",
       "      <td>6608.0</td>\n",
       "    </tr>\n",
       "    <tr>\n",
       "      <th>3</th>\n",
       "      <td>7287</td>\n",
       "      <td>2013/14</td>\n",
       "      <td>All</td>\n",
       "      <td>75plus years</td>\n",
       "      <td>Cerebrovascular Disease</td>\n",
       "      <td>14331.0</td>\n",
       "    </tr>\n",
       "    <tr>\n",
       "      <th>4</th>\n",
       "      <td>7288</td>\n",
       "      <td>2013/14</td>\n",
       "      <td>All</td>\n",
       "      <td>under75 years</td>\n",
       "      <td>Cerebrovascular Disease</td>\n",
       "      <td>14669.0</td>\n",
       "    </tr>\n",
       "    <tr>\n",
       "      <th>...</th>\n",
       "      <td>...</td>\n",
       "      <td>...</td>\n",
       "      <td>...</td>\n",
       "      <td>...</td>\n",
       "      <td>...</td>\n",
       "      <td>...</td>\n",
       "    </tr>\n",
       "    <tr>\n",
       "      <th>955</th>\n",
       "      <td>43195</td>\n",
       "      <td>2022/23</td>\n",
       "      <td>Transfer</td>\n",
       "      <td>45-64 years</td>\n",
       "      <td>TIAs and related syndromes</td>\n",
       "      <td>262.0</td>\n",
       "    </tr>\n",
       "    <tr>\n",
       "      <th>956</th>\n",
       "      <td>43196</td>\n",
       "      <td>2022/23</td>\n",
       "      <td>Transfer</td>\n",
       "      <td>65-74 years</td>\n",
       "      <td>TIAs and related syndromes</td>\n",
       "      <td>300.0</td>\n",
       "    </tr>\n",
       "    <tr>\n",
       "      <th>957</th>\n",
       "      <td>43197</td>\n",
       "      <td>2022/23</td>\n",
       "      <td>Transfer</td>\n",
       "      <td>75plus years</td>\n",
       "      <td>TIAs and related syndromes</td>\n",
       "      <td>726.0</td>\n",
       "    </tr>\n",
       "    <tr>\n",
       "      <th>958</th>\n",
       "      <td>43198</td>\n",
       "      <td>2022/23</td>\n",
       "      <td>Transfer</td>\n",
       "      <td>under75 years</td>\n",
       "      <td>TIAs and related syndromes</td>\n",
       "      <td>572.0</td>\n",
       "    </tr>\n",
       "    <tr>\n",
       "      <th>959</th>\n",
       "      <td>43199</td>\n",
       "      <td>2022/23</td>\n",
       "      <td>Transfer</td>\n",
       "      <td>All</td>\n",
       "      <td>TIAs and related syndromes</td>\n",
       "      <td>1298.0</td>\n",
       "    </tr>\n",
       "  </tbody>\n",
       "</table>\n",
       "<p>960 rows × 6 columns</p>\n",
       "</div>"
      ],
      "text/plain": [
       "     index FinancialYear AdmissionType       AgeGroup  \\\n",
       "0     7284       2013/14           All     0-44 years   \n",
       "1     7285       2013/14           All    45-64 years   \n",
       "2     7286       2013/14           All    65-74 years   \n",
       "3     7287       2013/14           All   75plus years   \n",
       "4     7288       2013/14           All  under75 years   \n",
       "..     ...           ...           ...            ...   \n",
       "955  43195       2022/23      Transfer    45-64 years   \n",
       "956  43196       2022/23      Transfer    65-74 years   \n",
       "957  43197       2022/23      Transfer   75plus years   \n",
       "958  43198       2022/23      Transfer  under75 years   \n",
       "959  43199       2022/23      Transfer            All   \n",
       "\n",
       "                      Diagnosis  NumberOfDischarges  \n",
       "0       Cerebrovascular Disease              1239.0  \n",
       "1       Cerebrovascular Disease              6822.0  \n",
       "2       Cerebrovascular Disease              6608.0  \n",
       "3       Cerebrovascular Disease             14331.0  \n",
       "4       Cerebrovascular Disease             14669.0  \n",
       "..                          ...                 ...  \n",
       "955  TIAs and related syndromes               262.0  \n",
       "956  TIAs and related syndromes               300.0  \n",
       "957  TIAs and related syndromes               726.0  \n",
       "958  TIAs and related syndromes               572.0  \n",
       "959  TIAs and related syndromes              1298.0  \n",
       "\n",
       "[960 rows x 6 columns]"
      ]
     },
     "execution_count": 44,
     "metadata": {},
     "output_type": "execute_result"
    }
   ],
   "source": [
    "stroke.reset_index() \n",
    "# notice index is now a new column so our data frame dimensions are now 960 rows x 6 columns"
   ]
  },
  {
   "cell_type": "code",
   "execution_count": 46,
   "id": "d499f4f9",
   "metadata": {
    "scrolled": true
   },
   "outputs": [
    {
     "data": {
      "text/html": [
       "<div>\n",
       "<style scoped>\n",
       "    .dataframe tbody tr th:only-of-type {\n",
       "        vertical-align: middle;\n",
       "    }\n",
       "\n",
       "    .dataframe tbody tr th {\n",
       "        vertical-align: top;\n",
       "    }\n",
       "\n",
       "    .dataframe thead th {\n",
       "        text-align: right;\n",
       "    }\n",
       "</style>\n",
       "<table border=\"1\" class=\"dataframe\">\n",
       "  <thead>\n",
       "    <tr style=\"text-align: right;\">\n",
       "      <th></th>\n",
       "      <th>FinancialYear</th>\n",
       "      <th>AdmissionType</th>\n",
       "      <th>AgeGroup</th>\n",
       "      <th>Diagnosis</th>\n",
       "      <th>NumberOfDischarges</th>\n",
       "    </tr>\n",
       "  </thead>\n",
       "  <tbody>\n",
       "    <tr>\n",
       "      <th>0</th>\n",
       "      <td>2013/14</td>\n",
       "      <td>All</td>\n",
       "      <td>0-44 years</td>\n",
       "      <td>Cerebrovascular Disease</td>\n",
       "      <td>1239.0</td>\n",
       "    </tr>\n",
       "    <tr>\n",
       "      <th>1</th>\n",
       "      <td>2013/14</td>\n",
       "      <td>All</td>\n",
       "      <td>45-64 years</td>\n",
       "      <td>Cerebrovascular Disease</td>\n",
       "      <td>6822.0</td>\n",
       "    </tr>\n",
       "    <tr>\n",
       "      <th>2</th>\n",
       "      <td>2013/14</td>\n",
       "      <td>All</td>\n",
       "      <td>65-74 years</td>\n",
       "      <td>Cerebrovascular Disease</td>\n",
       "      <td>6608.0</td>\n",
       "    </tr>\n",
       "    <tr>\n",
       "      <th>3</th>\n",
       "      <td>2013/14</td>\n",
       "      <td>All</td>\n",
       "      <td>75plus years</td>\n",
       "      <td>Cerebrovascular Disease</td>\n",
       "      <td>14331.0</td>\n",
       "    </tr>\n",
       "    <tr>\n",
       "      <th>4</th>\n",
       "      <td>2013/14</td>\n",
       "      <td>All</td>\n",
       "      <td>under75 years</td>\n",
       "      <td>Cerebrovascular Disease</td>\n",
       "      <td>14669.0</td>\n",
       "    </tr>\n",
       "    <tr>\n",
       "      <th>...</th>\n",
       "      <td>...</td>\n",
       "      <td>...</td>\n",
       "      <td>...</td>\n",
       "      <td>...</td>\n",
       "      <td>...</td>\n",
       "    </tr>\n",
       "    <tr>\n",
       "      <th>955</th>\n",
       "      <td>2022/23</td>\n",
       "      <td>Transfer</td>\n",
       "      <td>45-64 years</td>\n",
       "      <td>TIAs and related syndromes</td>\n",
       "      <td>262.0</td>\n",
       "    </tr>\n",
       "    <tr>\n",
       "      <th>956</th>\n",
       "      <td>2022/23</td>\n",
       "      <td>Transfer</td>\n",
       "      <td>65-74 years</td>\n",
       "      <td>TIAs and related syndromes</td>\n",
       "      <td>300.0</td>\n",
       "    </tr>\n",
       "    <tr>\n",
       "      <th>957</th>\n",
       "      <td>2022/23</td>\n",
       "      <td>Transfer</td>\n",
       "      <td>75plus years</td>\n",
       "      <td>TIAs and related syndromes</td>\n",
       "      <td>726.0</td>\n",
       "    </tr>\n",
       "    <tr>\n",
       "      <th>958</th>\n",
       "      <td>2022/23</td>\n",
       "      <td>Transfer</td>\n",
       "      <td>under75 years</td>\n",
       "      <td>TIAs and related syndromes</td>\n",
       "      <td>572.0</td>\n",
       "    </tr>\n",
       "    <tr>\n",
       "      <th>959</th>\n",
       "      <td>2022/23</td>\n",
       "      <td>Transfer</td>\n",
       "      <td>All</td>\n",
       "      <td>TIAs and related syndromes</td>\n",
       "      <td>1298.0</td>\n",
       "    </tr>\n",
       "  </tbody>\n",
       "</table>\n",
       "<p>960 rows × 5 columns</p>\n",
       "</div>"
      ],
      "text/plain": [
       "    FinancialYear AdmissionType       AgeGroup                   Diagnosis  \\\n",
       "0         2013/14           All     0-44 years     Cerebrovascular Disease   \n",
       "1         2013/14           All    45-64 years     Cerebrovascular Disease   \n",
       "2         2013/14           All    65-74 years     Cerebrovascular Disease   \n",
       "3         2013/14           All   75plus years     Cerebrovascular Disease   \n",
       "4         2013/14           All  under75 years     Cerebrovascular Disease   \n",
       "..            ...           ...            ...                         ...   \n",
       "955       2022/23      Transfer    45-64 years  TIAs and related syndromes   \n",
       "956       2022/23      Transfer    65-74 years  TIAs and related syndromes   \n",
       "957       2022/23      Transfer   75plus years  TIAs and related syndromes   \n",
       "958       2022/23      Transfer  under75 years  TIAs and related syndromes   \n",
       "959       2022/23      Transfer            All  TIAs and related syndromes   \n",
       "\n",
       "     NumberOfDischarges  \n",
       "0                1239.0  \n",
       "1                6822.0  \n",
       "2                6608.0  \n",
       "3               14331.0  \n",
       "4               14669.0  \n",
       "..                  ...  \n",
       "955               262.0  \n",
       "956               300.0  \n",
       "957               726.0  \n",
       "958               572.0  \n",
       "959              1298.0  \n",
       "\n",
       "[960 rows x 5 columns]"
      ]
     },
     "execution_count": 46,
     "metadata": {},
     "output_type": "execute_result"
    }
   ],
   "source": [
    "stroke = stroke.reset_index(drop = True)\n",
    "\n",
    "stroke"
   ]
  },
  {
   "cell_type": "markdown",
   "id": "a8715280",
   "metadata": {},
   "source": [
    "### Task 13 \n",
    "\n",
    "Check the data types of the remaining 5 variables and convert them to a better data type if needed. \n"
   ]
  },
  {
   "cell_type": "markdown",
   "id": "f034b429",
   "metadata": {},
   "source": [
    "<details><summary style='color:lightblue'>HINT: Editing the dataframe. CLICK HERE TO SEE THE ANSWER. BUT REALLY TRY TO DO IT YOURSELF FIRST!</summary>\n",
    "\n",
    "In order to actually change the data types in the original dataframe, make sure to assign it back to an object since the `astype()` functions returns a copy."
   ]
  },
  {
   "cell_type": "code",
   "execution_count": 48,
   "id": "05aedc2a",
   "metadata": {},
   "outputs": [
    {
     "ename": "AttributeError",
     "evalue": "'Series' object has no attribute 'as_category'",
     "output_type": "error",
     "traceback": [
      "\u001b[0;31m---------------------------------------------------------------------------\u001b[0m",
      "\u001b[0;31mAttributeError\u001b[0m                            Traceback (most recent call last)",
      "\u001b[0;32m/var/folders/wd/r_s1bkq94kjf9m96tlrt6_zh0000gn/T/ipykernel_82959/875510087.py\u001b[0m in \u001b[0;36m?\u001b[0;34m()\u001b[0m\n\u001b[1;32m      1\u001b[0m \u001b[0;31m## your answer\u001b[0m\u001b[0;34m\u001b[0m\u001b[0;34m\u001b[0m\u001b[0m\n\u001b[0;32m----> 2\u001b[0;31m \u001b[0mstroke\u001b[0m\u001b[0;34m[\u001b[0m\u001b[0;34m'AgeGroup'\u001b[0m\u001b[0;34m]\u001b[0m\u001b[0;34m.\u001b[0m\u001b[0mas_category\u001b[0m\u001b[0;34m(\u001b[0m\u001b[0;34m)\u001b[0m\u001b[0;34m\u001b[0m\u001b[0;34m\u001b[0m\u001b[0m\n\u001b[0m",
      "\u001b[0;32m/opt/homebrew/Caskroom/miniconda/base/lib/python3.12/site-packages/pandas/core/generic.py\u001b[0m in \u001b[0;36m?\u001b[0;34m(self, name)\u001b[0m\n\u001b[1;32m   6295\u001b[0m             \u001b[0;32mand\u001b[0m \u001b[0mname\u001b[0m \u001b[0;32mnot\u001b[0m \u001b[0;32min\u001b[0m \u001b[0mself\u001b[0m\u001b[0;34m.\u001b[0m\u001b[0m_accessors\u001b[0m\u001b[0;34m\u001b[0m\u001b[0;34m\u001b[0m\u001b[0m\n\u001b[1;32m   6296\u001b[0m             \u001b[0;32mand\u001b[0m \u001b[0mself\u001b[0m\u001b[0;34m.\u001b[0m\u001b[0m_info_axis\u001b[0m\u001b[0;34m.\u001b[0m\u001b[0m_can_hold_identifiers_and_holds_name\u001b[0m\u001b[0;34m(\u001b[0m\u001b[0mname\u001b[0m\u001b[0;34m)\u001b[0m\u001b[0;34m\u001b[0m\u001b[0;34m\u001b[0m\u001b[0m\n\u001b[1;32m   6297\u001b[0m         \u001b[0;34m)\u001b[0m\u001b[0;34m:\u001b[0m\u001b[0;34m\u001b[0m\u001b[0;34m\u001b[0m\u001b[0m\n\u001b[1;32m   6298\u001b[0m             \u001b[0;32mreturn\u001b[0m \u001b[0mself\u001b[0m\u001b[0;34m[\u001b[0m\u001b[0mname\u001b[0m\u001b[0;34m]\u001b[0m\u001b[0;34m\u001b[0m\u001b[0;34m\u001b[0m\u001b[0m\n\u001b[0;32m-> 6299\u001b[0;31m         \u001b[0;32mreturn\u001b[0m \u001b[0mobject\u001b[0m\u001b[0;34m.\u001b[0m\u001b[0m__getattribute__\u001b[0m\u001b[0;34m(\u001b[0m\u001b[0mself\u001b[0m\u001b[0;34m,\u001b[0m \u001b[0mname\u001b[0m\u001b[0;34m)\u001b[0m\u001b[0;34m\u001b[0m\u001b[0;34m\u001b[0m\u001b[0m\n\u001b[0m",
      "\u001b[0;31mAttributeError\u001b[0m: 'Series' object has no attribute 'as_category'"
     ]
    }
   ],
   "source": [
    "## your answer \n",
    "stroke['AgeGroup'].as_category()"
   ]
  },
  {
   "cell_type": "markdown",
   "id": "23d7e560",
   "metadata": {},
   "source": [
    "#### Task 13 Solution "
   ]
  },
  {
   "cell_type": "code",
   "execution_count": 47,
   "id": "2127eea9",
   "metadata": {
    "scrolled": true
   },
   "outputs": [
    {
     "data": {
      "text/plain": [
       "FinancialYear          object\n",
       "AdmissionType          object\n",
       "AgeGroup               object\n",
       "Diagnosis              object\n",
       "NumberOfDischarges    float64\n",
       "dtype: object"
      ]
     },
     "execution_count": 47,
     "metadata": {},
     "output_type": "execute_result"
    }
   ],
   "source": [
    "stroke.dtypes"
   ]
  },
  {
   "cell_type": "code",
   "execution_count": 49,
   "id": "90fc5081",
   "metadata": {},
   "outputs": [
    {
     "data": {
      "text/plain": [
       "FinancialYear         category\n",
       "AdmissionType         category\n",
       "AgeGroup              category\n",
       "Diagnosis             category\n",
       "NumberOfDischarges     float64\n",
       "dtype: object"
      ]
     },
     "execution_count": 49,
     "metadata": {},
     "output_type": "execute_result"
    }
   ],
   "source": [
    "# an elegant solution would to use our knowledge of data structures to our advantage \n",
    "## and input a dictionary!\n",
    "\n",
    "stroke = stroke.astype({\"FinancialYear\": \"category\",\n",
    "                       \"AdmissionType\": \"category\",\n",
    "                       \"AgeGroup\": \"category\",\n",
    "                       \"Diagnosis\": \"category\"})\n",
    "\n",
    "stroke.dtypes"
   ]
  },
  {
   "cell_type": "markdown",
   "id": "e9cae151",
   "metadata": {},
   "source": [
    "### Task 14\n",
    "\n",
    "Look at the categories within the categorical variables - is there anything unexpected?\n"
   ]
  },
  {
   "cell_type": "markdown",
   "id": "5047d5fd",
   "metadata": {},
   "source": [
    "<details><summary style='color:lightblue'>HINT: A warning about the data not to miss. CLICK HERE TO SEE THE ANSWER. BUT REALLY TRY TO DO IT YOURSELF FIRST!</summary>\n",
    "\n",
    "It looks like some of our variables include aggregate level responses! Good thing we checked our data. Aggregate data is very common in health and social care data. It is crucial to check your data to ensure you are aware of any aggregate categories. Depending on your specific use case, you may wish to use only the aggregate levels or perhaps remove the aggregate levels and only work with the finer-grained categories."
   ]
  },
  {
   "cell_type": "code",
   "execution_count": null,
   "id": "34e45c8d",
   "metadata": {},
   "outputs": [],
   "source": [
    "## your answer\n",
    "\n"
   ]
  },
  {
   "cell_type": "markdown",
   "id": "16810a37",
   "metadata": {},
   "source": [
    "#### Task 14 Solution \n",
    "\n",
    "`AdmissionType` includes 3 unique levels as well as an aggregate \"All\" level. \n",
    "\n",
    "`AgeGroup` includes 2 aggregate levels: \"All\" and \"Under75 years\" and should be ordered. \n",
    "\n",
    "`Diagnosis` does not have any aggregate levels."
   ]
  },
  {
   "cell_type": "code",
   "execution_count": 50,
   "id": "79dca081",
   "metadata": {},
   "outputs": [
    {
     "data": {
      "text/plain": [
       "['All', 'Elective', 'Emergency', 'Transfer']\n",
       "Categories (4, object): ['All', 'Elective', 'Emergency', 'Transfer']"
      ]
     },
     "execution_count": 50,
     "metadata": {},
     "output_type": "execute_result"
    }
   ],
   "source": [
    "# there are different syntax approach you could take here \n",
    "## both do the same things, its more a stylistic preference\n",
    "\n",
    "stroke.AdmissionType.unique()"
   ]
  },
  {
   "cell_type": "code",
   "execution_count": 51,
   "id": "444e4407",
   "metadata": {},
   "outputs": [
    {
     "data": {
      "text/plain": [
       "['2013/14', '2014/15', '2015/16', '2016/17', '2017/18', '2018/19', '2019/20', '2020/21', '2021/22', '2022/23']\n",
       "Categories (10, object): ['2013/14', '2014/15', '2015/16', '2016/17', ..., '2019/20', '2020/21', '2021/22', '2022/23']"
      ]
     },
     "execution_count": 51,
     "metadata": {},
     "output_type": "execute_result"
    }
   ],
   "source": [
    "stroke.FinancialYear.unique()"
   ]
  },
  {
   "cell_type": "code",
   "execution_count": 52,
   "id": "dd9b8957",
   "metadata": {
    "scrolled": true
   },
   "outputs": [
    {
     "data": {
      "text/plain": [
       "['0-44 years', '45-64 years', '65-74 years', '75plus years', 'under75 years', 'All']\n",
       "Categories (6, object): ['0-44 years', '45-64 years', '65-74 years', '75plus years', 'All', 'under75 years']"
      ]
     },
     "execution_count": 52,
     "metadata": {},
     "output_type": "execute_result"
    }
   ],
   "source": [
    "stroke[\"AgeGroup\"].unique()"
   ]
  },
  {
   "cell_type": "code",
   "execution_count": 53,
   "id": "2108e69f",
   "metadata": {},
   "outputs": [
    {
     "data": {
      "text/plain": [
       "['Cerebrovascular Disease', 'Stroke', 'Subarachnoid Haemorrhage', 'TIAs and related syndromes']\n",
       "Categories (4, object): ['Cerebrovascular Disease', 'Stroke', 'Subarachnoid Haemorrhage', 'TIAs and related syndromes']"
      ]
     },
     "execution_count": 53,
     "metadata": {},
     "output_type": "execute_result"
    }
   ],
   "source": [
    "stroke[\"Diagnosis\"].unique()"
   ]
  },
  {
   "cell_type": "markdown",
   "id": "14db7696",
   "metadata": {},
   "source": [
    "## Task 15 \n",
    "\n",
    "`AgeGroup` is a bit messy. It should be ordered and includes 2 aggregate categories. Remove the aggregate categories and order the remaining categories.\n"
   ]
  },
  {
   "cell_type": "markdown",
   "id": "26e59a88",
   "metadata": {},
   "source": [
    "<details><summary style='color:lightblue'>HINT: Resulting data frame dimensions. CLICK HERE TO SEE</summary>\n",
    "\n",
    "Your `stroke` data frame should contain 640 rows and 5 columns \n"
   ]
  },
  {
   "cell_type": "markdown",
   "id": "161afcaa",
   "metadata": {},
   "source": [
    "<details><summary style='color:lightblue'>HINT: A new \"not\" operator. CLICK HERE TO SEE</summary>\n",
    "\n",
    "In Python is `~` is a bitwise operator for NOT"
   ]
  },
  {
   "cell_type": "code",
   "execution_count": null,
   "id": "2e609232",
   "metadata": {},
   "outputs": [],
   "source": [
    "## your answer \n",
    "stroke['AgeGroup']."
   ]
  },
  {
   "cell_type": "markdown",
   "id": "f4a2e02c",
   "metadata": {},
   "source": [
    "#### Task 15 Solution "
   ]
  },
  {
   "cell_type": "code",
   "execution_count": 54,
   "id": "af52de58",
   "metadata": {},
   "outputs": [],
   "source": [
    "stroke = stroke.loc[~stroke['AgeGroup'].isin([\"All\", \"under75 years\"])]\n",
    "\n",
    "# this code works with ~ and isin because isin returns a boolean Series\n",
    "# so to select rows whose value is not in some value(s), we can negate the boolean Series using ~"
   ]
  },
  {
   "cell_type": "code",
   "execution_count": 55,
   "id": "c8362b05",
   "metadata": {},
   "outputs": [
    {
     "data": {
      "text/plain": [
       "<bound method Series.unique of 0        0-44 years\n",
       "1       45-64 years\n",
       "2       65-74 years\n",
       "3      75plus years\n",
       "6        0-44 years\n",
       "           ...     \n",
       "951    75plus years\n",
       "954      0-44 years\n",
       "955     45-64 years\n",
       "956     65-74 years\n",
       "957    75plus years\n",
       "Name: AgeGroup, Length: 640, dtype: category\n",
       "Categories (6, object): ['0-44 years', '45-64 years', '65-74 years', '75plus years', 'All', 'under75 years']>"
      ]
     },
     "execution_count": 55,
     "metadata": {},
     "output_type": "execute_result"
    }
   ],
   "source": [
    "# unique shows us the unique values within our column/Series \n",
    "# but oh no, did we not just remove All and under75 years? Why is it still there?\n",
    "stroke.AgeGroup.unique"
   ]
  },
  {
   "cell_type": "code",
   "execution_count": 56,
   "id": "054f0bf6",
   "metadata": {},
   "outputs": [
    {
     "data": {
      "text/plain": [
       "AgeGroup\n",
       "0-44 years       160\n",
       "45-64 years      160\n",
       "65-74 years      160\n",
       "75plus years     160\n",
       "All                0\n",
       "under75 years      0\n",
       "Name: count, dtype: int64"
      ]
     },
     "execution_count": 56,
     "metadata": {},
     "output_type": "execute_result"
    }
   ],
   "source": [
    "# we can see how many times the category is used in our the column/Series (i.e., how many rows)\n",
    "stroke.AgeGroup.value_counts()\n",
    "\n",
    "# While All and under75 years are still categories, they are empty, so all is well! "
   ]
  },
  {
   "cell_type": "code",
   "execution_count": 57,
   "id": "9e993e26",
   "metadata": {
    "scrolled": true
   },
   "outputs": [
    {
     "data": {
      "text/plain": [
       "['0-44 years', '45-64 years', '65-74 years', '75plus years']\n",
       "Categories (4, object): ['0-44 years' < '45-64 years' < '65-74 years' < '75plus years']"
      ]
     },
     "execution_count": 57,
     "metadata": {},
     "output_type": "execute_result"
    }
   ],
   "source": [
    "## now for the ordering of our category variable \n",
    "AgeGroup_order = ['0-44 years', '45-64 years', '65-74 years', '75plus years']\n",
    "\n",
    "stroke[\"AgeGroup\"] = stroke[\"AgeGroup\"].cat.set_categories(AgeGroup_order, ordered = True)\n",
    "\n",
    "stroke.AgeGroup.unique()"
   ]
  },
  {
   "cell_type": "markdown",
   "id": "00366da9",
   "metadata": {},
   "source": [
    "### Task 16 \n",
    "\n",
    "Create a summary table with the average number of discharges with a stroke diagnosis by age group for all admissions in the financial years 2021/22 and 2022/23."
   ]
  },
  {
   "cell_type": "markdown",
   "id": "5df16043",
   "metadata": {},
   "source": [
    "<details><summary style='color:lightblue'>HINT: Breaking down the task. CLICK HERE TO SEE</summary>\n",
    "\n",
    "Further filtering of the data is needed for this task. THEN grouping the data in order to compute our values of interest\n"
   ]
  },
  {
   "cell_type": "code",
   "execution_count": 67,
   "id": "fb027779",
   "metadata": {},
   "outputs": [
    {
     "name": "stderr",
     "output_type": "stream",
     "text": [
      "/var/folders/wd/r_s1bkq94kjf9m96tlrt6_zh0000gn/T/ipykernel_82959/1637612309.py:4: FutureWarning: The default of observed=False is deprecated and will be changed to True in a future version of pandas. Pass observed=False to retain current behavior or observed=True to adopt the future default and silence this warning.\n",
      "  (stroke['Diagnosis'] == 'Stroke')].groupby(['FinancialYear', 'AgeGroup'])[\"NumberOfDischarges\"].mean().dropna()\n"
     ]
    },
    {
     "data": {
      "text/plain": [
       "FinancialYear  AgeGroup    \n",
       "2021/22        0-44 years        807.0\n",
       "               45-64 years      5608.0\n",
       "               65-74 years      6009.0\n",
       "               75plus years    12973.0\n",
       "2022/23        0-44 years        777.0\n",
       "               45-64 years      5565.0\n",
       "               65-74 years      6085.0\n",
       "               75plus years    13745.0\n",
       "Name: NumberOfDischarges, dtype: float64"
      ]
     },
     "execution_count": 67,
     "metadata": {},
     "output_type": "execute_result"
    }
   ],
   "source": [
    "## your answer \n",
    "stroke.loc[(stroke['AdmissionType'] == 'All') &\n",
    "            ((stroke['FinancialYear'] == '2021/22') | (stroke['FinancialYear'] == '2022/23')) &\n",
    "            (stroke['Diagnosis'] == 'Stroke')].groupby(['FinancialYear', 'AgeGroup'])[\"NumberOfDischarges\"].mean().dropna()"
   ]
  },
  {
   "cell_type": "markdown",
   "id": "00c057e4",
   "metadata": {},
   "source": [
    "#### Task 16 solution"
   ]
  },
  {
   "cell_type": "code",
   "execution_count": null,
   "id": "f3c79ae4",
   "metadata": {},
   "outputs": [],
   "source": [
    "stroke.loc[(stroke[\"AdmissionType\"] == \"All\") & \n",
    "           (stroke[\"Diagnosis\"]== \"Stroke\") & \n",
    "           (stroke[\"FinancialYear\"].isin([\"2021/22\", \"2022/23\"]))].groupby([\"FinancialYear\", \"AgeGroup\"])[\"NumberOfDischarges\"].mean().dropna()\n",
    "\n",
    "# change the order of the variables in the groupby list to see how the output changes "
   ]
  },
  {
   "cell_type": "markdown",
   "id": "b7fec6fe",
   "metadata": {},
   "source": [
    "---\n",
    "## Well done! 🎉 \n",
    "\n",
    "Well done! You have completed all of the tasks for the Python notebook for this tutorial. If you have not done so yet, now move to the R notebook.\n",
    "\n",
    "Do not forget your 3 stars, a wish, and a step mini-diaries for this week once you have completed the tutorial notebooks and content for the week. \n"
   ]
  },
  {
   "cell_type": "markdown",
   "id": "7ec60837",
   "metadata": {},
   "source": [
    "---\n",
    "*Dr. Brittany Blankinship (2024)*"
   ]
  }
 ],
 "metadata": {
  "kernelspec": {
   "display_name": "Python 3 (ipykernel)",
   "language": "python",
   "name": "python3"
  },
  "language_info": {
   "codemirror_mode": {
    "name": "ipython",
    "version": 3
   },
   "file_extension": ".py",
   "mimetype": "text/x-python",
   "name": "python",
   "nbconvert_exporter": "python",
   "pygments_lexer": "ipython3",
   "version": "3.12.2"
  }
 },
 "nbformat": 4,
 "nbformat_minor": 5
}
